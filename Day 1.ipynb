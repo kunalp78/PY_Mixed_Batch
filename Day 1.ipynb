{
 "cells": [
  {
   "cell_type": "code",
   "execution_count": 2,
   "id": "749336ed-c7d2-4493-a141-16a65c9ce9ef",
   "metadata": {},
   "outputs": [
    {
     "name": "stdout",
     "output_type": "stream",
     "text": [
      "Hello I am learning python\n"
     ]
    }
   ],
   "source": [
    "print(\"Hello I am learning python\")"
   ]
  },
  {
   "cell_type": "code",
   "execution_count": 3,
   "id": "4d43807d-1395-48d6-be9e-ae68a3d9a9aa",
   "metadata": {},
   "outputs": [
    {
     "data": {
      "text/plain": [
       "3"
      ]
     },
     "execution_count": 3,
     "metadata": {},
     "output_type": "execute_result"
    }
   ],
   "source": [
    "1 + 2"
   ]
  },
  {
   "cell_type": "code",
   "execution_count": 4,
   "id": "2cfa521b-5567-44b7-9414-e7c02c131478",
   "metadata": {},
   "outputs": [
    {
     "data": {
      "text/plain": [
       "2"
      ]
     },
     "execution_count": 4,
     "metadata": {},
     "output_type": "execute_result"
    }
   ],
   "source": [
    "4-2"
   ]
  },
  {
   "cell_type": "code",
   "execution_count": 5,
   "id": "cb4e56bd-a4fd-4a47-916a-5d65499dc71c",
   "metadata": {},
   "outputs": [
    {
     "data": {
      "text/plain": [
       "15"
      ]
     },
     "execution_count": 5,
     "metadata": {},
     "output_type": "execute_result"
    }
   ],
   "source": [
    "5*3"
   ]
  },
  {
   "cell_type": "code",
   "execution_count": 6,
   "id": "3a96c0c1-86f8-4081-a1e1-b959b80e3bec",
   "metadata": {},
   "outputs": [
    {
     "data": {
      "text/plain": [
       "5.0"
      ]
     },
     "execution_count": 6,
     "metadata": {},
     "output_type": "execute_result"
    }
   ],
   "source": [
    "10/2"
   ]
  },
  {
   "cell_type": "code",
   "execution_count": 8,
   "id": "eb6d80d7-115e-45d7-9313-f771ee7a270b",
   "metadata": {},
   "outputs": [
    {
     "data": {
      "text/plain": [
       "1"
      ]
     },
     "execution_count": 8,
     "metadata": {},
     "output_type": "execute_result"
    }
   ],
   "source": [
    "3^2  # ^ is bitwise XOR operator"
   ]
  },
  {
   "cell_type": "code",
   "execution_count": 9,
   "id": "5f776f1e-0ec1-42e8-8ccb-3730a6675a7a",
   "metadata": {},
   "outputs": [
    {
     "data": {
      "text/plain": [
       "9"
      ]
     },
     "execution_count": 9,
     "metadata": {},
     "output_type": "execute_result"
    }
   ],
   "source": [
    "3**2"
   ]
  },
  {
   "cell_type": "code",
   "execution_count": 11,
   "id": "27a7c8eb-0158-4f63-a28d-516ade51d399",
   "metadata": {},
   "outputs": [
    {
     "data": {
      "text/plain": [
       "1.6666666666666667"
      ]
     },
     "execution_count": 11,
     "metadata": {},
     "output_type": "execute_result"
    }
   ],
   "source": [
    "5/3  #shift + enter"
   ]
  },
  {
   "cell_type": "code",
   "execution_count": 12,
   "id": "0c1c015a-a4d3-45aa-b659-ed82be99ba4b",
   "metadata": {},
   "outputs": [
    {
     "data": {
      "text/plain": [
       "2"
      ]
     },
     "execution_count": 12,
     "metadata": {},
     "output_type": "execute_result"
    }
   ],
   "source": [
    "5%3"
   ]
  },
  {
   "cell_type": "code",
   "execution_count": 13,
   "id": "b5c48603-3b0e-4103-aa48-25bc0e9989ce",
   "metadata": {},
   "outputs": [],
   "source": [
    "val = 2"
   ]
  },
  {
   "cell_type": "code",
   "execution_count": 14,
   "id": "34acb32b-fe9a-4202-adc1-f0e256e5b331",
   "metadata": {},
   "outputs": [
    {
     "name": "stdout",
     "output_type": "stream",
     "text": [
      "2\n"
     ]
    }
   ],
   "source": [
    "print(val)"
   ]
  },
  {
   "cell_type": "code",
   "execution_count": 15,
   "id": "95c6f1b1-67a9-46e0-afaf-98e548cd4f66",
   "metadata": {},
   "outputs": [
    {
     "data": {
      "text/plain": [
       "30720"
      ]
     },
     "execution_count": 15,
     "metadata": {},
     "output_type": "execute_result"
    }
   ],
   "source": [
    "1024 * 30"
   ]
  },
  {
   "cell_type": "code",
   "execution_count": 16,
   "id": "565dbf63-d1a4-4d0b-9ff9-c57cd760dd76",
   "metadata": {},
   "outputs": [
    {
     "data": {
      "text/plain": [
       "30720"
      ]
     },
     "execution_count": 16,
     "metadata": {},
     "output_type": "execute_result"
    }
   ],
   "source": [
    "val = 1024\n",
    "val * 30"
   ]
  },
  {
   "cell_type": "code",
   "execution_count": null,
   "id": "c8513464-60ca-4128-900d-67b2e0e173f9",
   "metadata": {},
   "outputs": [],
   "source": [
    "1) 1024\n",
    "2) 30720"
   ]
  },
  {
   "cell_type": "code",
   "execution_count": 17,
   "id": "7b526c9c-a68f-46e5-8dda-6bd50c66decb",
   "metadata": {},
   "outputs": [
    {
     "name": "stdout",
     "output_type": "stream",
     "text": [
      "1024\n"
     ]
    }
   ],
   "source": [
    "print(val)"
   ]
  },
  {
   "cell_type": "code",
   "execution_count": 18,
   "id": "09d7aa47-19f8-4e34-957a-2eb77a771c5c",
   "metadata": {},
   "outputs": [
    {
     "name": "stdout",
     "output_type": "stream",
     "text": [
      "30720\n"
     ]
    }
   ],
   "source": [
    "val = val * 30\n",
    "print(val)"
   ]
  },
  {
   "cell_type": "markdown",
   "id": "2d52926a-80ab-4119-9ecc-27e3dce1a45c",
   "metadata": {},
   "source": [
    "integer data type:\n",
    "  ... -1, -22, 0, 2, 22 ...\n",
    "decimal data type (float in python):\n",
    "    1.0, 0.6, 0.5, -0.88, -0.6987\n",
    "string data type (str in python)\n",
    "    \"santosh\", 'kiran', \"\"\"purushotam\"\"\", '''abhimanyu'''\n",
    "Boolean (True or False) (bool data type)\n",
    "None data type\n",
    "complex data type\n",
    "    3 + 2j, 5 + 8j, 9 - 6j, -9j, -1j\n",
    "\n",
    "list data type -> [1, 2, \"purushottam\", 3 + 2j, True] #flexible\n",
    "tuple data type -> (1, 2, \"kiran\", True) #fixed\n"
   ]
  },
  {
   "cell_type": "code",
   "execution_count": 19,
   "id": "6fd58e03-01fb-47d6-bb13-e1600005459f",
   "metadata": {},
   "outputs": [
    {
     "name": "stdout",
     "output_type": "stream",
     "text": [
      "sumith\n"
     ]
    }
   ],
   "source": [
    "a = 'sumith'\n",
    "print(a)"
   ]
  },
  {
   "cell_type": "code",
   "execution_count": 20,
   "id": "aed9df22-cc2f-4c07-ba35-282edf41fbbe",
   "metadata": {},
   "outputs": [],
   "source": [
    "b = True"
   ]
  },
  {
   "cell_type": "code",
   "execution_count": 21,
   "id": "b8feb5f7-d411-4b86-8886-1679b96af7ec",
   "metadata": {},
   "outputs": [],
   "source": [
    "kiran = 3 + 2j"
   ]
  },
  {
   "cell_type": "code",
   "execution_count": null,
   "id": "b175e2ab-62f3-4344-8aa5-c84a48d12722",
   "metadata": {},
   "outputs": [],
   "source": []
  },
  {
   "cell_type": "code",
   "execution_count": null,
   "id": "fd64af6a-ab23-4c7b-8285-db75587eb11d",
   "metadata": {},
   "outputs": [],
   "source": []
  },
  {
   "cell_type": "code",
   "execution_count": null,
   "id": "1ed3b2bb-7c43-4b03-ad60-70ecdb49b40d",
   "metadata": {},
   "outputs": [],
   "source": []
  },
  {
   "cell_type": "code",
   "execution_count": null,
   "id": "74f36d45-2a58-48d1-9dc3-924743f3a55c",
   "metadata": {},
   "outputs": [],
   "source": [
    "sumith\n",
    "(string, None, not a datatype)"
   ]
  },
  {
   "cell_type": "code",
   "execution_count": 22,
   "id": "6c458cc9-e88d-47f7-82d8-d57e6fe38f2c",
   "metadata": {},
   "outputs": [
    {
     "data": {
      "text/plain": [
       "'sumith'"
      ]
     },
     "execution_count": 22,
     "metadata": {},
     "output_type": "execute_result"
    }
   ],
   "source": [
    "\"sumith\""
   ]
  },
  {
   "cell_type": "code",
   "execution_count": 23,
   "id": "967f7293-74da-4a29-bd2f-bbae242d1ae2",
   "metadata": {},
   "outputs": [
    {
     "ename": "NameError",
     "evalue": "name 'sumith' is not defined",
     "output_type": "error",
     "traceback": [
      "\u001b[1;31m---------------------------------------------------------------------------\u001b[0m",
      "\u001b[1;31mNameError\u001b[0m                                 Traceback (most recent call last)",
      "Cell \u001b[1;32mIn[23], line 1\u001b[0m\n\u001b[1;32m----> 1\u001b[0m \u001b[43msumith\u001b[49m\n",
      "\u001b[1;31mNameError\u001b[0m: name 'sumith' is not defined"
     ]
    }
   ],
   "source": [
    "sumith = \"classmate\""
   ]
  },
  {
   "cell_type": "code",
   "execution_count": 24,
   "id": "c942a559-4175-43ea-85cb-3a0f7116e813",
   "metadata": {},
   "outputs": [],
   "source": [
    "sumith = \"classmate\""
   ]
  },
  {
   "cell_type": "code",
   "execution_count": 25,
   "id": "129dbb72-9c59-4b71-9d94-d052f1a10e61",
   "metadata": {},
   "outputs": [
    {
     "name": "stdout",
     "output_type": "stream",
     "text": [
      "classmate\n"
     ]
    }
   ],
   "source": [
    "print(sumith)"
   ]
  },
  {
   "cell_type": "code",
   "execution_count": 26,
   "id": "0c4176be-96bb-4bd5-a49a-40bc352872c6",
   "metadata": {},
   "outputs": [
    {
     "name": "stdout",
     "output_type": "stream",
     "text": [
      "True\n"
     ]
    }
   ],
   "source": [
    "print(b)"
   ]
  },
  {
   "cell_type": "code",
   "execution_count": 27,
   "id": "21b84213-a90c-434b-a28e-f0066056533a",
   "metadata": {},
   "outputs": [
    {
     "name": "stdout",
     "output_type": "stream",
     "text": [
      "sumith\n"
     ]
    }
   ],
   "source": [
    "print(a)"
   ]
  },
  {
   "cell_type": "code",
   "execution_count": 28,
   "id": "22921621-9f31-484d-bf24-bb4e62a04cf2",
   "metadata": {},
   "outputs": [
    {
     "data": {
      "text/plain": [
       "bool"
      ]
     },
     "execution_count": 28,
     "metadata": {},
     "output_type": "execute_result"
    }
   ],
   "source": [
    "type(b)"
   ]
  },
  {
   "cell_type": "code",
   "execution_count": 29,
   "id": "7d1e254c-5dff-4945-8dff-8901016441a1",
   "metadata": {},
   "outputs": [
    {
     "data": {
      "text/plain": [
       "str"
      ]
     },
     "execution_count": 29,
     "metadata": {},
     "output_type": "execute_result"
    }
   ],
   "source": [
    "type(sumith)"
   ]
  },
  {
   "cell_type": "code",
   "execution_count": 30,
   "id": "2473bf78-6955-4038-b935-585734fe42f0",
   "metadata": {},
   "outputs": [
    {
     "data": {
      "text/plain": [
       "str"
      ]
     },
     "execution_count": 30,
     "metadata": {},
     "output_type": "execute_result"
    }
   ],
   "source": [
    "type('I am going')"
   ]
  },
  {
   "cell_type": "code",
   "execution_count": 31,
   "id": "31bdc799-6470-42aa-9ece-ddafa052b02e",
   "metadata": {},
   "outputs": [
    {
     "data": {
      "text/plain": [
       "complex"
      ]
     },
     "execution_count": 31,
     "metadata": {},
     "output_type": "execute_result"
    }
   ],
   "source": [
    "type(3 + 6j)"
   ]
  },
  {
   "cell_type": "code",
   "execution_count": 32,
   "id": "f0eb5662-f123-4a22-bcbd-6335a2d1ad99",
   "metadata": {},
   "outputs": [
    {
     "data": {
      "text/plain": [
       "NoneType"
      ]
     },
     "execution_count": 32,
     "metadata": {},
     "output_type": "execute_result"
    }
   ],
   "source": [
    "type(None)"
   ]
  },
  {
   "cell_type": "code",
   "execution_count": 33,
   "id": "0899d5e1-5005-45b7-b170-1c73ac0c572c",
   "metadata": {},
   "outputs": [
    {
     "data": {
      "text/plain": [
       "float"
      ]
     },
     "execution_count": 33,
     "metadata": {},
     "output_type": "execute_result"
    }
   ],
   "source": [
    "type(1.5)"
   ]
  },
  {
   "cell_type": "code",
   "execution_count": 34,
   "id": "79129baf-291d-459a-9dd3-78491bb1a2f1",
   "metadata": {},
   "outputs": [
    {
     "data": {
      "text/plain": [
       "str"
      ]
     },
     "execution_count": 34,
     "metadata": {},
     "output_type": "execute_result"
    }
   ],
   "source": [
    "type(\"123\")"
   ]
  },
  {
   "cell_type": "code",
   "execution_count": 35,
   "id": "4fe2b40e-a758-4914-8a40-6a956148890d",
   "metadata": {},
   "outputs": [
    {
     "data": {
      "text/plain": [
       "str"
      ]
     },
     "execution_count": 35,
     "metadata": {},
     "output_type": "execute_result"
    }
   ],
   "source": [
    "type('5 + 7j')"
   ]
  },
  {
   "cell_type": "markdown",
   "id": "409c69fd-9a4f-4dae-8007-d79ea1d7fe65",
   "metadata": {},
   "source": [
    "# Immutable data types\n",
    "- tuple\n",
    "- int\n",
    "- float\n",
    "- None\n",
    "- complex\n",
    "- bool\n",
    "- str\n",
    "\n",
    "# Mutable data types\n",
    "- list\n",
    "- set\n",
    "- dict\n",
    "- user defined classes\n",
    "\n"
   ]
  },
  {
   "cell_type": "markdown",
   "id": "5679cbe2-442e-48e5-85bc-8c6a10e79a71",
   "metadata": {},
   "source": [
    "# H/w \n",
    "`Read on operators`"
   ]
  },
  {
   "cell_type": "code",
   "execution_count": null,
   "id": "fbedf1e3-7ce4-4310-9292-039abe46bc72",
   "metadata": {},
   "outputs": [],
   "source": []
  }
 ],
 "metadata": {
  "kernelspec": {
   "display_name": "Python 3 (ipykernel)",
   "language": "python",
   "name": "python3"
  },
  "language_info": {
   "codemirror_mode": {
    "name": "ipython",
    "version": 3
   },
   "file_extension": ".py",
   "mimetype": "text/x-python",
   "name": "python",
   "nbconvert_exporter": "python",
   "pygments_lexer": "ipython3",
   "version": "3.12.6"
  }
 },
 "nbformat": 4,
 "nbformat_minor": 5
}
