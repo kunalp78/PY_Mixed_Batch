{
 "cells": [
  {
   "cell_type": "code",
   "execution_count": 2,
   "id": "b183ad44-2065-4df7-a5fe-f4aba292bcb4",
   "metadata": {},
   "outputs": [
    {
     "data": {
      "text/plain": [
       "str"
      ]
     },
     "execution_count": 2,
     "metadata": {},
     "output_type": "execute_result"
    }
   ],
   "source": [
    "# make a function which takes exatcly one argument and returns the type of that argument\n",
    "# get_type_value(\"hey\") --> str\n",
    "def get_type_val(val):\n",
    "    return type(val)\n",
    "get_type_val(\"val\")"
   ]
  },
  {
   "cell_type": "code",
   "execution_count": 3,
   "id": "bc8fdfc1-457e-4df6-8b96-1963d7ecfbc6",
   "metadata": {},
   "outputs": [],
   "source": [
    "# isinstance()\n",
    "# str, int, float, complex, None, bool\n",
    "def get_type_val(val):\n",
    "    if isinstance(val, str):\n",
    "        return str\n",
    "    elif isinstance(val, int):\n",
    "        return int\n",
    "    elif isinstance(val, float):\n",
    "        return float\n",
    "    elif isinstance(val, complex):\n",
    "        return complex\n",
    "    elif isinstance(val, bool):\n",
    "        return bool\n",
    "    else:\n",
    "        return \"Not supported type\""
   ]
  },
  {
   "cell_type": "code",
   "execution_count": 4,
   "id": "42c33bed-0b58-4fe9-80a9-a447f50f2e0f",
   "metadata": {},
   "outputs": [
    {
     "data": {
      "text/plain": [
       "complex"
      ]
     },
     "execution_count": 4,
     "metadata": {},
     "output_type": "execute_result"
    }
   ],
   "source": [
    "get_type_val(3 +5j)"
   ]
  },
  {
   "cell_type": "code",
   "execution_count": 5,
   "id": "d9c23b83-9590-4bcc-84bb-83840d74cf05",
   "metadata": {},
   "outputs": [
    {
     "data": {
      "text/plain": [
       "str"
      ]
     },
     "execution_count": 5,
     "metadata": {},
     "output_type": "execute_result"
    }
   ],
   "source": [
    "get_type_val(\"3+57j\")"
   ]
  },
  {
   "cell_type": "code",
   "execution_count": 8,
   "id": "c9a07f89-e546-4f3a-a7c2-08a4504f4b10",
   "metadata": {},
   "outputs": [
    {
     "data": {
      "text/plain": [
       "int"
      ]
     },
     "execution_count": 8,
     "metadata": {},
     "output_type": "execute_result"
    }
   ],
   "source": [
    "get_type_val(2)"
   ]
  },
  {
   "cell_type": "code",
   "execution_count": 9,
   "id": "9a9031fc-7716-4af7-a950-7a50ebef88fe",
   "metadata": {},
   "outputs": [],
   "source": [
    "# class and object\n",
    "class Car:\n",
    "    def __init__(self, brand, model, year):\n",
    "        self.brand = brand\n",
    "        self.model = model\n",
    "        self.year = year\n",
    "\n",
    "    def accelerate(self):\n",
    "        print(\"accelerating..\")\n",
    "    def apply_break(self):\n",
    "        print(\"Stopped!!\")"
   ]
  },
  {
   "cell_type": "code",
   "execution_count": 10,
   "id": "d8eb3b2b-261b-46d1-adb4-0c12f442a9a5",
   "metadata": {},
   "outputs": [],
   "source": [
    "car1 = Car(\"TATA\", \"Nano\", \"2006\")"
   ]
  },
  {
   "cell_type": "code",
   "execution_count": 11,
   "id": "4378eac6-1d13-4d3d-aa2e-5048f7bf0664",
   "metadata": {},
   "outputs": [
    {
     "data": {
      "text/plain": [
       "'TATA'"
      ]
     },
     "execution_count": 11,
     "metadata": {},
     "output_type": "execute_result"
    }
   ],
   "source": [
    "car1.brand"
   ]
  },
  {
   "cell_type": "code",
   "execution_count": 12,
   "id": "b46b805f-c571-49dd-b2b3-84652aae4f46",
   "metadata": {},
   "outputs": [
    {
     "name": "stdout",
     "output_type": "stream",
     "text": [
      "accelerating..\n"
     ]
    }
   ],
   "source": [
    "car1.accelerate()"
   ]
  },
  {
   "cell_type": "code",
   "execution_count": 13,
   "id": "22b7f0c8-22cd-4208-89a1-3a79b17061e0",
   "metadata": {},
   "outputs": [],
   "source": [
    "car1.brand = \"Maruti\""
   ]
  },
  {
   "cell_type": "code",
   "execution_count": 14,
   "id": "62089e20-d1ef-42d7-ab51-390a658744ca",
   "metadata": {},
   "outputs": [
    {
     "data": {
      "text/plain": [
       "'Maruti'"
      ]
     },
     "execution_count": 14,
     "metadata": {},
     "output_type": "execute_result"
    }
   ],
   "source": [
    "car1.brand"
   ]
  },
  {
   "cell_type": "code",
   "execution_count": 15,
   "id": "db930c79-2c67-4312-a9d8-db0597a050d9",
   "metadata": {},
   "outputs": [],
   "source": [
    "# class and object\n",
    "class Car:\n",
    "    def __init__(self, brand, model, year):\n",
    "        self.__brand = brand\n",
    "        self.__model = model\n",
    "        self.__year = year\n",
    "\n",
    "    def accelerate(self):\n",
    "        print(\"accelerating..\")\n",
    "    def apply_break(self):\n",
    "        print(\"Stopped!!\")"
   ]
  },
  {
   "cell_type": "code",
   "execution_count": 16,
   "id": "83e058a3-03cf-4c66-a78a-3c0cef448993",
   "metadata": {},
   "outputs": [],
   "source": [
    "car1 = Car(\"TATA\", \"Curvv\", \"2024\")"
   ]
  },
  {
   "cell_type": "code",
   "execution_count": 17,
   "id": "605e8f31-a8bb-45fb-9295-eef23cd2596b",
   "metadata": {},
   "outputs": [
    {
     "ename": "AttributeError",
     "evalue": "'Car' object has no attribute '__brand'",
     "output_type": "error",
     "traceback": [
      "\u001b[1;31m---------------------------------------------------------------------------\u001b[0m",
      "\u001b[1;31mAttributeError\u001b[0m                            Traceback (most recent call last)",
      "Cell \u001b[1;32mIn[17], line 1\u001b[0m\n\u001b[1;32m----> 1\u001b[0m \u001b[43mcar1\u001b[49m\u001b[38;5;241;43m.\u001b[39;49m\u001b[43m__brand\u001b[49m\n",
      "\u001b[1;31mAttributeError\u001b[0m: 'Car' object has no attribute '__brand'"
     ]
    }
   ],
   "source": [
    "car1.__brand"
   ]
  },
  {
   "cell_type": "code",
   "execution_count": 18,
   "id": "fa3fcf17-8129-4245-8f7c-f3c6aa2b00d3",
   "metadata": {},
   "outputs": [],
   "source": [
    "class Car:\n",
    "    def __init__(self, brand, model, year):\n",
    "        self.__brand = brand\n",
    "        self.__model = model\n",
    "        self.__year = year\n",
    "\n",
    "    def get_brand(self):\n",
    "        print(self.__brand)\n",
    "\n",
    "    def get_model(self):\n",
    "        print(self.__model)\n",
    "\n",
    "    def get_year(self):\n",
    "        print(self.__year)\n",
    "    \n",
    "    def accelerate(self):\n",
    "        print(\"accelerating..\")\n",
    "    def apply_break(self):\n",
    "        print(\"Stopped!!\")"
   ]
  },
  {
   "cell_type": "code",
   "execution_count": 19,
   "id": "3a33ab83-3666-4d58-97fd-6e881742765b",
   "metadata": {},
   "outputs": [],
   "source": [
    "car1 = Car(\"TATA\", \"Nexon\", \"2024\")"
   ]
  },
  {
   "cell_type": "code",
   "execution_count": 20,
   "id": "d293140c-73f9-40b6-b9d3-e8d5693ff9b5",
   "metadata": {},
   "outputs": [
    {
     "name": "stdout",
     "output_type": "stream",
     "text": [
      "Nexon\n"
     ]
    }
   ],
   "source": [
    "car1.get_model()"
   ]
  },
  {
   "cell_type": "code",
   "execution_count": 21,
   "id": "b6948d64-1e59-44db-9a3c-3f7bfc2f5e13",
   "metadata": {},
   "outputs": [],
   "source": [
    "class Car:\n",
    "    def __init__(self, brand, model, year):\n",
    "        self.__brand = brand\n",
    "        self.__model = model\n",
    "        self.__year = year\n",
    "\n",
    "    def get_brand(self):\n",
    "        print(self.__brand)\n",
    "\n",
    "    def get_model(self):\n",
    "        print(self.__model)\n",
    "\n",
    "    def get_year(self):\n",
    "        print(self.__year)\n",
    "\n",
    "    def set_model(self, model):\n",
    "        self.__model = model\n",
    "        print(f\"hey your model is saved: {self.__model}\")\n",
    "\n",
    "    def set_year(self, year):\n",
    "        self.__year = year\n",
    "        print(\"We have set the year {}\".format(self.__year))\n",
    "    \n",
    "    def accelerate(self):\n",
    "        print(\"accelerating..\")\n",
    "    def apply_break(self):\n",
    "        print(\"Stopped!!\")"
   ]
  },
  {
   "cell_type": "code",
   "execution_count": 22,
   "id": "966623ea-f38b-4fc5-a1f3-39888e412ce4",
   "metadata": {},
   "outputs": [],
   "source": [
    "car1 = Car(\"TATA\", \"Punch\", \"2019\")"
   ]
  },
  {
   "cell_type": "code",
   "execution_count": 23,
   "id": "6f93ada6-5330-4d94-a0b1-23c51396eb94",
   "metadata": {},
   "outputs": [
    {
     "name": "stdout",
     "output_type": "stream",
     "text": [
      "Punch\n"
     ]
    }
   ],
   "source": [
    "car1.get_model()"
   ]
  },
  {
   "cell_type": "code",
   "execution_count": 24,
   "id": "403fb0be-3ca5-4bd7-b0e1-13d3f5943a94",
   "metadata": {},
   "outputs": [
    {
     "name": "stdout",
     "output_type": "stream",
     "text": [
      "hey your model is saved: Nexon\n"
     ]
    }
   ],
   "source": [
    "car1.set_model(\"Nexon\")"
   ]
  },
  {
   "cell_type": "code",
   "execution_count": 25,
   "id": "85f127cd-c8e2-4e73-aa21-66a178f19612",
   "metadata": {},
   "outputs": [
    {
     "name": "stdout",
     "output_type": "stream",
     "text": [
      "Nexon\n"
     ]
    }
   ],
   "source": [
    "car1.get_model()"
   ]
  },
  {
   "cell_type": "code",
   "execution_count": 26,
   "id": "06954eb4-df74-4fb6-af6a-2406b31bd77f",
   "metadata": {},
   "outputs": [],
   "source": [
    "car2 = Car(\"Maruti\", \"800\", 1980)"
   ]
  },
  {
   "cell_type": "code",
   "execution_count": 27,
   "id": "e6beff43-4b62-4164-986c-27b12cd2a3bd",
   "metadata": {},
   "outputs": [
    {
     "name": "stdout",
     "output_type": "stream",
     "text": [
      "800\n"
     ]
    }
   ],
   "source": [
    "car2.get_model()"
   ]
  },
  {
   "cell_type": "code",
   "execution_count": 28,
   "id": "e900649a-8897-4160-a07f-01e8f99ab169",
   "metadata": {},
   "outputs": [],
   "source": [
    "class Car:\n",
    "    Wheels = 4\n",
    "    def __init__(self, brand, model, year):\n",
    "        self.__brand = brand\n",
    "        self.__model = model\n",
    "        self.__year = year\n",
    "\n",
    "    def get_brand(self):\n",
    "        print(self.__brand)\n",
    "\n",
    "    def get_model(self):\n",
    "        print(self.__model)\n",
    "\n",
    "    def get_year(self):\n",
    "        print(self.__year)\n",
    "\n",
    "    def set_model(self, model):\n",
    "        self.__model = model\n",
    "        print(f\"hey your model is saved: {self.__model}\")\n",
    "\n",
    "    def set_year(self, year):\n",
    "        self.__year = year\n",
    "        print(\"We have set the year {}\".format(self.__year))\n",
    "    \n",
    "    def accelerate(self):\n",
    "        print(\"accelerating..\")\n",
    "    def apply_break(self):\n",
    "        print(\"Stopped!!\")"
   ]
  },
  {
   "cell_type": "code",
   "execution_count": 29,
   "id": "688495c8-445d-4676-9287-c80e181f9d80",
   "metadata": {},
   "outputs": [],
   "source": [
    "car1 = Car(\"TATA\", \"Punch\", \"2019\")"
   ]
  },
  {
   "cell_type": "code",
   "execution_count": 30,
   "id": "6e384f46-6b1b-4063-97a0-784b1f09ff8d",
   "metadata": {},
   "outputs": [],
   "source": [
    "car2 = Car(\"Maruti\", \"800\", 1980)"
   ]
  },
  {
   "cell_type": "code",
   "execution_count": 31,
   "id": "b5029479-67f9-4b3b-bca3-412244252942",
   "metadata": {},
   "outputs": [
    {
     "data": {
      "text/plain": [
       "4"
      ]
     },
     "execution_count": 31,
     "metadata": {},
     "output_type": "execute_result"
    }
   ],
   "source": [
    "car1.Wheels"
   ]
  },
  {
   "cell_type": "code",
   "execution_count": 32,
   "id": "eafc972f-689e-4b41-8ddf-c4ff27164ef3",
   "metadata": {},
   "outputs": [
    {
     "data": {
      "text/plain": [
       "4"
      ]
     },
     "execution_count": 32,
     "metadata": {},
     "output_type": "execute_result"
    }
   ],
   "source": [
    "car2.Wheels"
   ]
  },
  {
   "cell_type": "code",
   "execution_count": 33,
   "id": "f8fac347-f76c-4584-8909-ec3edc5e93ad",
   "metadata": {},
   "outputs": [],
   "source": [
    "class Car:\n",
    "    Wheels = 4\n",
    "    def __init__(self, brand, model, year):\n",
    "        self.__brand = brand\n",
    "        self.__model = model\n",
    "        self.__year = year\n",
    "\n",
    "    def get_brand(self):\n",
    "        print(self.__brand)\n",
    "\n",
    "    def get_model(self):\n",
    "        print(self.__model)\n",
    "\n",
    "    def get_year(self):\n",
    "        print(self.__year)\n",
    "\n",
    "    def set_model(self, model):\n",
    "        self.__model = model\n",
    "        print(f\"hey your model is saved: {self.__model}\")\n",
    "\n",
    "    def set_year(self, year):\n",
    "        self.__year = year\n",
    "        print(\"We have set the year {}\".format(self.__year))\n",
    "    \n",
    "    def accelerate(self):\n",
    "        print(\"accelerating..\")\n",
    "    def apply_break(self):\n",
    "        print(\"Stopped!!\")\n",
    "\n",
    "    @classmethod\n",
    "    def change_no_of_wheels(cls, wheels):\n",
    "        cls.Wheels = wheels"
   ]
  },
  {
   "cell_type": "code",
   "execution_count": 34,
   "id": "052c698b-d59f-4545-811f-d8c1f5586b66",
   "metadata": {},
   "outputs": [],
   "source": [
    "car2 = Car(\"Maruti\", \"800\", 1980)"
   ]
  },
  {
   "cell_type": "code",
   "execution_count": 35,
   "id": "db1bbf3a-bcb5-4152-9bd3-9f29f406aa38",
   "metadata": {},
   "outputs": [],
   "source": [
    "Car.change_no_of_wheels(5)"
   ]
  },
  {
   "cell_type": "code",
   "execution_count": 36,
   "id": "0099e421-9769-499b-9fb3-4f49f8f13cfb",
   "metadata": {},
   "outputs": [
    {
     "data": {
      "text/plain": [
       "5"
      ]
     },
     "execution_count": 36,
     "metadata": {},
     "output_type": "execute_result"
    }
   ],
   "source": [
    "Car.Wheels"
   ]
  },
  {
   "cell_type": "code",
   "execution_count": 37,
   "id": "9ea50818-5a76-404a-8764-c9955fa4171b",
   "metadata": {},
   "outputs": [],
   "source": [
    "# Hierachal Inheritence\n",
    "class Car:\n",
    "    def __init__(self, brand, model, year):\n",
    "        self.brand = brand\n",
    "        self.model = model\n",
    "        self.year = year\n",
    "\n",
    "    def accelerate(self):\n",
    "        print(\"accelerating..\")\n",
    "    def apply_break(self):\n",
    "        print(\"Stopped!!\")\n",
    "\n",
    "class Hatchback(Car):\n",
    "    def printdetails(self):\n",
    "        print(\"Brand: {}\".format(self.brand))\n",
    "    def sunroof(self):\n",
    "        print(\"Not having this feature\")\n",
    "\n",
    "class SUV(Car):\n",
    "    def sunroof(self):\n",
    "        print(\"It Available\")\n",
    "\n",
    "car1 = Hatchback(\"Maruti\", \"Alto\", \"2021\")"
   ]
  },
  {
   "cell_type": "code",
   "execution_count": 38,
   "id": "11f441bd-ea76-4c27-813b-ead83c4620b7",
   "metadata": {},
   "outputs": [
    {
     "name": "stdout",
     "output_type": "stream",
     "text": [
      "Brand: Maruti\n"
     ]
    }
   ],
   "source": [
    "car1.printdetails()"
   ]
  },
  {
   "cell_type": "code",
   "execution_count": null,
   "id": "6ec935b5-27f8-462f-9244-af38b3db81aa",
   "metadata": {},
   "outputs": [],
   "source": [
    "Single inheritence\n",
    "A --> B\n",
    "Multilevel inheritence\n",
    "A --> B --> C\n",
    "Multiple Inheritence\n",
    "A  B\n",
    "|  |\n",
    "----\n",
    " |\n",
    " C\n",
    "Hieracichal inerihtence\n",
    "A -> (B, C)\n",
    "Hybrid inheritence\n",
    "  A\n",
    "  |\n",
    "-----\n",
    "|   |\n",
    "B   C\n",
    "|   |\n",
    "-----\n",
    "  |\n",
    "  D\n",
    "\n"
   ]
  },
  {
   "cell_type": "code",
   "execution_count": 45,
   "id": "73347b1f-0df9-458c-b777-e5286e795b3d",
   "metadata": {},
   "outputs": [
    {
     "name": "stdout",
     "output_type": "stream",
     "text": [
      "I am in class B\n"
     ]
    }
   ],
   "source": [
    "class A:\n",
    "    def __init__(self):\n",
    "        print(\"I am class A\")\n",
    "class B(A):\n",
    "    def __init__(self):\n",
    "        print(\"I am in class B\")\n",
    "    def func(self):\n",
    "        print(\"I am random func in class B\")\n",
    "class C(B):\n",
    "    def funct2(self):\n",
    "        print(\"I am rndom function 2\")\n",
    "\n",
    "obj1 = C()"
   ]
  },
  {
   "cell_type": "code",
   "execution_count": 42,
   "id": "f2d33dc5-4654-44fc-8147-26ee136b7b8f",
   "metadata": {},
   "outputs": [
    {
     "name": "stdout",
     "output_type": "stream",
     "text": [
      "I am random func in class B\n"
     ]
    }
   ],
   "source": [
    "obj1.func()"
   ]
  },
  {
   "cell_type": "code",
   "execution_count": 46,
   "id": "c9ee8dac-6527-49c5-8239-3a031a7cef0f",
   "metadata": {},
   "outputs": [
    {
     "name": "stdout",
     "output_type": "stream",
     "text": [
      "I am class A\n"
     ]
    }
   ],
   "source": [
    "class A:\n",
    "    def __init__(self):\n",
    "        print(\"I am class A\")\n",
    "class B:\n",
    "    def __init__(self):\n",
    "        print(\"I am in class B\")\n",
    "    def func(self):\n",
    "        print(\"I am random func in class B\")\n",
    "class C(A, B):\n",
    "    def funct2(self):\n",
    "        print(\"I am rndom function 2\")\n",
    "\n",
    "obj1 = C()"
   ]
  },
  {
   "cell_type": "code",
   "execution_count": 44,
   "id": "bc1c8da5-a30f-4d80-8722-c2c7fdc126bc",
   "metadata": {},
   "outputs": [
    {
     "name": "stdout",
     "output_type": "stream",
     "text": [
      "I am random func in class B\n"
     ]
    }
   ],
   "source": [
    "obj1.func()"
   ]
  },
  {
   "cell_type": "code",
   "execution_count": null,
   "id": "20460221-c3cf-4bf0-baf2-c5540f0a32a0",
   "metadata": {},
   "outputs": [],
   "source": [
    "MRO --> method resolution order"
   ]
  },
  {
   "cell_type": "code",
   "execution_count": 47,
   "id": "42f89ba6-6e66-4f81-9419-f259e6290e76",
   "metadata": {},
   "outputs": [
    {
     "name": "stdout",
     "output_type": "stream",
     "text": [
      "I am in class B\n"
     ]
    }
   ],
   "source": [
    "class A:\n",
    "    def __init__(self):\n",
    "        print(\"I am class A\")\n",
    "class B:\n",
    "    def __init__(self):\n",
    "        print(\"I am in class B\")\n",
    "    def func(self):\n",
    "        print(\"I am random func in class B\")\n",
    "class C(B, A):\n",
    "    def funct2(self):\n",
    "        print(\"I am rndom function 2\")\n",
    "\n",
    "obj1 = C()"
   ]
  },
  {
   "cell_type": "code",
   "execution_count": null,
   "id": "6d3acb2e-73a5-4c5b-aa87-3180f0b21112",
   "metadata": {},
   "outputs": [],
   "source": [
    "# H/w: SOLID principles"
   ]
  },
  {
   "cell_type": "code",
   "execution_count": 48,
   "id": "76f326af-d39c-4342-9995-d4211c9c8b32",
   "metadata": {},
   "outputs": [
    {
     "name": "stdout",
     "output_type": "stream",
     "text": [
      "Hey I am new file.\n"
     ]
    }
   ],
   "source": [
    "# File Handling\n",
    "f = open(\"newfile.txt\", \"r\")\n",
    "\"\"\"\n",
    "r --> read only mode\n",
    "w --> write mode it delets every thing of the file if it is present else it creates a new file\n",
    "a --> append mode\n",
    "\"\"\"\n",
    "print(f.read())"
   ]
  },
  {
   "cell_type": "code",
   "execution_count": 49,
   "id": "b71779d6-42ec-4ad5-a043-d66a93fea82e",
   "metadata": {},
   "outputs": [
    {
     "data": {
      "text/plain": [
       "''"
      ]
     },
     "execution_count": 49,
     "metadata": {},
     "output_type": "execute_result"
    }
   ],
   "source": [
    "f.read()"
   ]
  },
  {
   "cell_type": "code",
   "execution_count": 50,
   "id": "1141495e-f10c-4dd8-b8d5-afcc87ff897d",
   "metadata": {},
   "outputs": [
    {
     "data": {
      "text/plain": [
       "0"
      ]
     },
     "execution_count": 50,
     "metadata": {},
     "output_type": "execute_result"
    }
   ],
   "source": [
    "f.seek(0)"
   ]
  },
  {
   "cell_type": "code",
   "execution_count": 51,
   "id": "b6434416-7ee9-4028-96b9-fbf80dc1b56e",
   "metadata": {},
   "outputs": [
    {
     "data": {
      "text/plain": [
       "'Hey I am new file.'"
      ]
     },
     "execution_count": 51,
     "metadata": {},
     "output_type": "execute_result"
    }
   ],
   "source": [
    "f.read()"
   ]
  },
  {
   "cell_type": "code",
   "execution_count": 52,
   "id": "e1761b31-99b5-488c-b7fa-278b3946a3f5",
   "metadata": {},
   "outputs": [],
   "source": [
    "f.close()"
   ]
  },
  {
   "cell_type": "code",
   "execution_count": 53,
   "id": "2fd249de-78bc-4163-9213-4e98735aa9e9",
   "metadata": {},
   "outputs": [
    {
     "ename": "ValueError",
     "evalue": "I/O operation on closed file.",
     "output_type": "error",
     "traceback": [
      "\u001b[1;31m---------------------------------------------------------------------------\u001b[0m",
      "\u001b[1;31mValueError\u001b[0m                                Traceback (most recent call last)",
      "Cell \u001b[1;32mIn[53], line 1\u001b[0m\n\u001b[1;32m----> 1\u001b[0m \u001b[43mf\u001b[49m\u001b[38;5;241;43m.\u001b[39;49m\u001b[43mread\u001b[49m\u001b[43m(\u001b[49m\u001b[43m)\u001b[49m\n",
      "\u001b[1;31mValueError\u001b[0m: I/O operation on closed file."
     ]
    }
   ],
   "source": [
    "f.read()"
   ]
  },
  {
   "cell_type": "code",
   "execution_count": 54,
   "id": "ace96815-adaf-47fe-843d-7b1a30fc0236",
   "metadata": {},
   "outputs": [],
   "source": [
    "f = open(\"file1.txt\", \"w\")\n",
    "f.write(\"Hey I am written from python notebook\")\n",
    "f.close()"
   ]
  },
  {
   "cell_type": "code",
   "execution_count": 55,
   "id": "87765c0b-af8a-4c1a-bb67-2b5b7344c07d",
   "metadata": {},
   "outputs": [],
   "source": [
    "f = open(\"file1.txt\", \"r\")\n",
    "save = f.read()\n",
    "f.close()"
   ]
  },
  {
   "cell_type": "code",
   "execution_count": 56,
   "id": "7924b6be-581f-4ce8-b521-96b023cdfe62",
   "metadata": {},
   "outputs": [
    {
     "name": "stdout",
     "output_type": "stream",
     "text": [
      "Hey I am written from python notebook\n"
     ]
    }
   ],
   "source": [
    "print(save)"
   ]
  },
  {
   "cell_type": "code",
   "execution_count": 57,
   "id": "cd402cbd-c418-4eee-bfc5-c0df201c71f7",
   "metadata": {},
   "outputs": [],
   "source": [
    "f = open(\"file1.txt\", \"w\")\n",
    "f.write(\"Hey I am second text\")\n",
    "f.close()"
   ]
  },
  {
   "cell_type": "code",
   "execution_count": 58,
   "id": "6ccd515f-dd10-4f08-aed8-de765b517686",
   "metadata": {},
   "outputs": [],
   "source": [
    "f = open(\"file1.txt\", \"r\")\n",
    "save = f.read()\n",
    "f.close()"
   ]
  },
  {
   "cell_type": "code",
   "execution_count": 59,
   "id": "07428d6f-4c79-44bc-ae99-bd004559df52",
   "metadata": {},
   "outputs": [
    {
     "name": "stdout",
     "output_type": "stream",
     "text": [
      "Hey I am second text\n"
     ]
    }
   ],
   "source": [
    "print(save)"
   ]
  },
  {
   "cell_type": "code",
   "execution_count": 61,
   "id": "1f7b28b6-deae-4e7c-9444-7153ce3506f0",
   "metadata": {},
   "outputs": [
    {
     "name": "stdout",
     "output_type": "stream",
     "text": [
      "Hey I am second textHey I am wriiten by append modeHey I am wriiten by append mode\n"
     ]
    }
   ],
   "source": [
    "f = open(\"file1.txt\", \"a\")\n",
    "f.write(\"Hey I am wriiten by append mode\")\n",
    "f.close()\n",
    "f = open(\"file1.txt\", \"r\")\n",
    "print(f.read())\n",
    "f.close()"
   ]
  },
  {
   "cell_type": "code",
   "execution_count": 63,
   "id": "da9186ad-27a7-461c-88de-9cfabf2ad274",
   "metadata": {},
   "outputs": [
    {
     "name": "stdout",
     "output_type": "stream",
     "text": [
      "Hey I am second textHey I am wriiten by append modeHey I am wriiten by append mode\n",
      "Hey I would be in the new linee\n",
      "Hey I would be in the new linee\n"
     ]
    }
   ],
   "source": [
    "f = open(\"file1.txt\", \"a\")\n",
    "f.write(\"\\nHey I would be in the new linee\")\n",
    "f.close()\n",
    "f = open(\"file1.txt\", \"r\")\n",
    "print(f.read())\n",
    "f.close()"
   ]
  },
  {
   "cell_type": "code",
   "execution_count": 64,
   "id": "41f0d7e5-7f98-4dd9-8372-29e1d97d8e4e",
   "metadata": {},
   "outputs": [
    {
     "name": "stdout",
     "output_type": "stream",
     "text": [
      "Hey I am second textHey I am wriiten by append modeHey I am wriiten by append mode\n",
      "Hey I would be in the new linee\n",
      "Hey I would be in the new linee\n",
      "Hey python is getting interesting!!\n"
     ]
    }
   ],
   "source": [
    "# context manager\n",
    "with open(\"file1.txt\", \"a\") as fp:\n",
    "    fp.write(\"\\nHey python is getting interesting!!\")\n",
    "\n",
    "with open(\"file1.txt\", \"r\") as fp:\n",
    "    print(fp.read())"
   ]
  },
  {
   "cell_type": "code",
   "execution_count": 68,
   "id": "254e99a2-0d4e-4689-a230-83a3cc6d33c4",
   "metadata": {},
   "outputs": [
    {
     "name": "stdout",
     "output_type": "stream",
     "text": [
      "\n",
      "Hey I am second textHey I am wriiten by append modeHey I am wriiten by append mode\n",
      "Hey I would be in the new linee\n",
      "Hey I would be in the new linee\n",
      "Hey python is getting interesting!!\n",
      "Hey a+ mode alongwith writing it reads the file as well\n",
      "Hey I am second textHey I am wriiten by append modeHey I am wriiten by append mode\n",
      "Hey I would be in the new linee\n",
      "Hey I would be in the new linee\n",
      "Hey python is getting interesting!!\n",
      "Hey a+ mode alongwith writing it reads the file as well\n",
      "Hey a+ mode alongwith writing it reads the file as well\n"
     ]
    }
   ],
   "source": [
    "\"\"\"\n",
    "r, w, a\n",
    "r+, w+, a+\n",
    "\"\"\"\n",
    "with open(\"file1.txt\", \"a+\") as fp:\n",
    "    print(fp.read())\n",
    "    fp.seek(0)\n",
    "    print(fp.read())\n",
    "    fp.write(\"\\nHey a+ mode alongwith writing it reads the file as well\")\n",
    "    fp.seek(0)\n",
    "    print(fp.read())"
   ]
  },
  {
   "cell_type": "code",
   "execution_count": 69,
   "id": "d8b85eb4-d2a6-4f2a-9d09-1283a86c91ff",
   "metadata": {},
   "outputs": [
    {
     "name": "stdout",
     "output_type": "stream",
     "text": [
      "\n",
      "\n",
      "\n",
      "Hey a+ mode alongwith writing it reads the file as well\n"
     ]
    }
   ],
   "source": [
    "with open(\"file3.txt\", \"a+\") as fp:\n",
    "    print(fp.read())\n",
    "    fp.seek(0)\n",
    "    print(fp.read())\n",
    "    fp.write(\"\\nHey a+ mode alongwith writing it reads the file as well\")\n",
    "    fp.seek(0)\n",
    "    print(fp.read())"
   ]
  },
  {
   "cell_type": "code",
   "execution_count": 73,
   "id": "aa0efff7-03f6-4312-8dd5-cfb83e8430f7",
   "metadata": {},
   "outputs": [
    {
     "ename": "FileNotFoundError",
     "evalue": "[Errno 2] No such file or directory: 'file4.txt'",
     "output_type": "error",
     "traceback": [
      "\u001b[1;31m---------------------------------------------------------------------------\u001b[0m",
      "\u001b[1;31mFileNotFoundError\u001b[0m                         Traceback (most recent call last)",
      "Cell \u001b[1;32mIn[73], line 1\u001b[0m\n\u001b[1;32m----> 1\u001b[0m \u001b[38;5;28;01mwith\u001b[39;00m \u001b[38;5;28;43mopen\u001b[39;49m\u001b[43m(\u001b[49m\u001b[38;5;124;43m\"\u001b[39;49m\u001b[38;5;124;43mfile4.txt\u001b[39;49m\u001b[38;5;124;43m\"\u001b[39;49m\u001b[43m,\u001b[49m\u001b[43m \u001b[49m\u001b[38;5;124;43m\"\u001b[39;49m\u001b[38;5;124;43mr+\u001b[39;49m\u001b[38;5;124;43m\"\u001b[39;49m\u001b[43m)\u001b[49m \u001b[38;5;28;01mas\u001b[39;00m fp:\n\u001b[0;32m      2\u001b[0m     \u001b[38;5;28mprint\u001b[39m(fp\u001b[38;5;241m.\u001b[39mread())\n",
      "File \u001b[1;32mF:\\test_python\\DAY 1\\.venv\\Lib\\site-packages\\IPython\\core\\interactiveshell.py:324\u001b[0m, in \u001b[0;36m_modified_open\u001b[1;34m(file, *args, **kwargs)\u001b[0m\n\u001b[0;32m    317\u001b[0m \u001b[38;5;28;01mif\u001b[39;00m file \u001b[38;5;129;01min\u001b[39;00m {\u001b[38;5;241m0\u001b[39m, \u001b[38;5;241m1\u001b[39m, \u001b[38;5;241m2\u001b[39m}:\n\u001b[0;32m    318\u001b[0m     \u001b[38;5;28;01mraise\u001b[39;00m \u001b[38;5;167;01mValueError\u001b[39;00m(\n\u001b[0;32m    319\u001b[0m         \u001b[38;5;124mf\u001b[39m\u001b[38;5;124m\"\u001b[39m\u001b[38;5;124mIPython won\u001b[39m\u001b[38;5;124m'\u001b[39m\u001b[38;5;124mt let you open fd=\u001b[39m\u001b[38;5;132;01m{\u001b[39;00mfile\u001b[38;5;132;01m}\u001b[39;00m\u001b[38;5;124m by default \u001b[39m\u001b[38;5;124m\"\u001b[39m\n\u001b[0;32m    320\u001b[0m         \u001b[38;5;124m\"\u001b[39m\u001b[38;5;124mas it is likely to crash IPython. If you know what you are doing, \u001b[39m\u001b[38;5;124m\"\u001b[39m\n\u001b[0;32m    321\u001b[0m         \u001b[38;5;124m\"\u001b[39m\u001b[38;5;124myou can use builtins\u001b[39m\u001b[38;5;124m'\u001b[39m\u001b[38;5;124m open.\u001b[39m\u001b[38;5;124m\"\u001b[39m\n\u001b[0;32m    322\u001b[0m     )\n\u001b[1;32m--> 324\u001b[0m \u001b[38;5;28;01mreturn\u001b[39;00m \u001b[43mio_open\u001b[49m\u001b[43m(\u001b[49m\u001b[43mfile\u001b[49m\u001b[43m,\u001b[49m\u001b[43m \u001b[49m\u001b[38;5;241;43m*\u001b[39;49m\u001b[43margs\u001b[49m\u001b[43m,\u001b[49m\u001b[43m \u001b[49m\u001b[38;5;241;43m*\u001b[39;49m\u001b[38;5;241;43m*\u001b[39;49m\u001b[43mkwargs\u001b[49m\u001b[43m)\u001b[49m\n",
      "\u001b[1;31mFileNotFoundError\u001b[0m: [Errno 2] No such file or directory: 'file4.txt'"
     ]
    }
   ],
   "source": [
    "with open(\"file4.txt\", \"r+\") as fp:\n",
    "    print(fp.read())"
   ]
  },
  {
   "cell_type": "code",
   "execution_count": 74,
   "id": "a5d854e3-79a9-48bb-a4ef-db7724922e0a",
   "metadata": {},
   "outputs": [
    {
     "name": "stdout",
     "output_type": "stream",
     "text": [
      "\n",
      "Hey a+ mode alongwith writing it reads the file as well\n"
     ]
    }
   ],
   "source": [
    "\"\"\"\n",
    "r+  mode opens the file in reading mode at pointer location in begining of file\n",
    "    this mode doesnot creates a file. We get FileNotFoundError\n",
    "\"\"\"\n",
    "with open(\"file3.txt\", \"r+\") as fp:\n",
    "    print(fp.read())"
   ]
  },
  {
   "cell_type": "code",
   "execution_count": null,
   "id": "c1380dce-939b-426c-a8b2-c86c5b59f3fa",
   "metadata": {},
   "outputs": [],
   "source": [
    "# Python Regex \n",
    "^a..z$\n",
    "Metacharacters\n",
    "[].*$^+?{}()\\|\n",
    "[] -Square brackets\n",
    "[abc] --> a, ac, abc, b\n",
    "[a-z] --> mtach all the lower case alphabets\n",
    "[A-Z] --> upper case\n",
    "[0-9] --> all single digit numbers\n",
    "[A-z]/[A-Za-z] --> all alphabets\n",
    "[A-z0-9] --> all the alphanumeric charecters\n",
    ". - period\n",
    ". --> Any single character\n",
    ".. --> any two character\n",
    "^ --> Caret\n",
    "    if any string starts with single characters\n",
    "^a -  a --> 1 match\n",
    "      abc --> 1 match\n",
    "      bac --> no match\n",
    "^ab   abc --> 1 mtach\n",
    "      acb --> 0 matches\n",
    "\n",
    "$ - Dollar\n",
    "    it is used to check if a certain string ends with a certain character\n",
    "a$ - a --> 1 match\n",
    "     tesla --> 1 mtach\n",
    "     bar --> 0 matches\n",
    "\n",
    "* - Star\n",
    "  It matches 0 or more occurences of a pattern left side to it\n",
    "ro*ad  - road --> 1 mtach\n",
    "         rooad --> 1 match\n",
    "         rad --> 1 match\n",
    "         roaid --> 0 matches\n",
    "         roadid --> 1 match\n",
    "+ - Plus\n",
    "  It matches 1 or more occurences of pattern left to it\n",
    "ro+ad  - road --> 1 match\n",
    "       - rad --> 0 matches\n",
    "       - roooad --> 1 mtach\n",
    "? - Question mark\n",
    "  It matches zero or one ocurrences of the pattern left to it\n",
    "ro?ad - road --> 1 match\n",
    "      - rad  --> 1 mtach\n",
    "      - rooad --> 0 matches\n",
    "{} - Braces\n",
    "a{2}  - aa\n",
    "\n",
    "{m,n}\n",
    "a{1,4} - a, aa, aaa, aaaa"
   ]
  },
  {
   "cell_type": "code",
   "execution_count": 75,
   "id": "72f2332c-be6a-420b-a072-9ed75e4fa4dc",
   "metadata": {},
   "outputs": [
    {
     "name": "stdout",
     "output_type": "stream",
     "text": [
      "['H', 'e', 'l', 'l', 'o', ' ', '2', '5', ' ', 'h', 'i', ' ', '9', '6', '.', ' ', 'H', 'o', 'w', 'd', 'y', ' ', '5', '8', ' ', '2']\n"
     ]
    }
   ],
   "source": [
    "import re\n",
    "# re.findall()\n",
    "string = 'Hello 25 hi 96. Howdy 58 2'\n",
    "pattern = '.'\n",
    "result = re.findall(pattern, string)\n",
    "print(result)"
   ]
  },
  {
   "cell_type": "code",
   "execution_count": 76,
   "id": "e8f1db65-71d4-4624-a7be-4f3bb8a53d2e",
   "metadata": {},
   "outputs": [
    {
     "name": "stdout",
     "output_type": "stream",
     "text": [
      "['He', 'll', 'o ', '25', ' h', 'i ', '96', '. ', 'Ho', 'wd', 'y ', '58', ' 2']\n"
     ]
    }
   ],
   "source": [
    "result = re.findall(\"..\", string)\n",
    "print(result)"
   ]
  },
  {
   "cell_type": "code",
   "execution_count": 77,
   "id": "bdbe6f17-2f21-46cc-a9f2-f820a3fba31c",
   "metadata": {},
   "outputs": [
    {
     "name": "stdout",
     "output_type": "stream",
     "text": [
      "['Hel', 'lo ', '25 ', 'hi ', '96.', ' Ho', 'wdy', ' 58']\n"
     ]
    }
   ],
   "source": [
    "result = re.findall(\"...\", string)\n",
    "print(result)"
   ]
  },
  {
   "cell_type": "code",
   "execution_count": 79,
   "id": "b1f9a327-b591-4ec6-a02d-e6c5716b2422",
   "metadata": {},
   "outputs": [
    {
     "name": "stdout",
     "output_type": "stream",
     "text": [
      "['H']\n"
     ]
    }
   ],
   "source": [
    "result = re.findall(\"^[Hh]+\", string)\n",
    "print(result)"
   ]
  },
  {
   "cell_type": "code",
   "execution_count": 80,
   "id": "63908967-c934-4bdc-9f4a-640f7b313693",
   "metadata": {},
   "outputs": [
    {
     "name": "stdout",
     "output_type": "stream",
     "text": [
      "['25', '96', '58', '2']\n"
     ]
    }
   ],
   "source": [
    "result = re.findall(\"[0-9]+\", string)\n",
    "print(result)"
   ]
  },
  {
   "cell_type": "code",
   "execution_count": 82,
   "id": "328f1359-857d-436b-8e42-13d4b57e05b6",
   "metadata": {},
   "outputs": [
    {
     "name": "stdout",
     "output_type": "stream",
     "text": [
      "['rooad']\n"
     ]
    }
   ],
   "source": [
    "result = re.findall(\"ro*ad\", \"rooad\")\n",
    "print(result)"
   ]
  },
  {
   "cell_type": "code",
   "execution_count": 83,
   "id": "f449aa07-71a5-4195-9fbb-78a1e88df39d",
   "metadata": {},
   "outputs": [
    {
     "name": "stdout",
     "output_type": "stream",
     "text": [
      "['roooooooooad']\n"
     ]
    }
   ],
   "source": [
    "result = re.findall(\"ro*ad\", \"roooooooooad\")\n",
    "print(result)"
   ]
  },
  {
   "cell_type": "code",
   "execution_count": 84,
   "id": "94755997-7716-4c4e-898d-31f209745cf3",
   "metadata": {},
   "outputs": [
    {
     "name": "stdout",
     "output_type": "stream",
     "text": [
      "['rad']\n"
     ]
    }
   ],
   "source": [
    "result = re.findall(\"ro*ad\", \"rad\")\n",
    "print(result)"
   ]
  },
  {
   "cell_type": "code",
   "execution_count": 85,
   "id": "dc67f5be-306a-4857-a6de-ceceff97eb14",
   "metadata": {},
   "outputs": [
    {
     "name": "stdout",
     "output_type": "stream",
     "text": [
      "[]\n"
     ]
    }
   ],
   "source": [
    "result = re.findall(\"ro*ad\", \"rooaid\")\n",
    "print(result)"
   ]
  },
  {
   "cell_type": "code",
   "execution_count": 86,
   "id": "0ccb0eed-d6ff-4451-a9e1-6cab931e43e2",
   "metadata": {},
   "outputs": [
    {
     "name": "stdout",
     "output_type": "stream",
     "text": [
      "['road']\n"
     ]
    }
   ],
   "source": [
    "result = re.findall(\"ro?ad\", \"road\")\n",
    "print(result)"
   ]
  },
  {
   "cell_type": "code",
   "execution_count": 87,
   "id": "1ad058ff-6b70-42d4-b9d2-53704a5aec08",
   "metadata": {},
   "outputs": [
    {
     "name": "stdout",
     "output_type": "stream",
     "text": [
      "rooad []\n",
      "road ['road']\n",
      "rad ['rad']\n"
     ]
    }
   ],
   "source": [
    "l = [\"rooad\", \"road\", \"rad\"]\n",
    "for i in l:\n",
    "    result = re.findall(\"ro?ad\", i)\n",
    "    print(i, result)"
   ]
  },
  {
   "cell_type": "code",
   "execution_count": 92,
   "id": "6d000fea-dad8-4af6-aa69-8663c4d121ce",
   "metadata": {},
   "outputs": [],
   "source": [
    "result = re.findall(\"a{1,2}\", \"aaaaa\")"
   ]
  },
  {
   "cell_type": "code",
   "execution_count": 93,
   "id": "4d9ccfa4-42a2-4f33-b6b2-188f63bd902b",
   "metadata": {},
   "outputs": [
    {
     "name": "stdout",
     "output_type": "stream",
     "text": [
      "['aa', 'aa', 'a']\n"
     ]
    }
   ],
   "source": [
    "print(result)"
   ]
  },
  {
   "cell_type": "code",
   "execution_count": 96,
   "id": "a16a237d-4807-4749-ae3d-ae0ba17558cc",
   "metadata": {},
   "outputs": [],
   "source": [
    "result = re.findall(\"a{1,3}\", \"aaaaaa\")"
   ]
  },
  {
   "cell_type": "code",
   "execution_count": 97,
   "id": "39e68fec-b964-4b4d-bcf2-2c860d04f013",
   "metadata": {},
   "outputs": [
    {
     "name": "stdout",
     "output_type": "stream",
     "text": [
      "['aaa', 'aaa']\n"
     ]
    }
   ],
   "source": [
    "print(result)"
   ]
  },
  {
   "cell_type": "code",
   "execution_count": null,
   "id": "e5e5c80d-48bc-4b04-b5d2-05bc1b427538",
   "metadata": {},
   "outputs": [],
   "source": []
  }
 ],
 "metadata": {
  "kernelspec": {
   "display_name": "Python 3 (ipykernel)",
   "language": "python",
   "name": "python3"
  },
  "language_info": {
   "codemirror_mode": {
    "name": "ipython",
    "version": 3
   },
   "file_extension": ".py",
   "mimetype": "text/x-python",
   "name": "python",
   "nbconvert_exporter": "python",
   "pygments_lexer": "ipython3",
   "version": "3.12.6"
  }
 },
 "nbformat": 4,
 "nbformat_minor": 5
}
