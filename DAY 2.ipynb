{
 "cells": [
  {
   "cell_type": "markdown",
   "id": "50dce0d2-108a-47ca-ba13-e07575435f21",
   "metadata": {},
   "source": [
    "`Markdown`\n",
    "\n",
    "# H1\n",
    "## h2\n",
    "### h3\n",
    "#### h4\n",
    "\n",
    "- bullet 1\n",
    "- bullet 2\n",
    "  - inner bullet\n",
    "\n",
    "**bold text**\n",
    "\n",
    "`` code block ``"
   ]
  },
  {
   "cell_type": "markdown",
   "id": "2a828563-e8b6-4ff1-ab2a-37cd3018c571",
   "metadata": {},
   "source": [
    "immutable data types:\n",
    "    int, bool, str, tuple, float, None, Complex\n",
    "Mutable data types:\n",
    "    list, dict, set\n"
   ]
  },
  {
   "cell_type": "code",
   "execution_count": 1,
   "id": "594600c1-f843-4547-afb6-44d2e6743bcc",
   "metadata": {},
   "outputs": [
    {
     "data": {
      "text/plain": [
       "str"
      ]
     },
     "execution_count": 1,
     "metadata": {},
     "output_type": "execute_result"
    }
   ],
   "source": [
    "type(\"123\")"
   ]
  },
  {
   "cell_type": "code",
   "execution_count": 2,
   "id": "2a2abe99-fe23-41c2-aafc-509bac75e786",
   "metadata": {},
   "outputs": [
    {
     "name": "stdout",
     "output_type": "stream",
     "text": [
      "Hello world\n"
     ]
    }
   ],
   "source": [
    "print(\"Hello world\")"
   ]
  },
  {
   "cell_type": "code",
   "execution_count": 3,
   "id": "e3f10c9c-b9dc-4f4c-af23-a22051084d57",
   "metadata": {},
   "outputs": [
    {
     "name": "stdout",
     "output_type": "stream",
     "text": [
      "125\n"
     ]
    }
   ],
   "source": [
    "val = 125\n",
    "print(val)"
   ]
  },
  {
   "cell_type": "markdown",
   "id": "b120d075-d368-4475-a69f-82fe7532100e",
   "metadata": {},
   "source": [
    "# Day 2"
   ]
  },
  {
   "cell_type": "markdown",
   "id": "a478f2d3-0b74-46d6-81b0-3334b7dfee8f",
   "metadata": {},
   "source": [
    "## Operators\n",
    "\n",
    "### Arithmatic Operators\n",
    "### Logical operators\n",
    "### Comparision operators\n",
    "### Assignment operators\n",
    "### identity operator\n",
    "### Membership operators\n",
    "### Bitwise operators"
   ]
  },
  {
   "cell_type": "code",
   "execution_count": null,
   "id": "d1a1af00-2c8b-4a3a-b5bb-d4806b61862c",
   "metadata": {},
   "outputs": [],
   "source": []
  },
  {
   "cell_type": "markdown",
   "id": "20d28bc8-0e72-4ca5-950b-dc4c55e1a4a0",
   "metadata": {},
   "source": [
    "## Arithmatic operators"
   ]
  },
  {
   "cell_type": "code",
   "execution_count": 4,
   "id": "8c0e1f67-44e7-4675-b0c7-7e41b566455c",
   "metadata": {},
   "outputs": [],
   "source": [
    "# +, -, *, /, %, //"
   ]
  },
  {
   "cell_type": "code",
   "execution_count": 5,
   "id": "8b83ee76-2611-45a0-a8f9-4805d0c360df",
   "metadata": {},
   "outputs": [
    {
     "name": "stdout",
     "output_type": "stream",
     "text": [
      "5\n"
     ]
    }
   ],
   "source": [
    "a = 3 + 2\n",
    "print(a)"
   ]
  },
  {
   "cell_type": "code",
   "execution_count": 6,
   "id": "199c6a86-8902-45cd-b876-0a555e417cbf",
   "metadata": {},
   "outputs": [
    {
     "name": "stdout",
     "output_type": "stream",
     "text": [
      "25\n"
     ]
    }
   ],
   "source": [
    "b = 5 ** 2\n",
    "print(b)"
   ]
  },
  {
   "cell_type": "markdown",
   "id": "190162d2-bd48-4fb8-a6a1-1880b1dbe404",
   "metadata": {},
   "source": [
    "## Assignment Operators"
   ]
  },
  {
   "cell_type": "code",
   "execution_count": null,
   "id": "9ae7d349-7f41-4086-9259-c82e197b892b",
   "metadata": {},
   "outputs": [],
   "source": [
    "# = "
   ]
  },
  {
   "cell_type": "code",
   "execution_count": 7,
   "id": "7d79b96e-a16b-4769-8f9a-882336563a48",
   "metadata": {},
   "outputs": [],
   "source": [
    "# +="
   ]
  },
  {
   "cell_type": "code",
   "execution_count": 8,
   "id": "6247ec6f-1f47-4aef-a8ab-3dcbe2c7833c",
   "metadata": {},
   "outputs": [
    {
     "name": "stdout",
     "output_type": "stream",
     "text": [
      "5\n"
     ]
    }
   ],
   "source": [
    "print(a)"
   ]
  },
  {
   "cell_type": "code",
   "execution_count": 9,
   "id": "c8674953-fcd3-4781-b535-1cc55ec1eab5",
   "metadata": {},
   "outputs": [
    {
     "name": "stdout",
     "output_type": "stream",
     "text": [
      "6\n"
     ]
    }
   ],
   "source": [
    "# incriment a by 1\n",
    "a = a + 1\n",
    "print(a)"
   ]
  },
  {
   "cell_type": "code",
   "execution_count": 10,
   "id": "34bbc7fb-fa6f-4cae-ac92-4ae261b1c4ba",
   "metadata": {},
   "outputs": [
    {
     "name": "stdout",
     "output_type": "stream",
     "text": [
      "7\n"
     ]
    }
   ],
   "source": [
    "a += 1\n",
    "print(a)"
   ]
  },
  {
   "cell_type": "code",
   "execution_count": 11,
   "id": "6152692f-4365-4e6d-beac-fb82f9edd058",
   "metadata": {},
   "outputs": [
    {
     "name": "stdout",
     "output_type": "stream",
     "text": [
      "10\n"
     ]
    }
   ],
   "source": [
    "a += 3\n",
    "print(a)"
   ]
  },
  {
   "cell_type": "code",
   "execution_count": 12,
   "id": "0c74679c-22b6-4ac8-8fa8-171ee9d70761",
   "metadata": {},
   "outputs": [],
   "source": [
    "# *="
   ]
  },
  {
   "cell_type": "code",
   "execution_count": 13,
   "id": "fbf86ad9-586c-40b5-b9e5-d39cecbde473",
   "metadata": {},
   "outputs": [
    {
     "name": "stdout",
     "output_type": "stream",
     "text": [
      "20\n"
     ]
    }
   ],
   "source": [
    "a *= 2\n",
    "print(a)"
   ]
  },
  {
   "cell_type": "code",
   "execution_count": 14,
   "id": "870e255d-786b-48fb-8eb5-d382b3aa0404",
   "metadata": {},
   "outputs": [
    {
     "name": "stdout",
     "output_type": "stream",
     "text": [
      "4.0\n"
     ]
    }
   ],
   "source": [
    "a /= 5\n",
    "print(a)"
   ]
  },
  {
   "cell_type": "code",
   "execution_count": 15,
   "id": "f80f422c-40ff-4a61-9841-18fad8c69910",
   "metadata": {},
   "outputs": [
    {
     "name": "stdout",
     "output_type": "stream",
     "text": [
      "1.0\n"
     ]
    }
   ],
   "source": [
    "a -= 3\n",
    "print(a)"
   ]
  },
  {
   "cell_type": "code",
   "execution_count": 16,
   "id": "d3d63046-44f5-4865-b554-9b11d984dc67",
   "metadata": {},
   "outputs": [],
   "source": [
    "# %=, //="
   ]
  },
  {
   "cell_type": "markdown",
   "id": "63eb9748-3a8a-490f-8131-6414d619ccfa",
   "metadata": {},
   "source": [
    "## Comparision Operator"
   ]
  },
  {
   "cell_type": "markdown",
   "id": "2c4c7343-e2bb-47dc-a706-ec2469608f11",
   "metadata": {},
   "source": [
    "### >, <, >=, <=, =="
   ]
  },
  {
   "cell_type": "code",
   "execution_count": 17,
   "id": "2e7741b7-994f-43e1-b8bf-9f025e409130",
   "metadata": {},
   "outputs": [
    {
     "data": {
      "text/plain": [
       "True"
      ]
     },
     "execution_count": 17,
     "metadata": {},
     "output_type": "execute_result"
    }
   ],
   "source": [
    "3 > 1"
   ]
  },
  {
   "cell_type": "code",
   "execution_count": 18,
   "id": "0c433caa-1c75-4d93-bb5b-49e5dbdd8873",
   "metadata": {},
   "outputs": [],
   "source": [
    "# comparision operator returns boolean result (True or False)"
   ]
  },
  {
   "cell_type": "code",
   "execution_count": 19,
   "id": "88b6b029-e52c-4538-a06b-b5e9c84b33a9",
   "metadata": {},
   "outputs": [
    {
     "data": {
      "text/plain": [
       "False"
      ]
     },
     "execution_count": 19,
     "metadata": {},
     "output_type": "execute_result"
    }
   ],
   "source": [
    "5 <= 2"
   ]
  },
  {
   "cell_type": "code",
   "execution_count": 20,
   "id": "29bcf86f-df30-45b3-940c-465281902f92",
   "metadata": {},
   "outputs": [
    {
     "name": "stdout",
     "output_type": "stream",
     "text": [
      "True\n"
     ]
    }
   ],
   "source": [
    "a = 5\n",
    "b = 3\n",
    "print(a > b)"
   ]
  },
  {
   "cell_type": "code",
   "execution_count": 21,
   "id": "0dd087ab-7b1f-4812-9dc0-d27f7cccfa1e",
   "metadata": {},
   "outputs": [
    {
     "name": "stdout",
     "output_type": "stream",
     "text": [
      "False\n"
     ]
    }
   ],
   "source": [
    "print(a == b)"
   ]
  },
  {
   "cell_type": "code",
   "execution_count": 22,
   "id": "a373ff7b-539a-420c-96e1-035200dd85d7",
   "metadata": {},
   "outputs": [
    {
     "name": "stdout",
     "output_type": "stream",
     "text": [
      "True\n"
     ]
    }
   ],
   "source": [
    "b += 2\n",
    "print(a == b)"
   ]
  },
  {
   "cell_type": "code",
   "execution_count": 23,
   "id": "301a2349-981b-461c-88e8-ff55a401fd5a",
   "metadata": {},
   "outputs": [
    {
     "name": "stdout",
     "output_type": "stream",
     "text": [
      "5 5\n"
     ]
    }
   ],
   "source": [
    "print(a, b)"
   ]
  },
  {
   "cell_type": "code",
   "execution_count": 24,
   "id": "4f5d5aa7-9949-4cf5-9d3e-71286b9535fe",
   "metadata": {},
   "outputs": [
    {
     "name": "stdout",
     "output_type": "stream",
     "text": [
      "20\n"
     ]
    }
   ],
   "source": [
    "a *= 4\n",
    "print(a)"
   ]
  },
  {
   "cell_type": "code",
   "execution_count": 25,
   "id": "8455eb32-ca90-457d-8635-13272c3e4a3a",
   "metadata": {},
   "outputs": [
    {
     "name": "stdout",
     "output_type": "stream",
     "text": [
      "True\n"
     ]
    }
   ],
   "source": [
    "print(a >= b)"
   ]
  },
  {
   "cell_type": "code",
   "execution_count": 26,
   "id": "488070d1-1417-464b-9f0b-62ab5db75c03",
   "metadata": {},
   "outputs": [
    {
     "name": "stdout",
     "output_type": "stream",
     "text": [
      "True\n"
     ]
    }
   ],
   "source": [
    "b = 20\n",
    "print(a >= b)"
   ]
  },
  {
   "cell_type": "code",
   "execution_count": 27,
   "id": "55c2076d-7965-4b3e-b2b8-b071da8df6bd",
   "metadata": {},
   "outputs": [
    {
     "name": "stdout",
     "output_type": "stream",
     "text": [
      "True\n"
     ]
    }
   ],
   "source": [
    "print(a <= b)"
   ]
  },
  {
   "cell_type": "markdown",
   "id": "6563f7ca-b538-4893-a473-2da3217892f7",
   "metadata": {},
   "source": [
    "## Logical Operators"
   ]
  },
  {
   "cell_type": "markdown",
   "id": "b0de8011-174a-44c7-8178-e385f5cb4898",
   "metadata": {},
   "source": [
    "### and, or, not"
   ]
  },
  {
   "cell_type": "code",
   "execution_count": 28,
   "id": "cfdcc4ac-499e-4163-99ba-fd0e99f5b4cf",
   "metadata": {},
   "outputs": [
    {
     "data": {
      "text/plain": [
       "False"
      ]
     },
     "execution_count": 28,
     "metadata": {},
     "output_type": "execute_result"
    }
   ],
   "source": [
    "True and False"
   ]
  },
  {
   "cell_type": "code",
   "execution_count": 29,
   "id": "7e7f32c8-d9d2-4403-b424-e591a0d9d0a2",
   "metadata": {},
   "outputs": [
    {
     "data": {
      "text/plain": [
       "True"
      ]
     },
     "execution_count": 29,
     "metadata": {},
     "output_type": "execute_result"
    }
   ],
   "source": [
    "True and True"
   ]
  },
  {
   "cell_type": "code",
   "execution_count": 30,
   "id": "a32e12f8-a0b4-490d-bafe-44a487e7cb8b",
   "metadata": {},
   "outputs": [
    {
     "data": {
      "text/plain": [
       "True"
      ]
     },
     "execution_count": 30,
     "metadata": {},
     "output_type": "execute_result"
    }
   ],
   "source": [
    "a = 2\n",
    "b = 3\n",
    "c = -1\n",
    "b > a and c < 0"
   ]
  },
  {
   "cell_type": "code",
   "execution_count": 31,
   "id": "05da17b2-1d36-4afb-bd2f-3e7e8dcb8c67",
   "metadata": {},
   "outputs": [
    {
     "data": {
      "text/plain": [
       "True"
      ]
     },
     "execution_count": 31,
     "metadata": {},
     "output_type": "execute_result"
    }
   ],
   "source": [
    "b>a"
   ]
  },
  {
   "cell_type": "code",
   "execution_count": 32,
   "id": "4d27c366-828f-4c0b-a1de-33e4e01627f8",
   "metadata": {},
   "outputs": [
    {
     "data": {
      "text/plain": [
       "True"
      ]
     },
     "execution_count": 32,
     "metadata": {},
     "output_type": "execute_result"
    }
   ],
   "source": [
    "c<0"
   ]
  },
  {
   "cell_type": "code",
   "execution_count": null,
   "id": "e0a50726-a081-47cb-8672-52cc66586a7f",
   "metadata": {},
   "outputs": [],
   "source": [
    "# Truth table for and operator\n",
    "  a   |   b    |   value\n",
    "True  | True   |  True\n",
    "True  | False  |  False\n",
    "False | True   |  False\n",
    "False | False  |  False"
   ]
  },
  {
   "cell_type": "code",
   "execution_count": 33,
   "id": "8f7acffb-14cf-464f-9b36-cc3d967a2366",
   "metadata": {},
   "outputs": [
    {
     "name": "stdout",
     "output_type": "stream",
     "text": [
      "False\n"
     ]
    }
   ],
   "source": [
    "print(b == a and c > 0)"
   ]
  },
  {
   "cell_type": "code",
   "execution_count": 34,
   "id": "1e1c59d8-ed86-4d79-a230-11f64a7179f4",
   "metadata": {},
   "outputs": [],
   "source": [
    "# or operator "
   ]
  },
  {
   "cell_type": "code",
   "execution_count": 35,
   "id": "76d38243-b877-4020-a37a-6b6f5463c87d",
   "metadata": {},
   "outputs": [],
   "source": [
    "# if either of the values ont eh left or right hand side is true the expression returns true"
   ]
  },
  {
   "cell_type": "code",
   "execution_count": 36,
   "id": "63ab7cd4-12d8-49e8-b002-ba48530ad176",
   "metadata": {},
   "outputs": [
    {
     "data": {
      "text/plain": [
       "False"
      ]
     },
     "execution_count": 36,
     "metadata": {},
     "output_type": "execute_result"
    }
   ],
   "source": [
    "b == a or c > 0"
   ]
  },
  {
   "cell_type": "code",
   "execution_count": 38,
   "id": "f59fb240-4555-40f3-87c7-b9423f4d468c",
   "metadata": {},
   "outputs": [
    {
     "data": {
      "text/plain": [
       "True"
      ]
     },
     "execution_count": 38,
     "metadata": {},
     "output_type": "execute_result"
    }
   ],
   "source": [
    "b == a or c < 0"
   ]
  },
  {
   "cell_type": "code",
   "execution_count": 39,
   "id": "f2fcf3d8-62fe-40f6-ba8f-7e925967784d",
   "metadata": {},
   "outputs": [],
   "source": [
    "# not\n",
    "# it returns the opposite boolean value of the expression on its right hand side"
   ]
  },
  {
   "cell_type": "code",
   "execution_count": 40,
   "id": "42283426-2c4a-41f4-9979-e84b58efb13f",
   "metadata": {},
   "outputs": [
    {
     "name": "stdout",
     "output_type": "stream",
     "text": [
      "-1\n"
     ]
    }
   ],
   "source": [
    "print(c)"
   ]
  },
  {
   "cell_type": "code",
   "execution_count": 41,
   "id": "ffcc7d48-31fc-44b3-941b-9013e7710a48",
   "metadata": {},
   "outputs": [
    {
     "data": {
      "text/plain": [
       "True"
      ]
     },
     "execution_count": 41,
     "metadata": {},
     "output_type": "execute_result"
    }
   ],
   "source": [
    "not c > 0"
   ]
  },
  {
   "cell_type": "code",
   "execution_count": 42,
   "id": "730df13a-d735-48eb-ab67-037ff4b5d335",
   "metadata": {},
   "outputs": [
    {
     "data": {
      "text/plain": [
       "False"
      ]
     },
     "execution_count": 42,
     "metadata": {},
     "output_type": "execute_result"
    }
   ],
   "source": [
    "c > 0"
   ]
  },
  {
   "cell_type": "code",
   "execution_count": 43,
   "id": "b1616e9f-1740-4824-b1a7-d0dd78b9f4da",
   "metadata": {},
   "outputs": [],
   "source": [
    "# membership operators\n",
    "# in \n",
    "# not in"
   ]
  },
  {
   "cell_type": "code",
   "execution_count": 44,
   "id": "9bbb743a-f96d-4b37-84e6-89eede5841fc",
   "metadata": {},
   "outputs": [],
   "source": [
    "# in\n",
    "# if items in the left hand side is present in the colletion on the right hand side then the expression returns true"
   ]
  },
  {
   "cell_type": "code",
   "execution_count": 45,
   "id": "2ba1e538-8eb3-4448-bf5f-d6fa68f6f21e",
   "metadata": {},
   "outputs": [
    {
     "name": "stdout",
     "output_type": "stream",
     "text": [
      "True\n"
     ]
    }
   ],
   "source": [
    "a = \"om pal\"\n",
    "print(\"om\" in a)"
   ]
  },
  {
   "cell_type": "code",
   "execution_count": 46,
   "id": "93bbfdaf-f61a-43b8-b0bf-c0c19f1d01f4",
   "metadata": {},
   "outputs": [
    {
     "name": "stdout",
     "output_type": "stream",
     "text": [
      "False\n"
     ]
    }
   ],
   "source": [
    "print(\"z\" in a)"
   ]
  },
  {
   "cell_type": "code",
   "execution_count": 47,
   "id": "e3b14445-b982-4945-a245-16d593af778c",
   "metadata": {},
   "outputs": [
    {
     "ename": "TypeError",
     "evalue": "argument of type 'int' is not iterable",
     "output_type": "error",
     "traceback": [
      "\u001b[1;31m---------------------------------------------------------------------------\u001b[0m",
      "\u001b[1;31mTypeError\u001b[0m                                 Traceback (most recent call last)",
      "Cell \u001b[1;32mIn[47], line 1\u001b[0m\n\u001b[1;32m----> 1\u001b[0m \u001b[38;5;241;43m1\u001b[39;49m\u001b[43m \u001b[49m\u001b[38;5;129;43;01min\u001b[39;49;00m\u001b[43m \u001b[49m\u001b[38;5;241;43m12\u001b[39;49m\n",
      "\u001b[1;31mTypeError\u001b[0m: argument of type 'int' is not iterable"
     ]
    }
   ],
   "source": [
    "1 in 12"
   ]
  },
  {
   "cell_type": "code",
   "execution_count": 48,
   "id": "27cde5a1-6439-45b6-8243-6da75245b4f6",
   "metadata": {},
   "outputs": [
    {
     "name": "stdout",
     "output_type": "stream",
     "text": [
      "True\n"
     ]
    }
   ],
   "source": [
    "print(\"z\" not in \"sushmita\")"
   ]
  },
  {
   "cell_type": "markdown",
   "id": "4738f485-b4a0-4716-b52e-b9131c73904e",
   "metadata": {},
   "source": [
    "# Bitwise operator"
   ]
  },
  {
   "cell_type": "markdown",
   "id": "fddaffbd-0b7a-419c-8460-f4a4393bc6fc",
   "metadata": {},
   "source": [
    "- & bitwise and\n",
    "- | bitwise or\n",
    "- ~ bitwise not\n",
    "- ^ bitwose xor\n",
    "- <<\n",
    "- \\>>"
   ]
  },
  {
   "cell_type": "code",
   "execution_count": 50,
   "id": "e26f5a93-1551-4a20-873e-1a2aaae1b6fd",
   "metadata": {},
   "outputs": [
    {
     "data": {
      "text/plain": [
       "'0b10'"
      ]
     },
     "execution_count": 50,
     "metadata": {},
     "output_type": "execute_result"
    }
   ],
   "source": [
    "bin(2)"
   ]
  },
  {
   "cell_type": "code",
   "execution_count": 52,
   "id": "adde0818-9377-4d02-aac0-dc2b7670566a",
   "metadata": {},
   "outputs": [
    {
     "data": {
      "text/plain": [
       "0"
      ]
     },
     "execution_count": 52,
     "metadata": {},
     "output_type": "execute_result"
    }
   ],
   "source": [
    "2 & 4 "
   ]
  },
  {
   "cell_type": "code",
   "execution_count": 56,
   "id": "57cb2fb1-1a3c-4c0b-8435-ab0087a35747",
   "metadata": {},
   "outputs": [
    {
     "data": {
      "text/plain": [
       "10"
      ]
     },
     "execution_count": 56,
     "metadata": {},
     "output_type": "execute_result"
    }
   ],
   "source": [
    "a = 25\n",
    "b = 20\n",
    "10 & 10"
   ]
  },
  {
   "cell_type": "code",
   "execution_count": 57,
   "id": "3cdaf1e5-bd6a-4263-9388-23e4fafdb810",
   "metadata": {},
   "outputs": [
    {
     "data": {
      "text/plain": [
       "10"
      ]
     },
     "execution_count": 57,
     "metadata": {},
     "output_type": "execute_result"
    }
   ],
   "source": [
    "8 | 2"
   ]
  },
  {
   "cell_type": "code",
   "execution_count": 58,
   "id": "9a04bc09-0a5b-42a4-a04f-266580f14565",
   "metadata": {},
   "outputs": [
    {
     "data": {
      "text/plain": [
       "5"
      ]
     },
     "execution_count": 58,
     "metadata": {},
     "output_type": "execute_result"
    }
   ],
   "source": [
    "5 | 5"
   ]
  },
  {
   "cell_type": "markdown",
   "id": "f4675b68-199e-4e08-b851-de23b2b6c7a2",
   "metadata": {},
   "source": [
    "# List"
   ]
  },
  {
   "cell_type": "code",
   "execution_count": 59,
   "id": "52f12134-12bb-4641-8652-8f2c6e8541b0",
   "metadata": {},
   "outputs": [
    {
     "data": {
      "text/plain": [
       "list"
      ]
     },
     "execution_count": 59,
     "metadata": {},
     "output_type": "execute_result"
    }
   ],
   "source": [
    "l = [\"om pal\", 2, 3, \"Sushmita\", \"sumit\", \"Anamika\"]\n",
    "type(l)"
   ]
  },
  {
   "cell_type": "code",
   "execution_count": 60,
   "id": "0aa7c990-5d95-4df3-9037-68c67656587e",
   "metadata": {},
   "outputs": [
    {
     "name": "stdout",
     "output_type": "stream",
     "text": [
      "['om pal', 2, 3, 'Sushmita', 'sumit', 'Anamika']\n"
     ]
    }
   ],
   "source": [
    "print(l)"
   ]
  },
  {
   "cell_type": "code",
   "execution_count": 61,
   "id": "a0c3ddc9-900d-4238-ba27-33c89524c2df",
   "metadata": {},
   "outputs": [],
   "source": [
    "# 0 --> \"om pla\"\n",
    "# 1 --> 2\n",
    "# 2 --> 3\n",
    "# 3 --> \"Sushmita\"\n",
    "# 4 --> \"Sumit\"\n",
    "# 5 --> \"Anamika\"\n",
    "\n",
    "# Last index value of the list is one less then the length of the list itself\n",
    "# length of list 10\n",
    "# last index value 9"
   ]
  },
  {
   "cell_type": "code",
   "execution_count": 62,
   "id": "ce4ab8cc-1497-4acb-8f32-6900eae387b2",
   "metadata": {},
   "outputs": [
    {
     "data": {
      "text/plain": [
       "6"
      ]
     },
     "execution_count": 62,
     "metadata": {},
     "output_type": "execute_result"
    }
   ],
   "source": [
    "len(l)"
   ]
  },
  {
   "cell_type": "code",
   "execution_count": 63,
   "id": "ae216be6-b32d-4645-b499-766f6af71fe8",
   "metadata": {},
   "outputs": [
    {
     "name": "stdout",
     "output_type": "stream",
     "text": [
      "5\n"
     ]
    }
   ],
   "source": [
    "l = [\"a\", \"2\", \"b, 4\", 5, \"6\"]\n",
    "print(len(l))"
   ]
  },
  {
   "cell_type": "code",
   "execution_count": 64,
   "id": "be0a827b-168f-44e8-9dc7-f4a5b29330e8",
   "metadata": {},
   "outputs": [],
   "source": [
    "# In what index \"b, 4\" lies: 2"
   ]
  },
  {
   "cell_type": "code",
   "execution_count": 65,
   "id": "467410ed-76e9-423d-8c9c-44506a30ebd5",
   "metadata": {},
   "outputs": [
    {
     "data": {
      "text/plain": [
       "'b, 4'"
      ]
     },
     "execution_count": 65,
     "metadata": {},
     "output_type": "execute_result"
    }
   ],
   "source": [
    "l[2]"
   ]
  },
  {
   "cell_type": "code",
   "execution_count": 66,
   "id": "4d2b25e2-b6b2-4218-ad1d-a9e40ede78f5",
   "metadata": {},
   "outputs": [
    {
     "data": {
      "text/plain": [
       "5"
      ]
     },
     "execution_count": 66,
     "metadata": {},
     "output_type": "execute_result"
    }
   ],
   "source": [
    "l[3]"
   ]
  },
  {
   "cell_type": "code",
   "execution_count": 67,
   "id": "1d4884da-3f8a-4eb2-91af-11fe4c25be35",
   "metadata": {},
   "outputs": [
    {
     "data": {
      "text/plain": [
       "'a'"
      ]
     },
     "execution_count": 67,
     "metadata": {},
     "output_type": "execute_result"
    }
   ],
   "source": [
    "l[0]"
   ]
  },
  {
   "cell_type": "code",
   "execution_count": 69,
   "id": "57d6bb34-5963-4706-8e33-2282c982c07c",
   "metadata": {},
   "outputs": [
    {
     "name": "stdout",
     "output_type": "stream",
     "text": [
      "<class 'list'>\n"
     ]
    }
   ],
   "source": [
    "kiran = [\"smart\", \"python\", \"developer\", \"student\"]\n",
    "print(type(kiran))"
   ]
  },
  {
   "cell_type": "code",
   "execution_count": 70,
   "id": "6fcbfa56-b027-4ba3-ac44-f9f82e2075b6",
   "metadata": {},
   "outputs": [
    {
     "data": {
      "text/plain": [
       "'developer'"
      ]
     },
     "execution_count": 70,
     "metadata": {},
     "output_type": "execute_result"
    }
   ],
   "source": [
    "kiran[2]"
   ]
  },
  {
   "cell_type": "code",
   "execution_count": 71,
   "id": "cefc9189-b653-4901-87db-bd270d499c8e",
   "metadata": {},
   "outputs": [
    {
     "data": {
      "text/plain": [
       "'student'"
      ]
     },
     "execution_count": 71,
     "metadata": {},
     "output_type": "execute_result"
    }
   ],
   "source": [
    "kiran[3]"
   ]
  },
  {
   "cell_type": "code",
   "execution_count": 72,
   "id": "cece1ffb-eedf-47ab-b79c-6622f95af035",
   "metadata": {},
   "outputs": [
    {
     "ename": "IndexError",
     "evalue": "list index out of range",
     "output_type": "error",
     "traceback": [
      "\u001b[1;31m---------------------------------------------------------------------------\u001b[0m",
      "\u001b[1;31mIndexError\u001b[0m                                Traceback (most recent call last)",
      "Cell \u001b[1;32mIn[72], line 1\u001b[0m\n\u001b[1;32m----> 1\u001b[0m \u001b[43mkiran\u001b[49m\u001b[43m[\u001b[49m\u001b[38;5;241;43m4\u001b[39;49m\u001b[43m]\u001b[49m\n",
      "\u001b[1;31mIndexError\u001b[0m: list index out of range"
     ]
    }
   ],
   "source": [
    "kiran[4]"
   ]
  },
  {
   "cell_type": "code",
   "execution_count": 73,
   "id": "399132c1-13af-4b7c-9789-cb77e42a1b92",
   "metadata": {},
   "outputs": [
    {
     "name": "stdout",
     "output_type": "stream",
     "text": [
      "4\n"
     ]
    }
   ],
   "source": [
    "sumit = [\"hey\", \"I\", \"am\", \"data scientist\"]\n",
    "print(len(sumit))"
   ]
  },
  {
   "cell_type": "code",
   "execution_count": 74,
   "id": "a9e4359a-8f3b-4e9a-952e-77d0f3aa586c",
   "metadata": {},
   "outputs": [
    {
     "data": {
      "text/plain": [
       "'data scientist'"
      ]
     },
     "execution_count": 74,
     "metadata": {},
     "output_type": "execute_result"
    }
   ],
   "source": [
    "sumit[3]"
   ]
  },
  {
   "cell_type": "markdown",
   "id": "89290a87-1e2f-4541-a25e-54550b039202",
   "metadata": {},
   "source": [
    "### Negative indexing"
   ]
  },
  {
   "cell_type": "code",
   "execution_count": 75,
   "id": "3da47b7b-48b3-425c-b35a-ec7a7f314ea8",
   "metadata": {},
   "outputs": [
    {
     "data": {
      "text/plain": [
       "'data scientist'"
      ]
     },
     "execution_count": 75,
     "metadata": {},
     "output_type": "execute_result"
    }
   ],
   "source": [
    "sumit[-1]"
   ]
  },
  {
   "cell_type": "code",
   "execution_count": 76,
   "id": "0c2299c8-0f01-4647-9a07-223783d7a568",
   "metadata": {},
   "outputs": [
    {
     "data": {
      "text/plain": [
       "'am'"
      ]
     },
     "execution_count": 76,
     "metadata": {},
     "output_type": "execute_result"
    }
   ],
   "source": [
    "sumit[-2]"
   ]
  },
  {
   "cell_type": "code",
   "execution_count": 77,
   "id": "0b9c0c0a-f530-4c02-8728-bb29088a52ff",
   "metadata": {},
   "outputs": [
    {
     "data": {
      "text/plain": [
       "'student'"
      ]
     },
     "execution_count": 77,
     "metadata": {},
     "output_type": "execute_result"
    }
   ],
   "source": [
    "kiran[-1]"
   ]
  },
  {
   "cell_type": "code",
   "execution_count": 78,
   "id": "c7bcc665-5a87-433a-b1b2-1e0df31fc319",
   "metadata": {},
   "outputs": [
    {
     "data": {
      "text/plain": [
       "'6'"
      ]
     },
     "execution_count": 78,
     "metadata": {},
     "output_type": "execute_result"
    }
   ],
   "source": [
    "l[-1]"
   ]
  },
  {
   "cell_type": "markdown",
   "id": "82f90cf3-986b-4188-bb99-bdce05f347ec",
   "metadata": {},
   "source": [
    "### Slicing"
   ]
  },
  {
   "cell_type": "code",
   "execution_count": 79,
   "id": "8c5a43d1-3bdf-408c-b1db-e6ab105c34fc",
   "metadata": {},
   "outputs": [
    {
     "name": "stdout",
     "output_type": "stream",
     "text": [
      "[2, 3, 4, 5, 6]\n"
     ]
    }
   ],
   "source": [
    "l = [1, 2, 3 ,4, 5 ,6]\n",
    "print(l[1:])"
   ]
  },
  {
   "cell_type": "markdown",
   "id": "5b6b0817-9709-4211-a4cb-a2b89b36c177",
   "metadata": {},
   "source": [
    "List[start index: end index] = [value in start index, end index value)\n",
    "- Start index value is included\n",
    "- End index value is excluded"
   ]
  },
  {
   "cell_type": "code",
   "execution_count": 80,
   "id": "7100392c-9438-445a-bc47-c040183d60fb",
   "metadata": {},
   "outputs": [
    {
     "name": "stdout",
     "output_type": "stream",
     "text": [
      "[2, 3]\n"
     ]
    }
   ],
   "source": [
    "print(l[1:3])"
   ]
  },
  {
   "cell_type": "code",
   "execution_count": null,
   "id": "b37e50e6-91e2-4ea1-9554-d1a3b500749d",
   "metadata": {},
   "outputs": [],
   "source": [
    "[2, 4)"
   ]
  },
  {
   "cell_type": "code",
   "execution_count": null,
   "id": "4f21bda1-326b-4b1f-a0ed-cba787a865d7",
   "metadata": {},
   "outputs": [],
   "source": []
  },
  {
   "cell_type": "code",
   "execution_count": 81,
   "id": "ef5e5cd3-a8e4-424f-bd4d-ed7a8f3c8f6c",
   "metadata": {},
   "outputs": [
    {
     "name": "stdout",
     "output_type": "stream",
     "text": [
      "['a', 'b', 'c']\n"
     ]
    }
   ],
   "source": [
    "l = [\"a\", \"b\", \"c\", \"d\", \"e\", \"f\"]\n",
    "print(l[0:3])"
   ]
  },
  {
   "cell_type": "code",
   "execution_count": 82,
   "id": "0ab49cd0-b407-4e09-b148-a9b6f4116c3b",
   "metadata": {},
   "outputs": [],
   "source": [
    "# get me a sliced list containing \n",
    "# [\"d\", \"e\", \"f\"]\n",
    "# [\"d\", \"e\"]"
   ]
  },
  {
   "cell_type": "code",
   "execution_count": 83,
   "id": "b81b858d-2afe-415d-955b-0d2101b1506f",
   "metadata": {},
   "outputs": [
    {
     "name": "stdout",
     "output_type": "stream",
     "text": [
      "['d', 'e', 'f']\n"
     ]
    }
   ],
   "source": [
    "print(l[3:6])"
   ]
  },
  {
   "cell_type": "code",
   "execution_count": 84,
   "id": "b2bb9218-4f4c-49ad-a67f-11fb61cf9eab",
   "metadata": {},
   "outputs": [
    {
     "name": "stdout",
     "output_type": "stream",
     "text": [
      "['d', 'e', 'f']\n"
     ]
    }
   ],
   "source": [
    "print(l[3:])"
   ]
  },
  {
   "cell_type": "code",
   "execution_count": 85,
   "id": "4788beb2-6ba7-4b83-8727-1df38b45d4bc",
   "metadata": {},
   "outputs": [
    {
     "name": "stdout",
     "output_type": "stream",
     "text": [
      "['d', 'e']\n"
     ]
    }
   ],
   "source": [
    "print(l[3:5])"
   ]
  },
  {
   "cell_type": "code",
   "execution_count": 86,
   "id": "ba0a7b08-750a-46f2-b173-5ab3cff5897d",
   "metadata": {},
   "outputs": [
    {
     "name": "stdout",
     "output_type": "stream",
     "text": [
      "['a', 'b']\n"
     ]
    }
   ],
   "source": [
    "print(l[:2])"
   ]
  },
  {
   "cell_type": "code",
   "execution_count": 87,
   "id": "6b36e04c-fad4-4a25-8845-e34752bf7174",
   "metadata": {},
   "outputs": [
    {
     "name": "stdout",
     "output_type": "stream",
     "text": [
      "['a', 'b']\n"
     ]
    }
   ],
   "source": [
    "print(l[0:2])"
   ]
  },
  {
   "cell_type": "markdown",
   "id": "d38f8c8e-bc5d-4f65-9d6e-8adc53cfef32",
   "metadata": {},
   "source": [
    "## Striding"
   ]
  },
  {
   "cell_type": "code",
   "execution_count": 88,
   "id": "f50c4cb2-ca6c-47a2-97b2-aef3f1dd4389",
   "metadata": {},
   "outputs": [],
   "source": [
    "l = [\"a\", \"b\", \"c\", \"d\", \"e\", \"f\"]\n",
    "# print [\"a\", \"c\", \"e\"]\n",
    "# List[start: End: Step]"
   ]
  },
  {
   "cell_type": "code",
   "execution_count": 89,
   "id": "9f4625bc-73a3-4bbd-b467-31c337066737",
   "metadata": {},
   "outputs": [
    {
     "name": "stdout",
     "output_type": "stream",
     "text": [
      "['a', 'c', 'e']\n"
     ]
    }
   ],
   "source": [
    "print(l[::2])"
   ]
  },
  {
   "cell_type": "code",
   "execution_count": 90,
   "id": "d62a2271-91c7-4f97-8822-0641d7a414ed",
   "metadata": {},
   "outputs": [
    {
     "name": "stdout",
     "output_type": "stream",
     "text": [
      "['a', 'c', 'e']\n"
     ]
    }
   ],
   "source": [
    "print(l[0:5:2])"
   ]
  },
  {
   "cell_type": "code",
   "execution_count": 91,
   "id": "61944e84-3f90-4b2e-ba4f-c7524f68430e",
   "metadata": {},
   "outputs": [
    {
     "data": {
      "text/plain": [
       "['a', 'c', 'e']"
      ]
     },
     "execution_count": 91,
     "metadata": {},
     "output_type": "execute_result"
    }
   ],
   "source": [
    "l = [\"a\", \"b\", \"c\", \"d\", \"e\", \"f\", \"g\", \"h\", \"i\", \"j\"]\n",
    "l[0:5:2]"
   ]
  },
  {
   "cell_type": "code",
   "execution_count": 92,
   "id": "b9a5609a-7e00-4bc5-acf2-dee31d04ff7f",
   "metadata": {},
   "outputs": [
    {
     "data": {
      "text/plain": [
       "['a', 'c', 'e', 'g', 'i']"
      ]
     },
     "execution_count": 92,
     "metadata": {},
     "output_type": "execute_result"
    }
   ],
   "source": [
    "l[0::2]"
   ]
  },
  {
   "cell_type": "code",
   "execution_count": 93,
   "id": "8de24dce-8c43-4c1c-a985-da14306d9da5",
   "metadata": {},
   "outputs": [
    {
     "data": {
      "text/plain": [
       "['b', 'd', 'f', 'h', 'j']"
      ]
     },
     "execution_count": 93,
     "metadata": {},
     "output_type": "execute_result"
    }
   ],
   "source": [
    "l[1::2]"
   ]
  },
  {
   "cell_type": "code",
   "execution_count": 94,
   "id": "0626d50b-f3ce-48b7-93a7-2062360931ae",
   "metadata": {},
   "outputs": [
    {
     "data": {
      "text/plain": [
       "['I', 'data scientist']"
      ]
     },
     "execution_count": 94,
     "metadata": {},
     "output_type": "execute_result"
    }
   ],
   "source": [
    "sumit = [\"hey\", \"I\", \"am\", \"data scientist\"]\n",
    "sumit[1::2]"
   ]
  },
  {
   "cell_type": "code",
   "execution_count": 95,
   "id": "4123161c-38a4-446c-9e39-c2e9da99d7c8",
   "metadata": {},
   "outputs": [
    {
     "data": {
      "text/plain": [
       "['c', 'e', 'g', 'i']"
      ]
     },
     "execution_count": 95,
     "metadata": {},
     "output_type": "execute_result"
    }
   ],
   "source": [
    "l[2::2]"
   ]
  },
  {
   "cell_type": "code",
   "execution_count": 96,
   "id": "fdf85751-8170-4a3c-a808-a57d2ec949f3",
   "metadata": {},
   "outputs": [
    {
     "data": {
      "text/plain": [
       "['a', 'd', 'g', 'j']"
      ]
     },
     "execution_count": 96,
     "metadata": {},
     "output_type": "execute_result"
    }
   ],
   "source": [
    "l[0::3]"
   ]
  },
  {
   "cell_type": "code",
   "execution_count": 97,
   "id": "13d5ed0b-1404-45a2-bf80-53ac4d1fb878",
   "metadata": {},
   "outputs": [
    {
     "data": {
      "text/plain": [
       "['b', 'e', 'h']"
      ]
     },
     "execution_count": 97,
     "metadata": {},
     "output_type": "execute_result"
    }
   ],
   "source": [
    "l[1::3]"
   ]
  },
  {
   "cell_type": "code",
   "execution_count": 98,
   "id": "237c1554-6706-4b02-b74f-ebc4ff16e0b9",
   "metadata": {},
   "outputs": [
    {
     "name": "stdout",
     "output_type": "stream",
     "text": [
      "['a', 'b', 'c', 'd', 'e', 'f', 'g', 'h', 'i', 'j']\n"
     ]
    }
   ],
   "source": [
    "print(l[::])"
   ]
  },
  {
   "cell_type": "code",
   "execution_count": 99,
   "id": "b0b62b88-0bdf-4fe0-aa81-59790652c82e",
   "metadata": {},
   "outputs": [
    {
     "data": {
      "text/plain": [
       "['j', 'i', 'h', 'g', 'f', 'e', 'd', 'c', 'b', 'a']"
      ]
     },
     "execution_count": 99,
     "metadata": {},
     "output_type": "execute_result"
    }
   ],
   "source": [
    "l[::-1]"
   ]
  },
  {
   "cell_type": "code",
   "execution_count": null,
   "id": "33490b92-00dd-4c2c-a017-e19f5e25e22b",
   "metadata": {},
   "outputs": [],
   "source": [
    "# H/w would be to print [\"j\", \"h\", \"f\", \"d\", \"b\"]"
   ]
  },
  {
   "cell_type": "code",
   "execution_count": null,
   "id": "4748fbea-4c2a-4005-8e4f-0dc1c7af97aa",
   "metadata": {},
   "outputs": [],
   "source": [
    "# back on 3 mins 9:04 PM"
   ]
  },
  {
   "cell_type": "code",
   "execution_count": 100,
   "id": "bed44775-e8b8-4190-8083-9d44a6199c31",
   "metadata": {},
   "outputs": [],
   "source": [
    "# conditional statements"
   ]
  },
  {
   "cell_type": "code",
   "execution_count": 103,
   "id": "752e9c93-4ce7-41ec-93ac-e3b7b5f848b5",
   "metadata": {},
   "outputs": [
    {
     "name": "stdout",
     "output_type": "stream",
     "text": [
      "Dishoom dishoom\n"
     ]
    }
   ],
   "source": [
    "gpa = 7.999999\n",
    "if gpa >= 8:\n",
    "    print(\"I got Guitar. Yay!!\")\n",
    "else:\n",
    "    print(\"Dishoom dishoom\")"
   ]
  },
  {
   "cell_type": "code",
   "execution_count": 104,
   "id": "e1f7b842-0253-4dec-81be-d8cc7539b293",
   "metadata": {},
   "outputs": [],
   "source": [
    "#if <condition>:\n",
    "#    statements\n",
    "#else:\n",
    "#    else condtion"
   ]
  },
  {
   "cell_type": "code",
   "execution_count": 105,
   "id": "e9f2083b-6988-4d2b-984d-8a68c2d34570",
   "metadata": {},
   "outputs": [
    {
     "name": "stdout",
     "output_type": "stream",
     "text": [
      "2\n"
     ]
    }
   ],
   "source": [
    "#WAP if the value of a is less than 2 then incriment it by 1 and print the value else only print the value\n",
    "a = 1\n",
    "if a < 2:\n",
    "    a += 1\n",
    "    print(a)\n",
    "else:\n",
    "    print(a)"
   ]
  },
  {
   "cell_type": "code",
   "execution_count": 106,
   "id": "ef7f8ad7-6131-445f-92b0-9a5d93571eac",
   "metadata": {},
   "outputs": [
    {
     "name": "stdout",
     "output_type": "stream",
     "text": [
      "3\n"
     ]
    }
   ],
   "source": [
    "a = 3\n",
    "if a < 2:\n",
    "    a += 1\n",
    "    print(a)\n",
    "else:\n",
    "    print(a)"
   ]
  },
  {
   "cell_type": "code",
   "execution_count": 107,
   "id": "e8b879af-6eeb-475b-b1b9-9f0f3f907704",
   "metadata": {},
   "outputs": [
    {
     "name": "stdout",
     "output_type": "stream",
     "text": [
      "0\n"
     ]
    }
   ],
   "source": [
    "a = -1\n",
    "if a < 2:\n",
    "    a += 1\n",
    "    print(a)\n",
    "else:\n",
    "    print(a)"
   ]
  },
  {
   "cell_type": "code",
   "execution_count": null,
   "id": "2abafe47-07d0-4012-8e37-89533254a232",
   "metadata": {},
   "outputs": [],
   "source": [
    "# elif ladder"
   ]
  }
 ],
 "metadata": {
  "kernelspec": {
   "display_name": "Python 3 (ipykernel)",
   "language": "python",
   "name": "python3"
  },
  "language_info": {
   "codemirror_mode": {
    "name": "ipython",
    "version": 3
   },
   "file_extension": ".py",
   "mimetype": "text/x-python",
   "name": "python",
   "nbconvert_exporter": "python",
   "pygments_lexer": "ipython3",
   "version": "3.12.6"
  }
 },
 "nbformat": 4,
 "nbformat_minor": 5
}
