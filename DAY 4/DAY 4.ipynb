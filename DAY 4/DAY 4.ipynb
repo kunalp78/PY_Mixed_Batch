{
 "cells": [
  {
   "cell_type": "code",
   "execution_count": null,
   "id": "5bb9db24-73fe-4029-89ee-ea6a98972ef6",
   "metadata": {},
   "outputs": [],
   "source": [
    "while <entry condition>:\n",
    "    statements:\n",
    "        an exit condition"
   ]
  },
  {
   "cell_type": "code",
   "execution_count": 1,
   "id": "52016dbd-5b56-4816-a792-bc1ca6af5aa2",
   "metadata": {},
   "outputs": [
    {
     "name": "stdout",
     "output_type": "stream",
     "text": [
      "0\n",
      "1\n",
      "2\n",
      "3\n",
      "4\n",
      "5\n",
      "6\n",
      "7\n",
      "8\n",
      "9\n",
      "10\n"
     ]
    }
   ],
   "source": [
    "num = 0\n",
    "while num <= 10:\n",
    "    print(num)\n",
    "    num += 1"
   ]
  },
  {
   "cell_type": "code",
   "execution_count": null,
   "id": "dc981fba-02ce-40bb-93ba-60d5e818f3b5",
   "metadata": {},
   "outputs": [],
   "source": [
    "# WAP using while loop to print the table of 2"
   ]
  },
  {
   "cell_type": "code",
   "execution_count": 2,
   "id": "e8b9b9fc-dc22-4caf-a199-87bd3c6ce58c",
   "metadata": {},
   "outputs": [
    {
     "name": "stdin",
     "output_type": "stream",
     "text": [
      "Enter the number whose Table you want to print 2\n"
     ]
    },
    {
     "name": "stdout",
     "output_type": "stream",
     "text": [
      "2\n",
      "4\n",
      "6\n",
      "8\n",
      "10\n",
      "12\n",
      "14\n",
      "16\n",
      "18\n",
      "20\n"
     ]
    }
   ],
   "source": [
    "num = 1\n",
    "val = int(input(\"Enter the number whose Table you want to print\"))\n",
    "while num <= 10:\n",
    "    print(num * val)\n",
    "    num += 1"
   ]
  },
  {
   "cell_type": "code",
   "execution_count": null,
   "id": "64052a67-49dc-4385-8585-5eb2f9dfaf26",
   "metadata": {},
   "outputs": [],
   "source": [
    "2 X 1 = 2\n",
    "2 X 2 = 4\n",
    "2 X 3 = 6 ..."
   ]
  },
  {
   "cell_type": "code",
   "execution_count": 3,
   "id": "3ffbe545-3f41-4b1f-8fe9-bd5880137cea",
   "metadata": {},
   "outputs": [
    {
     "name": "stdin",
     "output_type": "stream",
     "text": [
      "Enter the number whose Table you want to print 2\n"
     ]
    },
    {
     "name": "stdout",
     "output_type": "stream",
     "text": [
      "2 X 1 =  2\n",
      "2 X 1 =  4\n",
      "2 X 1 =  6\n",
      "2 X 1 =  8\n",
      "2 X 1 =  10\n",
      "2 X 1 =  12\n",
      "2 X 1 =  14\n",
      "2 X 1 =  16\n",
      "2 X 1 =  18\n",
      "2 X 1 =  20\n"
     ]
    }
   ],
   "source": [
    "num = 1\n",
    "val = int(input(\"Enter the number whose Table you want to print\"))\n",
    "while num <= 10:\n",
    "    print(\"2 X 1 = \",num * val)\n",
    "    num += 1"
   ]
  },
  {
   "cell_type": "code",
   "execution_count": 4,
   "id": "69872fc5-500e-4482-94df-fb0762f9768f",
   "metadata": {},
   "outputs": [
    {
     "name": "stdin",
     "output_type": "stream",
     "text": [
      "Enter the name:  Purushottam\n"
     ]
    }
   ],
   "source": [
    "# format()\n",
    "name = input(\"Enter the name: \")\n",
    "a = \"Hey my name is {}\".format(name)"
   ]
  },
  {
   "cell_type": "code",
   "execution_count": 5,
   "id": "0eaf559f-aff3-4780-895d-7bb95b60a715",
   "metadata": {},
   "outputs": [
    {
     "name": "stdout",
     "output_type": "stream",
     "text": [
      "Hey my name is Purushottam\n"
     ]
    }
   ],
   "source": [
    "print(a)"
   ]
  },
  {
   "cell_type": "code",
   "execution_count": 7,
   "id": "efe3df13-6c06-48f5-a522-cdb30216ea04",
   "metadata": {},
   "outputs": [
    {
     "name": "stdin",
     "output_type": "stream",
     "text": [
      "Enter the number whose Table you want to print 15\n"
     ]
    },
    {
     "name": "stdout",
     "output_type": "stream",
     "text": [
      "15 X 1 = 15\n",
      "15 X 2 = 30\n",
      "15 X 3 = 45\n",
      "15 X 4 = 60\n",
      "15 X 5 = 75\n",
      "15 X 6 = 90\n",
      "15 X 7 = 105\n",
      "15 X 8 = 120\n",
      "15 X 9 = 135\n",
      "15 X 10 = 150\n"
     ]
    }
   ],
   "source": [
    "num = 1\n",
    "val = int(input(\"Enter the number whose Table you want to print\"))\n",
    "while num <= 10:\n",
    "    print(\"{} X {} = {}\".format(val, num, val*num))\n",
    "    num += 1"
   ]
  },
  {
   "cell_type": "code",
   "execution_count": 8,
   "id": "ce9b4724-984f-4986-af53-8ae9191f6d60",
   "metadata": {},
   "outputs": [
    {
     "name": "stdin",
     "output_type": "stream",
     "text": [
      "Enter the number whose Table you want to print 5\n"
     ]
    },
    {
     "name": "stdout",
     "output_type": "stream",
     "text": [
      "5 X 1 = 5\n",
      "5 X 2 = 10\n",
      "5 X 3 = 15\n",
      "5 X 4 = 20\n",
      "5 X 5 = 25\n",
      "5 X 6 = 30\n",
      "5 X 7 = 35\n",
      "5 X 8 = 40\n",
      "5 X 9 = 45\n",
      "5 X 10 = 50\n"
     ]
    }
   ],
   "source": [
    "# fstring\n",
    "num = 1\n",
    "val = int(input(\"Enter the number whose Table you want to print\"))\n",
    "while num <= 10:\n",
    "    print(f\"{val} X {num} = {num*val}\")\n",
    "    num += 1"
   ]
  },
  {
   "cell_type": "markdown",
   "id": "a5c6bf70-267f-4c58-a69b-1a1663cabe91",
   "metadata": {},
   "source": [
    "# For loop"
   ]
  },
  {
   "cell_type": "markdown",
   "id": "f0384656-1a8e-4c94-b152-800d5b95c96b",
   "metadata": {},
   "source": [
    "iterables are basically the collects\n",
    "- List\n",
    "- tuples\n",
    "- dict\n",
    "- sets\n",
    "- strings\n",
    "- range"
   ]
  },
  {
   "cell_type": "code",
   "execution_count": 10,
   "id": "42b4d7a4-2396-42f0-ab68-1dcbf648d406",
   "metadata": {},
   "outputs": [
    {
     "name": "stdout",
     "output_type": "stream",
     "text": [
      "[1, 2, 3, 4, 5]\n"
     ]
    }
   ],
   "source": [
    "l = [1, 2, 3, 4, 5]\n",
    "print(l)"
   ]
  },
  {
   "cell_type": "code",
   "execution_count": 11,
   "id": "8d22e391-ba1d-4ee5-98ac-83db605c045a",
   "metadata": {},
   "outputs": [
    {
     "name": "stdout",
     "output_type": "stream",
     "text": [
      "1\n",
      "2\n",
      "3\n",
      "4\n",
      "5\n"
     ]
    }
   ],
   "source": [
    "# for index in iterable:\n",
    "#     statements\n",
    "for i in l:\n",
    "    print(i)"
   ]
  },
  {
   "cell_type": "code",
   "execution_count": 12,
   "id": "d7527700-5fb9-4bce-9f41-5ac88ac4ef19",
   "metadata": {},
   "outputs": [
    {
     "name": "stdout",
     "output_type": "stream",
     "text": [
      "0\n",
      "1\n",
      "2\n",
      "3\n",
      "4\n",
      "5\n",
      "6\n",
      "7\n",
      "8\n",
      "9\n"
     ]
    }
   ],
   "source": [
    "# range(10) --> 0, 1, 2, 3, 4, 5, 6, 7, 8, 9\n",
    "for i in range(10):\n",
    "    print(i)"
   ]
  },
  {
   "cell_type": "code",
   "execution_count": 13,
   "id": "6219ed3c-6956-4c0f-a5cb-c9ec06e228e6",
   "metadata": {},
   "outputs": [
    {
     "name": "stdout",
     "output_type": "stream",
     "text": [
      "1\n",
      "2\n",
      "3\n",
      "4\n",
      "5\n",
      "6\n",
      "7\n",
      "8\n",
      "9\n"
     ]
    }
   ],
   "source": [
    "for i in range(1, 10):\n",
    "    print(i)"
   ]
  },
  {
   "cell_type": "code",
   "execution_count": 14,
   "id": "d63bd08a-dfab-41c1-974a-68d3ff3863c5",
   "metadata": {},
   "outputs": [
    {
     "name": "stdout",
     "output_type": "stream",
     "text": [
      "1\n",
      "2\n",
      "3\n",
      "4\n",
      "5\n",
      "6\n",
      "7\n",
      "8\n",
      "9\n",
      "10\n"
     ]
    }
   ],
   "source": [
    "for i in range(1, 11):\n",
    "    print(i)"
   ]
  },
  {
   "cell_type": "code",
   "execution_count": null,
   "id": "0d3a77e6-f1a1-4e1a-9013-b86a3235ad5b",
   "metadata": {},
   "outputs": [],
   "source": [
    "# WAP using for loop to print the table of 5 [back on 7: 47]"
   ]
  },
  {
   "cell_type": "code",
   "execution_count": null,
   "id": "d5999a73-9cd2-4647-a5aa-4861501046ef",
   "metadata": {},
   "outputs": [],
   "source": [
    "print(f\"{val} X {num} = {num*val}\")"
   ]
  },
  {
   "cell_type": "code",
   "execution_count": 15,
   "id": "6983ac2c-df02-4d92-8947-9f389607fc9e",
   "metadata": {},
   "outputs": [
    {
     "name": "stdout",
     "output_type": "stream",
     "text": [
      "5 X 1 = 5\n",
      "5 X 2 = 10\n",
      "5 X 3 = 15\n",
      "5 X 4 = 20\n",
      "5 X 5 = 25\n",
      "5 X 6 = 30\n",
      "5 X 7 = 35\n",
      "5 X 8 = 40\n",
      "5 X 9 = 45\n",
      "5 X 10 = 50\n"
     ]
    }
   ],
   "source": [
    "val = 5\n",
    "for i in range(1, 11):\n",
    "    print(f\"{val} X {i} = {val * i}\")"
   ]
  },
  {
   "cell_type": "code",
   "execution_count": 16,
   "id": "7793ed52-1765-4d0a-9636-79e885864b68",
   "metadata": {},
   "outputs": [
    {
     "name": "stdout",
     "output_type": "stream",
     "text": [
      "* * * * *\n",
      "* * * * *\n"
     ]
    }
   ],
   "source": [
    "# * * * * *\n",
    "# * * * * *\n",
    "for i in range(2):\n",
    "    print(\"* * * * *\")"
   ]
  },
  {
   "cell_type": "code",
   "execution_count": null,
   "id": "5b7c69c9-06c5-435d-9722-e38e3f1a9585",
   "metadata": {},
   "outputs": [],
   "source": [
    "# *\n",
    "# * *\n",
    "# * * *\n",
    "# * * * *"
   ]
  },
  {
   "cell_type": "code",
   "execution_count": 17,
   "id": "c4573ef2-16e2-4a50-8447-29067ba63f4e",
   "metadata": {},
   "outputs": [
    {
     "name": "stdout",
     "output_type": "stream",
     "text": [
      "* * * * * \n",
      "* * * * * \n"
     ]
    }
   ],
   "source": [
    "for i in range(2):\n",
    "    for j in range(5):\n",
    "        print(\"*\", end = \" \")\n",
    "    print()"
   ]
  },
  {
   "cell_type": "code",
   "execution_count": 20,
   "id": "c3eb9af3-2aa2-42cf-869c-30ba9e06e943",
   "metadata": {},
   "outputs": [
    {
     "name": "stdout",
     "output_type": "stream",
     "text": [
      "Litty Anamika\n",
      "raj\n"
     ]
    }
   ],
   "source": [
    "print(\"Litty\", end = \" \")\n",
    "print(\"Anamika\")\n",
    "print(\"raj\")"
   ]
  },
  {
   "cell_type": "code",
   "execution_count": 22,
   "id": "3f168f69-8347-4c41-bb06-4a2f3badf140",
   "metadata": {},
   "outputs": [
    {
     "name": "stdout",
     "output_type": "stream",
     "text": [
      "* \n",
      "* * \n",
      "* * * \n",
      "* * * * \n"
     ]
    }
   ],
   "source": [
    "# *\n",
    "# * *\n",
    "# * * *\n",
    "# * * * *\n",
    "for outter in range(1, 5):\n",
    "    for inner in range(outter):\n",
    "        print(\"*\", end=\" \")\n",
    "    print()"
   ]
  },
  {
   "cell_type": "code",
   "execution_count": 24,
   "id": "e576a047-6f44-492a-9d7c-a3e4df36cf53",
   "metadata": {},
   "outputs": [
    {
     "name": "stdout",
     "output_type": "stream",
     "text": [
      "1--> 0 \n",
      "2--> 0 1 \n",
      "3--> 0 1 2 \n",
      "4--> 0 1 2 3 \n"
     ]
    }
   ],
   "source": [
    "for outer in range(1, 5):\n",
    "    print(outer, end = \"--> \")\n",
    "    for inner in range(outer):\n",
    "        print(inner, end = \" \")\n",
    "    print()"
   ]
  },
  {
   "cell_type": "code",
   "execution_count": 26,
   "id": "40a1d7c6-bb63-4875-a7f8-d019095a949b",
   "metadata": {},
   "outputs": [
    {
     "name": "stdout",
     "output_type": "stream",
     "text": [
      "0\n",
      "2\n",
      "4\n",
      "6\n",
      "8\n",
      "10\n"
     ]
    }
   ],
   "source": [
    "for i in range(0, 11, 2):\n",
    "    print(i)"
   ]
  },
  {
   "cell_type": "code",
   "execution_count": 27,
   "id": "629e9f2a-398c-4b50-b3da-867ba6915c99",
   "metadata": {},
   "outputs": [
    {
     "data": {
      "text/plain": [
       "[1, 3, 5]"
      ]
     },
     "execution_count": 27,
     "metadata": {},
     "output_type": "execute_result"
    }
   ],
   "source": [
    "l = [1, 2, 3, 4, 5]\n",
    "l[::2]"
   ]
  },
  {
   "cell_type": "markdown",
   "id": "0f67b9b4-d634-4beb-8806-f002df90917e",
   "metadata": {},
   "source": [
    "# dictionary"
   ]
  },
  {
   "cell_type": "code",
   "execution_count": 28,
   "id": "b622cedb-385f-496f-b828-bb7b7893d528",
   "metadata": {},
   "outputs": [],
   "source": [
    "d = {\"name\": 25}\n"
   ]
  },
  {
   "cell_type": "code",
   "execution_count": 29,
   "id": "b0fd062b-ab13-43f6-abc8-8df88762e865",
   "metadata": {},
   "outputs": [
    {
     "data": {
      "text/plain": [
       "25"
      ]
     },
     "execution_count": 29,
     "metadata": {},
     "output_type": "execute_result"
    }
   ],
   "source": [
    "# {Key: Value}\n",
    "d[\"name\"]"
   ]
  },
  {
   "cell_type": "code",
   "execution_count": 30,
   "id": "e28537ce-2a3f-497b-9c70-89457dc5bec7",
   "metadata": {},
   "outputs": [],
   "source": [
    "d = {\"name\": \"Mishie\", 27: 2 +2j, (2,5): \"Ashumoni\"}"
   ]
  },
  {
   "cell_type": "code",
   "execution_count": 31,
   "id": "98c61752-fa72-4fe3-a8ef-d0481c343a37",
   "metadata": {},
   "outputs": [],
   "source": [
    "# the keys of dictionary is always immutable\n",
    "# values can be mutable or immutable"
   ]
  },
  {
   "cell_type": "code",
   "execution_count": 32,
   "id": "4ae7b41d-608e-46af-a271-7c743dc75892",
   "metadata": {},
   "outputs": [
    {
     "ename": "TypeError",
     "evalue": "unhashable type: 'list'",
     "output_type": "error",
     "traceback": [
      "\u001b[1;31m---------------------------------------------------------------------------\u001b[0m",
      "\u001b[1;31mTypeError\u001b[0m                                 Traceback (most recent call last)",
      "Cell \u001b[1;32mIn[32], line 1\u001b[0m\n\u001b[1;32m----> 1\u001b[0m d \u001b[38;5;241m=\u001b[39m {[\u001b[38;5;241m1\u001b[39m, \u001b[38;5;241m2\u001b[39m, \u001b[38;5;241m3\u001b[39m]: \u001b[38;5;124m\"\u001b[39m\u001b[38;5;124msoe vlue\u001b[39m\u001b[38;5;124m\"\u001b[39m}\n",
      "\u001b[1;31mTypeError\u001b[0m: unhashable type: 'list'"
     ]
    }
   ],
   "source": [
    "d = {[1, 2, 3]: \"soe vlue\"}"
   ]
  },
  {
   "cell_type": "code",
   "execution_count": 33,
   "id": "1ff67854-eb69-465c-b774-41b91195c3d6",
   "metadata": {},
   "outputs": [
    {
     "ename": "KeyError",
     "evalue": "1",
     "output_type": "error",
     "traceback": [
      "\u001b[1;31m---------------------------------------------------------------------------\u001b[0m",
      "\u001b[1;31mKeyError\u001b[0m                                  Traceback (most recent call last)",
      "Cell \u001b[1;32mIn[33], line 2\u001b[0m\n\u001b[0;32m      1\u001b[0m d \u001b[38;5;241m=\u001b[39m {\u001b[38;5;124m\"\u001b[39m\u001b[38;5;124mname\u001b[39m\u001b[38;5;124m\"\u001b[39m: \u001b[38;5;124m\"\u001b[39m\u001b[38;5;124mMishie\u001b[39m\u001b[38;5;124m\"\u001b[39m, \u001b[38;5;241m27\u001b[39m: \u001b[38;5;241m2\u001b[39m \u001b[38;5;241m+\u001b[39m\u001b[38;5;241m2\u001b[39mj, (\u001b[38;5;241m2\u001b[39m,\u001b[38;5;241m5\u001b[39m): \u001b[38;5;124m\"\u001b[39m\u001b[38;5;124mAshumoni\u001b[39m\u001b[38;5;124m\"\u001b[39m}\n\u001b[1;32m----> 2\u001b[0m \u001b[43md\u001b[49m\u001b[43m[\u001b[49m\u001b[38;5;241;43m1\u001b[39;49m\u001b[43m]\u001b[49m\n",
      "\u001b[1;31mKeyError\u001b[0m: 1"
     ]
    }
   ],
   "source": [
    "d = {\"name\": \"Mishie\", 27: 2 +2j, (2,5): \"Ashumoni\"}\n",
    "d[1]"
   ]
  },
  {
   "cell_type": "code",
   "execution_count": 34,
   "id": "3f15d11b-03f0-4ae2-9c3e-d24614d78409",
   "metadata": {},
   "outputs": [
    {
     "name": "stdout",
     "output_type": "stream",
     "text": [
      "{}\n"
     ]
    }
   ],
   "source": [
    "d = {}\n",
    "print(d)"
   ]
  },
  {
   "cell_type": "code",
   "execution_count": 35,
   "id": "3c045ded-1630-4e9d-b45f-53c49af0a900",
   "metadata": {},
   "outputs": [
    {
     "data": {
      "text/plain": [
       "dict"
      ]
     },
     "execution_count": 35,
     "metadata": {},
     "output_type": "execute_result"
    }
   ],
   "source": [
    "type(d)"
   ]
  },
  {
   "cell_type": "code",
   "execution_count": 36,
   "id": "84302ff6-3ad1-4029-9a2a-04f296630d46",
   "metadata": {},
   "outputs": [
    {
     "name": "stdout",
     "output_type": "stream",
     "text": [
      "{'name': 'geeth'}\n"
     ]
    }
   ],
   "source": [
    "d[\"name\"] = \"geeth\"\n",
    "print(d)"
   ]
  },
  {
   "cell_type": "code",
   "execution_count": 37,
   "id": "90686a45-000e-4046-9ad4-33fc9f1ff16b",
   "metadata": {},
   "outputs": [],
   "source": [
    "d[\"listv\"] = [1, 2, 5, 8]"
   ]
  },
  {
   "cell_type": "code",
   "execution_count": 38,
   "id": "d1810a41-e32d-43da-bce1-83e14d3e1e58",
   "metadata": {},
   "outputs": [
    {
     "name": "stdout",
     "output_type": "stream",
     "text": [
      "{'name': 'geeth', 'listv': [1, 2, 5, 8]}\n"
     ]
    }
   ],
   "source": [
    "print(d)"
   ]
  },
  {
   "cell_type": "code",
   "execution_count": 39,
   "id": "985d28ae-1023-4878-8ede-db59988cbd3e",
   "metadata": {},
   "outputs": [
    {
     "data": {
      "text/plain": [
       "2"
      ]
     },
     "execution_count": 39,
     "metadata": {},
     "output_type": "execute_result"
    }
   ],
   "source": [
    "len(d)"
   ]
  },
  {
   "cell_type": "code",
   "execution_count": 40,
   "id": "1160bb14-e713-4d88-a047-bbcde6c63e8e",
   "metadata": {},
   "outputs": [
    {
     "ename": "KeyError",
     "evalue": "'geeth'",
     "output_type": "error",
     "traceback": [
      "\u001b[1;31m---------------------------------------------------------------------------\u001b[0m",
      "\u001b[1;31mKeyError\u001b[0m                                  Traceback (most recent call last)",
      "Cell \u001b[1;32mIn[40], line 1\u001b[0m\n\u001b[1;32m----> 1\u001b[0m \u001b[43md\u001b[49m\u001b[43m[\u001b[49m\u001b[38;5;124;43m\"\u001b[39;49m\u001b[38;5;124;43mgeeth\u001b[39;49m\u001b[38;5;124;43m\"\u001b[39;49m\u001b[43m]\u001b[49m\n",
      "\u001b[1;31mKeyError\u001b[0m: 'geeth'"
     ]
    }
   ],
   "source": [
    "d[\"geeth\"]"
   ]
  },
  {
   "cell_type": "code",
   "execution_count": 41,
   "id": "a31cdfd3-945c-4181-9c78-b5de794af142",
   "metadata": {},
   "outputs": [
    {
     "data": {
      "text/plain": [
       "[1, 2, 5, 8]"
      ]
     },
     "execution_count": 41,
     "metadata": {},
     "output_type": "execute_result"
    }
   ],
   "source": [
    "d['listv']"
   ]
  },
  {
   "cell_type": "code",
   "execution_count": 42,
   "id": "03b464ff-dfd0-4faa-a13f-746352cc618c",
   "metadata": {},
   "outputs": [
    {
     "data": {
      "text/plain": [
       "list"
      ]
     },
     "execution_count": 42,
     "metadata": {},
     "output_type": "execute_result"
    }
   ],
   "source": [
    "type(d['listv'])"
   ]
  },
  {
   "cell_type": "code",
   "execution_count": 43,
   "id": "fb421696-50ce-4249-b83e-0e3b27a1781d",
   "metadata": {},
   "outputs": [
    {
     "data": {
      "text/plain": [
       "dict"
      ]
     },
     "execution_count": 43,
     "metadata": {},
     "output_type": "execute_result"
    }
   ],
   "source": [
    "type(d)"
   ]
  },
  {
   "cell_type": "code",
   "execution_count": 44,
   "id": "8667fce9-54e5-46c7-849c-21b0cf71aeba",
   "metadata": {},
   "outputs": [
    {
     "data": {
      "text/plain": [
       "2"
      ]
     },
     "execution_count": 44,
     "metadata": {},
     "output_type": "execute_result"
    }
   ],
   "source": [
    "d[\"listv\"][1]"
   ]
  },
  {
   "cell_type": "code",
   "execution_count": 45,
   "id": "aff3bb9a-0618-4568-a5d0-30948609d291",
   "metadata": {},
   "outputs": [],
   "source": [
    "# tuple\n",
    "t = (1, 2, 4, 3)"
   ]
  },
  {
   "cell_type": "code",
   "execution_count": 46,
   "id": "67d54b3c-2aae-48c2-a6f2-dbf5b7d2e8f6",
   "metadata": {},
   "outputs": [
    {
     "data": {
      "text/plain": [
       "1"
      ]
     },
     "execution_count": 46,
     "metadata": {},
     "output_type": "execute_result"
    }
   ],
   "source": [
    "t[0]"
   ]
  },
  {
   "cell_type": "code",
   "execution_count": 47,
   "id": "8dcc8dc4-6197-4d91-9f88-dddbdd720039",
   "metadata": {},
   "outputs": [
    {
     "data": {
      "text/plain": [
       "3"
      ]
     },
     "execution_count": 47,
     "metadata": {},
     "output_type": "execute_result"
    }
   ],
   "source": [
    "t[3]"
   ]
  },
  {
   "cell_type": "code",
   "execution_count": 48,
   "id": "88f1c25e-83f9-4500-b4ab-86efb46a958c",
   "metadata": {},
   "outputs": [
    {
     "ename": "TypeError",
     "evalue": "'tuple' object does not support item assignment",
     "output_type": "error",
     "traceback": [
      "\u001b[1;31m---------------------------------------------------------------------------\u001b[0m",
      "\u001b[1;31mTypeError\u001b[0m                                 Traceback (most recent call last)",
      "Cell \u001b[1;32mIn[48], line 1\u001b[0m\n\u001b[1;32m----> 1\u001b[0m \u001b[43mt\u001b[49m\u001b[43m[\u001b[49m\u001b[38;5;241;43m1\u001b[39;49m\u001b[43m]\u001b[49m \u001b[38;5;241m=\u001b[39m \u001b[38;5;241m2\u001b[39m\n",
      "\u001b[1;31mTypeError\u001b[0m: 'tuple' object does not support item assignment"
     ]
    }
   ],
   "source": [
    "t[1] = 2"
   ]
  },
  {
   "cell_type": "code",
   "execution_count": 49,
   "id": "8277788b-cbdc-4564-b9be-36ddc3a4d5c9",
   "metadata": {},
   "outputs": [
    {
     "ename": "AttributeError",
     "evalue": "'tuple' object has no attribute 'append'",
     "output_type": "error",
     "traceback": [
      "\u001b[1;31m---------------------------------------------------------------------------\u001b[0m",
      "\u001b[1;31mAttributeError\u001b[0m                            Traceback (most recent call last)",
      "Cell \u001b[1;32mIn[49], line 1\u001b[0m\n\u001b[1;32m----> 1\u001b[0m \u001b[43mt\u001b[49m\u001b[38;5;241;43m.\u001b[39;49m\u001b[43mappend\u001b[49m(\u001b[38;5;241m5\u001b[39m)\n",
      "\u001b[1;31mAttributeError\u001b[0m: 'tuple' object has no attribute 'append'"
     ]
    }
   ],
   "source": [
    "t.append(5)"
   ]
  },
  {
   "cell_type": "code",
   "execution_count": 50,
   "id": "30a5d735-43ff-4b7f-b2d3-088e4b798a40",
   "metadata": {},
   "outputs": [
    {
     "name": "stdout",
     "output_type": "stream",
     "text": [
      "<class 'tuple'>\n"
     ]
    }
   ],
   "source": [
    "t = ()\n",
    "print(type(t))"
   ]
  },
  {
   "cell_type": "markdown",
   "id": "a3d61ee0-b449-48ce-bffc-cec91efd9b9f",
   "metadata": {},
   "source": [
    "# Function"
   ]
  },
  {
   "cell_type": "code",
   "execution_count": null,
   "id": "2f5c6090-8551-4c9b-a626-aa7763554ffa",
   "metadata": {},
   "outputs": [],
   "source": [
    "# bultin function\n",
    "len(), print(), input(), type(), id(), hash(), sorted(), map(), filter()...\n",
    "# user define function"
   ]
  },
  {
   "cell_type": "code",
   "execution_count": 51,
   "id": "b6cea6c4-85d7-42cd-baf1-5052fffe24de",
   "metadata": {},
   "outputs": [
    {
     "data": {
      "text/plain": [
       "4"
      ]
     },
     "execution_count": 51,
     "metadata": {},
     "output_type": "execute_result"
    }
   ],
   "source": [
    "l = [1, 2, 5, 8]\n",
    "len(l)"
   ]
  },
  {
   "cell_type": "code",
   "execution_count": 52,
   "id": "b903c100-530e-429d-8eff-92ec53d90ce6",
   "metadata": {},
   "outputs": [
    {
     "ename": "TypeError",
     "evalue": "object of type 'int' has no len()",
     "output_type": "error",
     "traceback": [
      "\u001b[1;31m---------------------------------------------------------------------------\u001b[0m",
      "\u001b[1;31mTypeError\u001b[0m                                 Traceback (most recent call last)",
      "Cell \u001b[1;32mIn[52], line 1\u001b[0m\n\u001b[1;32m----> 1\u001b[0m \u001b[38;5;28;43mlen\u001b[39;49m\u001b[43m(\u001b[49m\u001b[38;5;241;43m5\u001b[39;49m\u001b[43m)\u001b[49m\n",
      "\u001b[1;31mTypeError\u001b[0m: object of type 'int' has no len()"
     ]
    }
   ],
   "source": [
    "len(5)"
   ]
  },
  {
   "cell_type": "code",
   "execution_count": 53,
   "id": "d1d4257f-16da-42de-bfbf-5ee6328f7cce",
   "metadata": {},
   "outputs": [
    {
     "data": {
      "text/plain": [
       "140734170729592"
      ]
     },
     "execution_count": 53,
     "metadata": {},
     "output_type": "execute_result"
    }
   ],
   "source": [
    "l = 23\n",
    "id(l)"
   ]
  },
  {
   "cell_type": "code",
   "execution_count": 54,
   "id": "c83ed77d-30cd-4b1b-998b-840af63a83bc",
   "metadata": {},
   "outputs": [
    {
     "data": {
      "text/plain": [
       "140734170729592"
      ]
     },
     "execution_count": 54,
     "metadata": {},
     "output_type": "execute_result"
    }
   ],
   "source": [
    "j = 23\n",
    "id(j)"
   ]
  },
  {
   "cell_type": "code",
   "execution_count": 55,
   "id": "1f529a8f-596c-4ff4-a1db-0c1b84d5f31f",
   "metadata": {},
   "outputs": [
    {
     "name": "stdout",
     "output_type": "stream",
     "text": [
      "2167781732672 2167781750208\n"
     ]
    }
   ],
   "source": [
    "l = [1, 2, 3]\n",
    "j = [2 ,6 ,9]\n",
    "print(id(l), id(j))"
   ]
  },
  {
   "cell_type": "code",
   "execution_count": 56,
   "id": "8874652f-baff-40be-a0ec-c22eeae8cda2",
   "metadata": {},
   "outputs": [
    {
     "data": {
      "text/plain": [
       "1"
      ]
     },
     "execution_count": 56,
     "metadata": {},
     "output_type": "execute_result"
    }
   ],
   "source": [
    "hash(1)"
   ]
  },
  {
   "cell_type": "code",
   "execution_count": 57,
   "id": "1d8c2dc3-d215-4b20-9f04-cb9e68269e06",
   "metadata": {},
   "outputs": [
    {
     "data": {
      "text/plain": [
       "-3550055125485641917"
      ]
     },
     "execution_count": 57,
     "metadata": {},
     "output_type": "execute_result"
    }
   ],
   "source": [
    "l = (1, 2)\n",
    "hash(l)"
   ]
  },
  {
   "cell_type": "code",
   "execution_count": 58,
   "id": "5f130d69-48a6-4530-b6a5-385739b0d487",
   "metadata": {},
   "outputs": [
    {
     "data": {
      "text/plain": [
       "-3550055125485641917"
      ]
     },
     "execution_count": 58,
     "metadata": {},
     "output_type": "execute_result"
    }
   ],
   "source": [
    "hash((1, 2))"
   ]
  },
  {
   "cell_type": "code",
   "execution_count": 59,
   "id": "75a55a41-c4cc-4134-83ac-3fe4b3a32af7",
   "metadata": {},
   "outputs": [
    {
     "ename": "TypeError",
     "evalue": "unhashable type: 'list'",
     "output_type": "error",
     "traceback": [
      "\u001b[1;31m---------------------------------------------------------------------------\u001b[0m",
      "\u001b[1;31mTypeError\u001b[0m                                 Traceback (most recent call last)",
      "Cell \u001b[1;32mIn[59], line 1\u001b[0m\n\u001b[1;32m----> 1\u001b[0m \u001b[38;5;28;43mhash\u001b[39;49m\u001b[43m(\u001b[49m\u001b[43m[\u001b[49m\u001b[38;5;241;43m1\u001b[39;49m\u001b[43m,\u001b[49m\u001b[43m \u001b[49m\u001b[38;5;241;43m2\u001b[39;49m\u001b[43m,\u001b[49m\u001b[43m \u001b[49m\u001b[38;5;241;43m3\u001b[39;49m\u001b[43m]\u001b[49m\u001b[43m)\u001b[49m\n",
      "\u001b[1;31mTypeError\u001b[0m: unhashable type: 'list'"
     ]
    }
   ],
   "source": [
    "hash([1, 2, 3])"
   ]
  },
  {
   "cell_type": "code",
   "execution_count": 60,
   "id": "492762f6-9f8e-4d23-9e7a-ae0e2d45b48a",
   "metadata": {},
   "outputs": [
    {
     "data": {
      "text/plain": [
       "[5, 7, 8, 9, 55]"
      ]
     },
     "execution_count": 60,
     "metadata": {},
     "output_type": "execute_result"
    }
   ],
   "source": [
    "l = [5, 9, 8, 7,55]\n",
    "sorted(l)"
   ]
  },
  {
   "cell_type": "code",
   "execution_count": 61,
   "id": "f47ef23d-8d3d-4aa7-ba34-6f1635489e32",
   "metadata": {},
   "outputs": [
    {
     "data": {
      "text/plain": [
       "[-33, 0, 1, 2, 5]"
      ]
     },
     "execution_count": 61,
     "metadata": {},
     "output_type": "execute_result"
    }
   ],
   "source": [
    "sorted((1, 2,5,0, -33))"
   ]
  },
  {
   "cell_type": "code",
   "execution_count": 62,
   "id": "781037b4-c702-4557-8615-53327c5fc26c",
   "metadata": {},
   "outputs": [],
   "source": [
    "# user defined function\n",
    "def kirans_func():\n",
    "    print(\"Hey I am kiran AI\")"
   ]
  },
  {
   "cell_type": "code",
   "execution_count": 63,
   "id": "a77638bb-ac11-4ac0-88c9-69681f094bfb",
   "metadata": {},
   "outputs": [
    {
     "name": "stdout",
     "output_type": "stream",
     "text": [
      "Hey I am kiran AI\n"
     ]
    }
   ],
   "source": [
    "kirans_func()"
   ]
  },
  {
   "cell_type": "code",
   "execution_count": 66,
   "id": "179fe928-7b49-426a-9119-94987dddd347",
   "metadata": {},
   "outputs": [],
   "source": [
    "def security():\n",
    "    print(\"I check id cards\")\n",
    "\n",
    "def maths_department():\n",
    "    print(\"We check you number knowledge\")"
   ]
  },
  {
   "cell_type": "code",
   "execution_count": 67,
   "id": "1b54ff87-4398-4a48-b5a4-203d29f29dbf",
   "metadata": {},
   "outputs": [
    {
     "name": "stdout",
     "output_type": "stream",
     "text": [
      "We check you number knowledge\n"
     ]
    }
   ],
   "source": [
    "maths_department()"
   ]
  },
  {
   "cell_type": "code",
   "execution_count": 68,
   "id": "eceff72d-0dd9-4c3d-b744-37ccdbe53e2e",
   "metadata": {},
   "outputs": [
    {
     "name": "stdout",
     "output_type": "stream",
     "text": [
      "I check id cards\n"
     ]
    }
   ],
   "source": [
    "security()"
   ]
  },
  {
   "cell_type": "code",
   "execution_count": null,
   "id": "c245ccc5-5c6e-4be6-8471-448c05910acb",
   "metadata": {},
   "outputs": [],
   "source": [
    "def function(param1, param2, param3,...):\n",
    "    # perform complex operation using the parms\n",
    "    return \"something"
   ]
  },
  {
   "cell_type": "code",
   "execution_count": 69,
   "id": "e1a67bd5-3fcf-412f-bb5e-113bcaec9247",
   "metadata": {},
   "outputs": [
    {
     "data": {
      "text/plain": [
       "11"
      ]
     },
     "execution_count": 69,
     "metadata": {},
     "output_type": "execute_result"
    }
   ],
   "source": [
    "def cal_summation(a, b):\n",
    "    c = a + b\n",
    "    return c\n",
    "cal_summation(5, 6)"
   ]
  },
  {
   "cell_type": "code",
   "execution_count": 70,
   "id": "78e40f5f-cf8c-4d51-af6f-266f97ed01d1",
   "metadata": {},
   "outputs": [],
   "source": [
    "s = cal_summation(11, 9)"
   ]
  },
  {
   "cell_type": "code",
   "execution_count": 71,
   "id": "a5c595f2-5148-4cef-9928-3a40d5282954",
   "metadata": {},
   "outputs": [
    {
     "name": "stdout",
     "output_type": "stream",
     "text": [
      "20\n"
     ]
    }
   ],
   "source": [
    "print(s)"
   ]
  },
  {
   "cell_type": "code",
   "execution_count": 72,
   "id": "d9d82dfd-ef9e-44f3-bca7-8e5fb9eb4724",
   "metadata": {},
   "outputs": [
    {
     "data": {
      "text/plain": [
       "20"
      ]
     },
     "execution_count": 72,
     "metadata": {},
     "output_type": "execute_result"
    }
   ],
   "source": [
    "s"
   ]
  },
  {
   "cell_type": "code",
   "execution_count": 73,
   "id": "66e049aa-acb2-4496-9b37-9e8a5699da7e",
   "metadata": {},
   "outputs": [
    {
     "ename": "TypeError",
     "evalue": "cal_summation() missing 1 required positional argument: 'b'",
     "output_type": "error",
     "traceback": [
      "\u001b[1;31m---------------------------------------------------------------------------\u001b[0m",
      "\u001b[1;31mTypeError\u001b[0m                                 Traceback (most recent call last)",
      "Cell \u001b[1;32mIn[73], line 1\u001b[0m\n\u001b[1;32m----> 1\u001b[0m s \u001b[38;5;241m=\u001b[39m \u001b[43mcal_summation\u001b[49m\u001b[43m(\u001b[49m\u001b[38;5;241;43m11\u001b[39;49m\u001b[43m)\u001b[49m\n",
      "\u001b[1;31mTypeError\u001b[0m: cal_summation() missing 1 required positional argument: 'b'"
     ]
    }
   ],
   "source": [
    "s = cal_summation(11)"
   ]
  },
  {
   "cell_type": "code",
   "execution_count": 74,
   "id": "575bd3bc-5d35-413d-9b1d-61c3b2fd619e",
   "metadata": {},
   "outputs": [
    {
     "ename": "TypeError",
     "evalue": "cal_summation() takes 2 positional arguments but 3 were given",
     "output_type": "error",
     "traceback": [
      "\u001b[1;31m---------------------------------------------------------------------------\u001b[0m",
      "\u001b[1;31mTypeError\u001b[0m                                 Traceback (most recent call last)",
      "Cell \u001b[1;32mIn[74], line 1\u001b[0m\n\u001b[1;32m----> 1\u001b[0m \u001b[43mcal_summation\u001b[49m\u001b[43m(\u001b[49m\u001b[38;5;241;43m5\u001b[39;49m\u001b[43m,\u001b[49m\u001b[43m \u001b[49m\u001b[38;5;241;43m4\u001b[39;49m\u001b[43m,\u001b[49m\u001b[43m \u001b[49m\u001b[38;5;241;43m7\u001b[39;49m\u001b[43m)\u001b[49m\n",
      "\u001b[1;31mTypeError\u001b[0m: cal_summation() takes 2 positional arguments but 3 were given"
     ]
    }
   ],
   "source": [
    "cal_summation(5, 4, 7)"
   ]
  },
  {
   "cell_type": "code",
   "execution_count": 76,
   "id": "db25bfb3-f6e2-4dea-9e75-0d978492c15e",
   "metadata": {},
   "outputs": [
    {
     "name": "stdout",
     "output_type": "stream",
     "text": [
      "b 6\n"
     ]
    },
    {
     "data": {
      "text/plain": [
       "18"
      ]
     },
     "execution_count": 76,
     "metadata": {},
     "output_type": "execute_result"
    }
   ],
   "source": [
    "def cal_summation(a, b, c):\n",
    "    print(\"b\", b)\n",
    "    c = a + b + c\n",
    "    return c\n",
    "cal_summation(5, 6, 7)"
   ]
  },
  {
   "cell_type": "code",
   "execution_count": 77,
   "id": "fe8552bc-17f2-49e0-a697-c8339ad924ff",
   "metadata": {},
   "outputs": [
    {
     "name": "stdout",
     "output_type": "stream",
     "text": [
      "b 7\n"
     ]
    },
    {
     "data": {
      "text/plain": [
       "18"
      ]
     },
     "execution_count": 77,
     "metadata": {},
     "output_type": "execute_result"
    }
   ],
   "source": [
    "cal_summation(5, 7, 6)"
   ]
  },
  {
   "cell_type": "code",
   "execution_count": 78,
   "id": "ea1241e4-2095-435f-83c9-5d29d9facf62",
   "metadata": {},
   "outputs": [
    {
     "name": "stdout",
     "output_type": "stream",
     "text": [
      "b 23\n"
     ]
    },
    {
     "data": {
      "text/plain": [
       "33"
      ]
     },
     "execution_count": 78,
     "metadata": {},
     "output_type": "execute_result"
    }
   ],
   "source": [
    "cal_summation(b=23, a=10, c=0)"
   ]
  },
  {
   "cell_type": "code",
   "execution_count": null,
   "id": "6a842d15-441c-4373-820b-d91b26fb89ba",
   "metadata": {},
   "outputs": [],
   "source": []
  }
 ],
 "metadata": {
  "kernelspec": {
   "display_name": "Python 3 (ipykernel)",
   "language": "python",
   "name": "python3"
  },
  "language_info": {
   "codemirror_mode": {
    "name": "ipython",
    "version": 3
   },
   "file_extension": ".py",
   "mimetype": "text/x-python",
   "name": "python",
   "nbconvert_exporter": "python",
   "pygments_lexer": "ipython3",
   "version": "3.12.6"
  }
 },
 "nbformat": 4,
 "nbformat_minor": 5
}
