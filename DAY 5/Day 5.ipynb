{
 "cells": [
  {
   "cell_type": "code",
   "execution_count": 8,
   "id": "4fad63e2-709a-4ce8-b80e-2ede46f53d1a",
   "metadata": {},
   "outputs": [
    {
     "name": "stdin",
     "output_type": "stream",
     "text": [
      "Enter the single value to denote the range:  9\n"
     ]
    }
   ],
   "source": [
    "# 1, 4, 9, 16, 25, 36 ...\n",
    "end = int(input(\"Enter the single value to denote the range: \"))"
   ]
  },
  {
   "cell_type": "code",
   "execution_count": 2,
   "id": "ff0a9c16-7b04-4f01-8bda-cbc99a3f82ad",
   "metadata": {},
   "outputs": [
    {
     "data": {
      "text/plain": [
       "str"
      ]
     },
     "execution_count": 2,
     "metadata": {},
     "output_type": "execute_result"
    }
   ],
   "source": [
    "type(end)"
   ]
  },
  {
   "cell_type": "code",
   "execution_count": 3,
   "id": "68976a4e-081e-401c-82df-dbb76faea0b6",
   "metadata": {},
   "outputs": [
    {
     "data": {
      "text/plain": [
       "True"
      ]
     },
     "execution_count": 3,
     "metadata": {},
     "output_type": "execute_result"
    }
   ],
   "source": [
    "end.isalnum()"
   ]
  },
  {
   "cell_type": "code",
   "execution_count": 4,
   "id": "24399aa8-90ca-43a8-952d-c4dda0406559",
   "metadata": {},
   "outputs": [
    {
     "data": {
      "text/plain": [
       "int"
      ]
     },
     "execution_count": 4,
     "metadata": {},
     "output_type": "execute_result"
    }
   ],
   "source": [
    "type(int(end))"
   ]
  },
  {
   "cell_type": "code",
   "execution_count": 5,
   "id": "52b92810-70b3-4ee5-aa72-9653301e2e71",
   "metadata": {},
   "outputs": [
    {
     "data": {
      "text/plain": [
       "int"
      ]
     },
     "execution_count": 5,
     "metadata": {},
     "output_type": "execute_result"
    }
   ],
   "source": [
    "l = int(end)\n",
    "type(l)"
   ]
  },
  {
   "cell_type": "code",
   "execution_count": 6,
   "id": "af7a5c71-761c-471f-9b27-ebda472043b7",
   "metadata": {},
   "outputs": [
    {
     "name": "stdout",
     "output_type": "stream",
     "text": [
      "25\n"
     ]
    }
   ],
   "source": [
    "print(l)"
   ]
  },
  {
   "cell_type": "code",
   "execution_count": 11,
   "id": "d019c08d-d311-423c-8795-acf723e971a9",
   "metadata": {},
   "outputs": [
    {
     "name": "stdin",
     "output_type": "stream",
     "text": [
      "Enter the single value to denote the range:  9\n"
     ]
    },
    {
     "name": "stdout",
     "output_type": "stream",
     "text": [
      "1 4 9 16 25 36 49 64 81 "
     ]
    }
   ],
   "source": [
    "end = int(input(\"Enter the single value to denote the range: \"))\n",
    "for i in range(1, end+1):\n",
    "    print(i**2, end=\" \")"
   ]
  },
  {
   "cell_type": "code",
   "execution_count": null,
   "id": "c280f1b3-9744-4777-9094-704d7cd860f4",
   "metadata": {},
   "outputs": [],
   "source": [
    "# Print the above sequence of numbers using while loop. 5 mins\n",
    "# 7:19-7:24"
   ]
  },
  {
   "cell_type": "code",
   "execution_count": 13,
   "id": "6483c25e-196d-4094-aabe-ca9b01f143d4",
   "metadata": {},
   "outputs": [
    {
     "name": "stdin",
     "output_type": "stream",
     "text": [
      "Enter a number:  9\n"
     ]
    },
    {
     "name": "stdout",
     "output_type": "stream",
     "text": [
      "1 4 9 16 25 36 49 64 81 "
     ]
    }
   ],
   "source": [
    "end = int(input(\"Enter a number: \"))\n",
    "i = 1  \n",
    "while i <= end:\n",
    "    print(f\"{i**2}\",end=\" \")\n",
    "    i += 1"
   ]
  },
  {
   "cell_type": "code",
   "execution_count": 20,
   "id": "80e42bb1-1a29-4369-83a5-9896e3bfc40c",
   "metadata": {},
   "outputs": [],
   "source": [
    "# functions\n",
    "def fucnt(start_r, end_r):\n",
    "    if isinstance(start_r, str):\n",
    "        start_r = int(start_r)\n",
    "    if isinstance(end_r, str):\n",
    "        end_r = int(end_r)\n",
    "    for i in range(start_r, end_r+1):\n",
    "        print(f\"{i**3}\", end=\",\")"
   ]
  },
  {
   "cell_type": "code",
   "execution_count": 16,
   "id": "361b8fcd-d095-4b82-a5ed-ed1e7465252f",
   "metadata": {},
   "outputs": [
    {
     "name": "stdout",
     "output_type": "stream",
     "text": [
      "8,27,64,125,216,343,512,729,"
     ]
    }
   ],
   "source": [
    "fucnt(2, 9)"
   ]
  },
  {
   "cell_type": "code",
   "execution_count": 21,
   "id": "9a3a9ed5-0b5c-46e4-a664-7164ec93d4c5",
   "metadata": {},
   "outputs": [
    {
     "name": "stdout",
     "output_type": "stream",
     "text": [
      "8,27,64,125,216,343,512,729,"
     ]
    }
   ],
   "source": [
    "fucnt(\"2\", 9)"
   ]
  },
  {
   "cell_type": "code",
   "execution_count": 18,
   "id": "3e52bdb6-ac8c-4d2c-8f09-3bf531550ac7",
   "metadata": {},
   "outputs": [
    {
     "data": {
      "text/plain": [
       "True"
      ]
     },
     "execution_count": 18,
     "metadata": {},
     "output_type": "execute_result"
    }
   ],
   "source": [
    "isinstance(\"2\", str)"
   ]
  },
  {
   "cell_type": "code",
   "execution_count": 19,
   "id": "466a2f71-07b3-4ea8-bbfd-106995c37b56",
   "metadata": {},
   "outputs": [
    {
     "data": {
      "text/plain": [
       "False"
      ]
     },
     "execution_count": 19,
     "metadata": {},
     "output_type": "execute_result"
    }
   ],
   "source": [
    "isinstance(2, str)"
   ]
  },
  {
   "cell_type": "code",
   "execution_count": 23,
   "id": "a24c1be0-e6b9-4e56-a075-758ddc02428a",
   "metadata": {},
   "outputs": [],
   "source": [
    "def fucnt(start_r, end_r):\n",
    "    k = 2\n",
    "    if isinstance(start_r, str):\n",
    "        start_r = int(start_r)\n",
    "    if isinstance(end_r, str):\n",
    "        end_r = int(end_r)\n",
    "    for i in range(start_r, end_r+1):\n",
    "        print(f\"{i**3}\", end=\",\")\n",
    "    print()\n",
    "    print(k)\n",
    "# print(k)"
   ]
  },
  {
   "cell_type": "code",
   "execution_count": 24,
   "id": "cc1caa2c-1c3a-418e-a3b4-d0906906f179",
   "metadata": {},
   "outputs": [
    {
     "name": "stdout",
     "output_type": "stream",
     "text": [
      "0,1,\n",
      "2\n"
     ]
    }
   ],
   "source": [
    "fucnt(\"0\", \"1\")"
   ]
  },
  {
   "cell_type": "code",
   "execution_count": 25,
   "id": "c25dab13-9358-4be5-a0dc-0a0163ed9051",
   "metadata": {},
   "outputs": [
    {
     "ename": "NameError",
     "evalue": "name 'k' is not defined",
     "output_type": "error",
     "traceback": [
      "\u001b[1;31m---------------------------------------------------------------------------\u001b[0m",
      "\u001b[1;31mNameError\u001b[0m                                 Traceback (most recent call last)",
      "Cell \u001b[1;32mIn[25], line 1\u001b[0m\n\u001b[1;32m----> 1\u001b[0m \u001b[38;5;28mprint\u001b[39m(\u001b[43mk\u001b[49m)\n",
      "\u001b[1;31mNameError\u001b[0m: name 'k' is not defined"
     ]
    }
   ],
   "source": [
    "print(k)"
   ]
  },
  {
   "cell_type": "code",
   "execution_count": 26,
   "id": "6b0581ac-1fc7-4b41-a975-f6addb75395e",
   "metadata": {},
   "outputs": [],
   "source": [
    "l_outer = 25\n",
    "def funct2():\n",
    "    l_inner = 36\n",
    "    print(l_outer)\n",
    "    print(l_inner)"
   ]
  },
  {
   "cell_type": "code",
   "execution_count": 27,
   "id": "763df6fb-66ae-4133-ab06-727d1488a2cd",
   "metadata": {},
   "outputs": [
    {
     "name": "stdout",
     "output_type": "stream",
     "text": [
      "25\n",
      "36\n"
     ]
    }
   ],
   "source": [
    "funct2()"
   ]
  },
  {
   "cell_type": "code",
   "execution_count": 28,
   "id": "07ce1c94-5fb2-4ed1-94f8-f4a39b5b1270",
   "metadata": {},
   "outputs": [
    {
     "ename": "NameError",
     "evalue": "name 'l_inner' is not defined",
     "output_type": "error",
     "traceback": [
      "\u001b[1;31m---------------------------------------------------------------------------\u001b[0m",
      "\u001b[1;31mNameError\u001b[0m                                 Traceback (most recent call last)",
      "Cell \u001b[1;32mIn[28], line 1\u001b[0m\n\u001b[1;32m----> 1\u001b[0m \u001b[38;5;28mprint\u001b[39m(\u001b[43ml_inner\u001b[49m)\n",
      "\u001b[1;31mNameError\u001b[0m: name 'l_inner' is not defined"
     ]
    }
   ],
   "source": [
    "print(l_inner)"
   ]
  },
  {
   "cell_type": "code",
   "execution_count": 34,
   "id": "5373485f-a839-4fc0-a97e-fb2887bf09fc",
   "metadata": {},
   "outputs": [],
   "source": [
    "# Lets make our own isinstance function\n",
    "# isinstance checks the type of the variable or data which is on the first arg with the second arg\n",
    "def custom_data_type_check(data, data_type):\n",
    "    if type(data) == data_type:\n",
    "        return True\n",
    "    else:\n",
    "        return False"
   ]
  },
  {
   "cell_type": "code",
   "execution_count": 35,
   "id": "b8a103c0-cc90-4cde-8710-2f0e4fb03738",
   "metadata": {},
   "outputs": [
    {
     "data": {
      "text/plain": [
       "True"
      ]
     },
     "execution_count": 35,
     "metadata": {},
     "output_type": "execute_result"
    }
   ],
   "source": [
    "custom_data_type_check(2 + 2j, complex)"
   ]
  },
  {
   "cell_type": "code",
   "execution_count": 36,
   "id": "88091562-5f4b-4f45-9e20-754245fd926b",
   "metadata": {},
   "outputs": [
    {
     "data": {
      "text/plain": [
       "False"
      ]
     },
     "execution_count": 36,
     "metadata": {},
     "output_type": "execute_result"
    }
   ],
   "source": [
    "custom_data_type_check(\"kiran\", int)"
   ]
  },
  {
   "cell_type": "code",
   "execution_count": 38,
   "id": "7504125d-52df-493a-8b22-390497e21dd2",
   "metadata": {},
   "outputs": [
    {
     "data": {
      "text/plain": [
       "<function __main__.custom_data_type_check(data, data_type)>"
      ]
     },
     "execution_count": 38,
     "metadata": {},
     "output_type": "execute_result"
    }
   ],
   "source": [
    "custom_data_type_check"
   ]
  },
  {
   "cell_type": "code",
   "execution_count": 32,
   "id": "3a9cfaf4-d225-4bb5-959c-3e5987e07b0a",
   "metadata": {},
   "outputs": [
    {
     "data": {
      "text/plain": [
       "False"
      ]
     },
     "execution_count": 32,
     "metadata": {},
     "output_type": "execute_result"
    }
   ],
   "source": [
    "type(\"5\") == int"
   ]
  },
  {
   "cell_type": "code",
   "execution_count": 33,
   "id": "0f884754-f733-4d77-874f-bad794308dbd",
   "metadata": {},
   "outputs": [
    {
     "data": {
      "text/plain": [
       "True"
      ]
     },
     "execution_count": 33,
     "metadata": {},
     "output_type": "execute_result"
    }
   ],
   "source": [
    "type(5) == int"
   ]
  },
  {
   "cell_type": "code",
   "execution_count": null,
   "id": "49873007-1529-4e5b-9896-2453007d2e7e",
   "metadata": {},
   "outputs": [],
   "source": [
    "# HW: make a function which takes exatcly one argument and returns the type of that argument\n",
    "get_type_value(\"hey\") --> str"
   ]
  },
  {
   "cell_type": "code",
   "execution_count": 39,
   "id": "a51bc177-a10d-4c1c-b954-049ba31e490f",
   "metadata": {},
   "outputs": [
    {
     "data": {
      "text/plain": [
       "6"
      ]
     },
     "execution_count": 39,
     "metadata": {},
     "output_type": "execute_result"
    }
   ],
   "source": [
    "# use and throw function\n",
    "# headless fucntion\n",
    "# lambda function\n",
    "a = 2\n",
    "b = 3\n",
    "(lambda a, b: a*b)(a,b)"
   ]
  },
  {
   "cell_type": "code",
   "execution_count": null,
   "id": "82fcae68-6fc4-4102-9295-5f3eaccf727e",
   "metadata": {},
   "outputs": [],
   "source": [
    "lambda <arguments>: <return value>"
   ]
  },
  {
   "cell_type": "code",
   "execution_count": 42,
   "id": "a6b8eab2-9a3c-4ce1-808b-232aad656692",
   "metadata": {},
   "outputs": [
    {
     "data": {
      "text/plain": [
       "2"
      ]
     },
     "execution_count": 42,
     "metadata": {},
     "output_type": "execute_result"
    }
   ],
   "source": [
    "(lambda a, b: a-b)(5,b)"
   ]
  },
  {
   "cell_type": "code",
   "execution_count": 43,
   "id": "ed94ec6e-a369-4357-a1a9-1b5b73304054",
   "metadata": {},
   "outputs": [],
   "source": [
    "#HW:2 Do google search on how map and filter functions work"
   ]
  },
  {
   "cell_type": "code",
   "execution_count": null,
   "id": "30a27e93-e3d0-4bc6-b7eb-49420e8104a8",
   "metadata": {},
   "outputs": [],
   "source": [
    "# Class object"
   ]
  },
  {
   "cell_type": "code",
   "execution_count": 44,
   "id": "84e276f6-9963-4cd2-a1b0-c6dfed95793c",
   "metadata": {
    "collapsed": true,
    "jupyter": {
     "outputs_hidden": true
    }
   },
   "outputs": [
    {
     "name": "stdout",
     "output_type": "stream",
     "text": [
      "Help on int object:\n",
      "\n",
      "class int(object)\n",
      " |  int([x]) -> integer\n",
      " |  int(x, base=10) -> integer\n",
      " |\n",
      " |  Convert a number or string to an integer, or return 0 if no arguments\n",
      " |  are given.  If x is a number, return x.__int__().  For floating-point\n",
      " |  numbers, this truncates towards zero.\n",
      " |\n",
      " |  If x is not a number or if base is given, then x must be a string,\n",
      " |  bytes, or bytearray instance representing an integer literal in the\n",
      " |  given base.  The literal can be preceded by '+' or '-' and be surrounded\n",
      " |  by whitespace.  The base defaults to 10.  Valid bases are 0 and 2-36.\n",
      " |  Base 0 means to interpret the base from the string as an integer literal.\n",
      " |  >>> int('0b100', base=0)\n",
      " |  4\n",
      " |\n",
      " |  Built-in subclasses:\n",
      " |      bool\n",
      " |\n",
      " |  Methods defined here:\n",
      " |\n",
      " |  __abs__(self, /)\n",
      " |      abs(self)\n",
      " |\n",
      " |  __add__(self, value, /)\n",
      " |      Return self+value.\n",
      " |\n",
      " |  __and__(self, value, /)\n",
      " |      Return self&value.\n",
      " |\n",
      " |  __bool__(self, /)\n",
      " |      True if self else False\n",
      " |\n",
      " |  __ceil__(...)\n",
      " |      Ceiling of an Integral returns itself.\n",
      " |\n",
      " |  __divmod__(self, value, /)\n",
      " |      Return divmod(self, value).\n",
      " |\n",
      " |  __eq__(self, value, /)\n",
      " |      Return self==value.\n",
      " |\n",
      " |  __float__(self, /)\n",
      " |      float(self)\n",
      " |\n",
      " |  __floor__(...)\n",
      " |      Flooring an Integral returns itself.\n",
      " |\n",
      " |  __floordiv__(self, value, /)\n",
      " |      Return self//value.\n",
      " |\n",
      " |  __format__(self, format_spec, /)\n",
      " |      Convert to a string according to format_spec.\n",
      " |\n",
      " |  __ge__(self, value, /)\n",
      " |      Return self>=value.\n",
      " |\n",
      " |  __getattribute__(self, name, /)\n",
      " |      Return getattr(self, name).\n",
      " |\n",
      " |  __getnewargs__(self, /)\n",
      " |\n",
      " |  __gt__(self, value, /)\n",
      " |      Return self>value.\n",
      " |\n",
      " |  __hash__(self, /)\n",
      " |      Return hash(self).\n",
      " |\n",
      " |  __index__(self, /)\n",
      " |      Return self converted to an integer, if self is suitable for use as an index into a list.\n",
      " |\n",
      " |  __int__(self, /)\n",
      " |      int(self)\n",
      " |\n",
      " |  __invert__(self, /)\n",
      " |      ~self\n",
      " |\n",
      " |  __le__(self, value, /)\n",
      " |      Return self<=value.\n",
      " |\n",
      " |  __lshift__(self, value, /)\n",
      " |      Return self<<value.\n",
      " |\n",
      " |  __lt__(self, value, /)\n",
      " |      Return self<value.\n",
      " |\n",
      " |  __mod__(self, value, /)\n",
      " |      Return self%value.\n",
      " |\n",
      " |  __mul__(self, value, /)\n",
      " |      Return self*value.\n",
      " |\n",
      " |  __ne__(self, value, /)\n",
      " |      Return self!=value.\n",
      " |\n",
      " |  __neg__(self, /)\n",
      " |      -self\n",
      " |\n",
      " |  __or__(self, value, /)\n",
      " |      Return self|value.\n",
      " |\n",
      " |  __pos__(self, /)\n",
      " |      +self\n",
      " |\n",
      " |  __pow__(self, value, mod=None, /)\n",
      " |      Return pow(self, value, mod).\n",
      " |\n",
      " |  __radd__(self, value, /)\n",
      " |      Return value+self.\n",
      " |\n",
      " |  __rand__(self, value, /)\n",
      " |      Return value&self.\n",
      " |\n",
      " |  __rdivmod__(self, value, /)\n",
      " |      Return divmod(value, self).\n",
      " |\n",
      " |  __repr__(self, /)\n",
      " |      Return repr(self).\n",
      " |\n",
      " |  __rfloordiv__(self, value, /)\n",
      " |      Return value//self.\n",
      " |\n",
      " |  __rlshift__(self, value, /)\n",
      " |      Return value<<self.\n",
      " |\n",
      " |  __rmod__(self, value, /)\n",
      " |      Return value%self.\n",
      " |\n",
      " |  __rmul__(self, value, /)\n",
      " |      Return value*self.\n",
      " |\n",
      " |  __ror__(self, value, /)\n",
      " |      Return value|self.\n",
      " |\n",
      " |  __round__(...)\n",
      " |      Rounding an Integral returns itself.\n",
      " |\n",
      " |      Rounding with an ndigits argument also returns an integer.\n",
      " |\n",
      " |  __rpow__(self, value, mod=None, /)\n",
      " |      Return pow(value, self, mod).\n",
      " |\n",
      " |  __rrshift__(self, value, /)\n",
      " |      Return value>>self.\n",
      " |\n",
      " |  __rshift__(self, value, /)\n",
      " |      Return self>>value.\n",
      " |\n",
      " |  __rsub__(self, value, /)\n",
      " |      Return value-self.\n",
      " |\n",
      " |  __rtruediv__(self, value, /)\n",
      " |      Return value/self.\n",
      " |\n",
      " |  __rxor__(self, value, /)\n",
      " |      Return value^self.\n",
      " |\n",
      " |  __sizeof__(self, /)\n",
      " |      Returns size in memory, in bytes.\n",
      " |\n",
      " |  __sub__(self, value, /)\n",
      " |      Return self-value.\n",
      " |\n",
      " |  __truediv__(self, value, /)\n",
      " |      Return self/value.\n",
      " |\n",
      " |  __trunc__(...)\n",
      " |      Truncating an Integral returns itself.\n",
      " |\n",
      " |  __xor__(self, value, /)\n",
      " |      Return self^value.\n",
      " |\n",
      " |  as_integer_ratio(self, /)\n",
      " |      Return a pair of integers, whose ratio is equal to the original int.\n",
      " |\n",
      " |      The ratio is in lowest terms and has a positive denominator.\n",
      " |\n",
      " |      >>> (10).as_integer_ratio()\n",
      " |      (10, 1)\n",
      " |      >>> (-10).as_integer_ratio()\n",
      " |      (-10, 1)\n",
      " |      >>> (0).as_integer_ratio()\n",
      " |      (0, 1)\n",
      " |\n",
      " |  bit_count(self, /)\n",
      " |      Number of ones in the binary representation of the absolute value of self.\n",
      " |\n",
      " |      Also known as the population count.\n",
      " |\n",
      " |      >>> bin(13)\n",
      " |      '0b1101'\n",
      " |      >>> (13).bit_count()\n",
      " |      3\n",
      " |\n",
      " |  bit_length(self, /)\n",
      " |      Number of bits necessary to represent self in binary.\n",
      " |\n",
      " |      >>> bin(37)\n",
      " |      '0b100101'\n",
      " |      >>> (37).bit_length()\n",
      " |      6\n",
      " |\n",
      " |  conjugate(...)\n",
      " |      Returns self, the complex conjugate of any int.\n",
      " |\n",
      " |  is_integer(self, /)\n",
      " |      Returns True. Exists for duck type compatibility with float.is_integer.\n",
      " |\n",
      " |  to_bytes(self, /, length=1, byteorder='big', *, signed=False)\n",
      " |      Return an array of bytes representing an integer.\n",
      " |\n",
      " |      length\n",
      " |        Length of bytes object to use.  An OverflowError is raised if the\n",
      " |        integer is not representable with the given number of bytes.  Default\n",
      " |        is length 1.\n",
      " |      byteorder\n",
      " |        The byte order used to represent the integer.  If byteorder is 'big',\n",
      " |        the most significant byte is at the beginning of the byte array.  If\n",
      " |        byteorder is 'little', the most significant byte is at the end of the\n",
      " |        byte array.  To request the native byte order of the host system, use\n",
      " |        `sys.byteorder' as the byte order value.  Default is to use 'big'.\n",
      " |      signed\n",
      " |        Determines whether two's complement is used to represent the integer.\n",
      " |        If signed is False and a negative integer is given, an OverflowError\n",
      " |        is raised.\n",
      " |\n",
      " |  ----------------------------------------------------------------------\n",
      " |  Class methods defined here:\n",
      " |\n",
      " |  from_bytes(bytes, byteorder='big', *, signed=False)\n",
      " |      Return the integer represented by the given array of bytes.\n",
      " |\n",
      " |      bytes\n",
      " |        Holds the array of bytes to convert.  The argument must either\n",
      " |        support the buffer protocol or be an iterable object producing bytes.\n",
      " |        Bytes and bytearray are examples of built-in objects that support the\n",
      " |        buffer protocol.\n",
      " |      byteorder\n",
      " |        The byte order used to represent the integer.  If byteorder is 'big',\n",
      " |        the most significant byte is at the beginning of the byte array.  If\n",
      " |        byteorder is 'little', the most significant byte is at the end of the\n",
      " |        byte array.  To request the native byte order of the host system, use\n",
      " |        `sys.byteorder' as the byte order value.  Default is to use 'big'.\n",
      " |      signed\n",
      " |        Indicates whether two's complement is used to represent the integer.\n",
      " |\n",
      " |  ----------------------------------------------------------------------\n",
      " |  Static methods defined here:\n",
      " |\n",
      " |  __new__(*args, **kwargs)\n",
      " |      Create and return a new object.  See help(type) for accurate signature.\n",
      " |\n",
      " |  ----------------------------------------------------------------------\n",
      " |  Data descriptors defined here:\n",
      " |\n",
      " |  denominator\n",
      " |      the denominator of a rational number in lowest terms\n",
      " |\n",
      " |  imag\n",
      " |      the imaginary part of a complex number\n",
      " |\n",
      " |  numerator\n",
      " |      the numerator of a rational number in lowest terms\n",
      " |\n",
      " |  real\n",
      " |      the real part of a complex number\n",
      "\n"
     ]
    }
   ],
   "source": [
    "help(2)"
   ]
  },
  {
   "cell_type": "code",
   "execution_count": 48,
   "id": "fe5fdf3c-8b9f-4276-81b7-04ed0336cac8",
   "metadata": {},
   "outputs": [],
   "source": [
    "class Employee:\n",
    "    def __init__(self, name, designation, salary, mgr):\n",
    "        self.name = name\n",
    "        self.designation = designation\n",
    "        self.salary = salary\n",
    "        self.manager = mgr"
   ]
  },
  {
   "cell_type": "code",
   "execution_count": 49,
   "id": "218b062e-2a64-4bae-b213-8bb2eb2ed444",
   "metadata": {},
   "outputs": [],
   "source": [
    "ceo = Employee(\"Anamika\", \"CEO\", 5000000000, \"Owner\")"
   ]
  },
  {
   "cell_type": "code",
   "execution_count": 50,
   "id": "c4561426-2351-4a9f-95ab-8f4d867247d5",
   "metadata": {},
   "outputs": [
    {
     "data": {
      "text/plain": [
       "'Anamika'"
      ]
     },
     "execution_count": 50,
     "metadata": {},
     "output_type": "execute_result"
    }
   ],
   "source": [
    "ceo.name"
   ]
  },
  {
   "cell_type": "code",
   "execution_count": 51,
   "id": "571d3078-a133-49a4-9198-9b8d35568625",
   "metadata": {},
   "outputs": [
    {
     "data": {
      "text/plain": [
       "'CEO'"
      ]
     },
     "execution_count": 51,
     "metadata": {},
     "output_type": "execute_result"
    }
   ],
   "source": [
    "ceo.designation"
   ]
  },
  {
   "cell_type": "code",
   "execution_count": 52,
   "id": "a4d09193-3d9b-4110-8160-e2b5e364df56",
   "metadata": {},
   "outputs": [
    {
     "data": {
      "text/plain": [
       "__main__.Employee"
      ]
     },
     "execution_count": 52,
     "metadata": {},
     "output_type": "execute_result"
    }
   ],
   "source": [
    "type(ceo)"
   ]
  },
  {
   "cell_type": "code",
   "execution_count": 53,
   "id": "bdca8501-da0c-48b2-92ae-5aee749a3942",
   "metadata": {},
   "outputs": [],
   "source": [
    "obj2 = Employee(\"Kiran\", \"CTO\", 500000000, \"CEO\")"
   ]
  },
  {
   "cell_type": "code",
   "execution_count": 54,
   "id": "17db5f14-99fd-424e-b91d-789894d6a725",
   "metadata": {},
   "outputs": [
    {
     "data": {
      "text/plain": [
       "'Kiran'"
      ]
     },
     "execution_count": 54,
     "metadata": {},
     "output_type": "execute_result"
    }
   ],
   "source": [
    "obj2.name"
   ]
  },
  {
   "cell_type": "code",
   "execution_count": 55,
   "id": "dd914d10-2576-468c-af4b-3793007347ac",
   "metadata": {},
   "outputs": [
    {
     "data": {
      "text/plain": [
       "500000000"
      ]
     },
     "execution_count": 55,
     "metadata": {},
     "output_type": "execute_result"
    }
   ],
   "source": [
    "obj2.salary"
   ]
  },
  {
   "cell_type": "code",
   "execution_count": 57,
   "id": "086f485d-3c55-4969-9d36-bb40e379b230",
   "metadata": {},
   "outputs": [
    {
     "data": {
      "text/plain": [
       "mappingproxy({'__module__': '__main__',\n",
       "              '__init__': <function __main__.Employee.__init__(self, name, designation, salary, mgr)>,\n",
       "              '__dict__': <attribute '__dict__' of 'Employee' objects>,\n",
       "              '__weakref__': <attribute '__weakref__' of 'Employee' objects>,\n",
       "              '__doc__': None})"
      ]
     },
     "execution_count": 57,
     "metadata": {},
     "output_type": "execute_result"
    }
   ],
   "source": [
    "Employee.__dict__"
   ]
  },
  {
   "cell_type": "code",
   "execution_count": 58,
   "id": "9d652a7f-f368-4f5a-941e-884dcf66a84d",
   "metadata": {},
   "outputs": [
    {
     "name": "stdout",
     "output_type": "stream",
     "text": [
      "Help on class Employee in module __main__:\n",
      "\n",
      "class Employee(builtins.object)\n",
      " |  Employee(name, designation, salary, mgr)\n",
      " |\n",
      " |  Methods defined here:\n",
      " |\n",
      " |  __init__(self, name, designation, salary, mgr)\n",
      " |      Initialize self.  See help(type(self)) for accurate signature.\n",
      " |\n",
      " |  ----------------------------------------------------------------------\n",
      " |  Data descriptors defined here:\n",
      " |\n",
      " |  __dict__\n",
      " |      dictionary for instance variables\n",
      " |\n",
      " |  __weakref__\n",
      " |      list of weak references to the object\n",
      "\n"
     ]
    }
   ],
   "source": [
    "help(Employee)"
   ]
  },
  {
   "cell_type": "code",
   "execution_count": 59,
   "id": "9d5cb52a-39c4-4653-9f23-7f3b2fcfa8ea",
   "metadata": {},
   "outputs": [
    {
     "data": {
      "text/plain": [
       "{'name': 'Kiran', 'designation': 'CTO', 'salary': 500000000, 'manager': 'CEO'}"
      ]
     },
     "execution_count": 59,
     "metadata": {},
     "output_type": "execute_result"
    }
   ],
   "source": [
    "obj2.__dict__"
   ]
  },
  {
   "cell_type": "code",
   "execution_count": 60,
   "id": "58b2616e-91e0-472d-816e-4a1ae6a1d087",
   "metadata": {},
   "outputs": [
    {
     "data": {
      "text/plain": [
       "{'name': 'Anamika',\n",
       " 'designation': 'CEO',\n",
       " 'salary': 5000000000,\n",
       " 'manager': 'Owner'}"
      ]
     },
     "execution_count": 60,
     "metadata": {},
     "output_type": "execute_result"
    }
   ],
   "source": [
    "ceo.__dict__"
   ]
  },
  {
   "cell_type": "code",
   "execution_count": 61,
   "id": "89bc6c6c-5f2c-4957-97c8-e656805de860",
   "metadata": {},
   "outputs": [],
   "source": [
    "class Organism:\n",
    "    def __init__(self, blood_clr, eyes, cells, legs):\n",
    "        self.blood_color = blood_clr\n",
    "        self.eys = eyes\n",
    "        self.cells = cells\n",
    "        self.legs = legs\n",
    "    def walk(self):\n",
    "        return True\n",
    "\n",
    "    def swim(self):\n",
    "        return True\n",
    "\n",
    "    def fly(self):\n",
    "        return False\n",
    "\n",
    "# object variables:\n",
    "    # blood_color, eyes, cells, legs\n",
    "# object methods:\n",
    "    # walk, swim, fly"
   ]
  },
  {
   "cell_type": "code",
   "execution_count": 62,
   "id": "260be6eb-b751-4973-a8b1-32e1841efb76",
   "metadata": {},
   "outputs": [],
   "source": [
    "orgn1 = Organism(\"Purple\", 8, \"multiicelular\", 6)"
   ]
  },
  {
   "cell_type": "code",
   "execution_count": 63,
   "id": "df61da71-2afc-4007-8eca-0372d303a6e1",
   "metadata": {},
   "outputs": [
    {
     "data": {
      "text/plain": [
       "True"
      ]
     },
     "execution_count": 63,
     "metadata": {},
     "output_type": "execute_result"
    }
   ],
   "source": [
    "orgn1.walk()"
   ]
  },
  {
   "cell_type": "code",
   "execution_count": 64,
   "id": "a821db0d-5c4d-4c8a-a16a-93aba162816a",
   "metadata": {},
   "outputs": [
    {
     "data": {
      "text/plain": [
       "True"
      ]
     },
     "execution_count": 64,
     "metadata": {},
     "output_type": "execute_result"
    }
   ],
   "source": [
    "orgn1.swim()"
   ]
  },
  {
   "cell_type": "code",
   "execution_count": 65,
   "id": "aa4db9c5-5c69-4040-86b6-3c507624a3c6",
   "metadata": {},
   "outputs": [
    {
     "data": {
      "text/plain": [
       "False"
      ]
     },
     "execution_count": 65,
     "metadata": {},
     "output_type": "execute_result"
    }
   ],
   "source": [
    "orgn1.fly()"
   ]
  },
  {
   "cell_type": "code",
   "execution_count": 66,
   "id": "2a9e64e9-c51d-4bf4-bf99-d2750b0553b9",
   "metadata": {},
   "outputs": [],
   "source": [
    "orgn2 = Organism(\"Light red\", 3, \"multiicelular\", 6)"
   ]
  },
  {
   "cell_type": "code",
   "execution_count": 68,
   "id": "3b3cee28-74dd-4ee4-b2ea-ca02f04d6175",
   "metadata": {},
   "outputs": [
    {
     "data": {
      "text/plain": [
       "3"
      ]
     },
     "execution_count": 68,
     "metadata": {},
     "output_type": "execute_result"
    }
   ],
   "source": [
    "orgn2.eys"
   ]
  },
  {
   "cell_type": "code",
   "execution_count": null,
   "id": "27e0081f-8d47-4c0d-8032-3866e9a25516",
   "metadata": {},
   "outputs": [],
   "source": []
  },
  {
   "cell_type": "code",
   "execution_count": null,
   "id": "f05fe387-5c12-4560-8020-0bcf2c007186",
   "metadata": {},
   "outputs": [],
   "source": [
    "# Inheritence\n",
    "# passing on the parental properties to children "
   ]
  },
  {
   "cell_type": "code",
   "execution_count": null,
   "id": "aa0d4297-b024-4d53-8013-dd5f000e504b",
   "metadata": {},
   "outputs": [],
   "source": [
    "# HW: make a function which takes exatcly one argument and returns the type of that argument\n",
    "get_type_value(\"hey\") --> str\n",
    "\n",
    "#HW:2 Do google search on how map and filter functions work"
   ]
  }
 ],
 "metadata": {
  "kernelspec": {
   "display_name": "Python 3 (ipykernel)",
   "language": "python",
   "name": "python3"
  },
  "language_info": {
   "codemirror_mode": {
    "name": "ipython",
    "version": 3
   },
   "file_extension": ".py",
   "mimetype": "text/x-python",
   "name": "python",
   "nbconvert_exporter": "python",
   "pygments_lexer": "ipython3",
   "version": "3.12.6"
  }
 },
 "nbformat": 4,
 "nbformat_minor": 5
}
