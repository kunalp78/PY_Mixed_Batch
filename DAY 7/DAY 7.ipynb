{
 "cells": [
  {
   "cell_type": "code",
   "execution_count": 1,
   "id": "140a0280-7612-4e31-aef5-97af5fb91060",
   "metadata": {},
   "outputs": [],
   "source": [
    "# Class : like a Blue print\n",
    "# and \n",
    "# object : copies of the structure created as class\n",
    "# Inheritence"
   ]
  },
  {
   "cell_type": "code",
   "execution_count": 6,
   "id": "f2820110-3492-4b64-91ed-ee21e8773f99",
   "metadata": {},
   "outputs": [
    {
     "data": {
      "text/plain": [
       "'{}{}{}{}{}{}{}{}{}{}{}{}{}{}{}{}{}{}{}{}{}{}{}{}{}{}{}{}{}{}'"
      ]
     },
     "execution_count": 6,
     "metadata": {},
     "output_type": "execute_result"
    }
   ],
   "source": [
    "\"{}\" * 30"
   ]
  },
  {
   "cell_type": "code",
   "execution_count": 104,
   "id": "7ad93c44-b9a7-482e-b0a3-d1da7db6b637",
   "metadata": {},
   "outputs": [],
   "source": [
    "# Employee Management system\n",
    "# CRUD operations on employees\n",
    "from time import sleep\n",
    "class Person:\n",
    "    def __init__(self, name, age):\n",
    "        self.name = name\n",
    "        self.age = age\n",
    "\n",
    "    def diplay_person_info(self):\n",
    "        print(f\"Name: {self.name}\")\n",
    "        print(f\"Age: {self.age}\")\n",
    "\n",
    "class Employee(Person):\n",
    "    \"\"\"\n",
    "    This is an Employee class\n",
    "    @methods\n",
    "    display_info:\n",
    "        display info method prints the information of the particular employee\n",
    "        It prints Employee ID, Employee name, Employee age, Department and salary\n",
    "    \"\"\"\n",
    "    def __init__(self, emp_id: int, name: str, age: int, department: str, salary: int):\n",
    "        super().__init__(name, age)\n",
    "        self.emp_id = emp_id\n",
    "        self.department = department\n",
    "        self.salary = salary\n",
    "\n",
    "    def display_info(self):\n",
    "        \"\"\"\n",
    "        display_info:\n",
    "            display info method prints the information of the particular employee\n",
    "            It prints Employee ID, Employee name, Employee age, Department and salary\n",
    "        arguments:\n",
    "            It takes the Employee object self\n",
    "        \"\"\"\n",
    "        print(f\"Employee ID: {self.emp_id}\")\n",
    "        super().diplay_person_info()\n",
    "        print(f\"Department: {self.department}\")\n",
    "        print(f\"Salary: {self.salary}\")\n",
    "        print(\"-\" * 30)\n",
    "\n",
    "class Manager(Employee):\n",
    "    def __init__(self, emp_id, name, age, department, salary, team_size):\n",
    "        super().__init__(emp_id, name, age, department, salary)\n",
    "        self.team_size = team_size\n",
    "\n",
    "    def display_info(self):\n",
    "        super().display_info()\n",
    "        print(f\"Team Size: {self.team_size}\")\n",
    "        print(\"-\" * 30)\n",
    "\n",
    "class inMemoryEmployeeRepository:\n",
    "    def __init__(self):\n",
    "        \"\"\"\n",
    "        {\n",
    "        \"526\": <employee_obj>,\n",
    "        \"527\": <employee_obj>\n",
    "        }\n",
    "        \"\"\"\n",
    "        self.employees = {}\n",
    "\n",
    "    def add_employee(self, employee: Employee):\n",
    "        if employee.emp_id in self.employees:\n",
    "            print(\"Employee ID already exists!!\")\n",
    "            return\n",
    "        self.employees[employee.emp_id] = employee\n",
    "\n",
    "    def get_employee(self, emp_id):\n",
    "        if emp_id in self.employees:\n",
    "            return self.employees[emp_id]\n",
    "        else:\n",
    "            return None\n",
    "\n",
    "    def delete_employee(self, emp_id):\n",
    "        if emp_id in self.employees:\n",
    "            del self.employees[emp_id]\n",
    "        else:\n",
    "            print(\"Employee not found\")\n",
    "            return\n",
    "\n",
    "    def list_all_employees(self):\n",
    "        return self.employees.values()\n",
    "\n",
    "class EmployeeManagementSystem:\n",
    "    def __init__(self):\n",
    "        self.repository = []\n",
    "\n",
    "    def add_employee(self):\n",
    "        emp_id = input(\"Enter Employee ID: \")\n",
    "        name = input(\"Enter Employee Name: \")\n",
    "        age = input(\"Enter Employee Age: \")\n",
    "        department = input(\"Enter Employee departement: \")\n",
    "        salary = input(\"Enter Salary: \")\n",
    "\n",
    "        employee_type = input(f\"Is {name} is a manager [y/Y]\")\n",
    "        if employee_type == 'y' or employee_type == \"Y\":\n",
    "            team_size = input(\"Enter the team size: \")\n",
    "            employee = Manager(emp_id, name, age, department, salary, team_size)\n",
    "        else:\n",
    "            employee = Employee(emp_id, name, age, department, salary)\n",
    "\n",
    "        self.repository.append(employee)\n",
    "        print(\"Employee added successfully!!\")\n",
    "\n",
    "    def delete_employee(self, emp_id):\n",
    "        employees = self.repository\n",
    "        for i in employees:\n",
    "            if i.emp_id == emp_id:\n",
    "                del i\n",
    "                print(\"Employee deleted Successfully\")\n",
    "                return\n",
    "\n",
    "    def view_employee(self, emp_id):\n",
    "        employees = self.repository\n",
    "        for i in employees:\n",
    "            if i.emp_id == emp_id:\n",
    "                i.display_info()\n",
    "                return\n",
    "        print(\"Employee not present in the database\")\n",
    "\n",
    "    def display_all_employee(self):\n",
    "        employees = self.repository\n",
    "        for i in employees:\n",
    "            i.display_info()\n",
    "            if \"team_size\" in i.__dict__:\n",
    "                print(f\"Team Size: {i.team_size}\")\n",
    "\n",
    "    def menu(self):\n",
    "        print(\"\\n------Employee Management system--------\")\n",
    "        while 1:\n",
    "            print(\"Menu\")\n",
    "            print(\"1. Add Employee\")\n",
    "            print(\"2. View Employee\")\n",
    "            print(\"3. View All Employee\")\n",
    "            print(\"4. Delete Employee\")\n",
    "            print(\"5. Exit\")\n",
    "\n",
    "            choice = input(\"Enter your choice: \")\n",
    "\n",
    "            if choice == \"1\":\n",
    "                self.add_employee()\n",
    "            elif choice == \"2\":\n",
    "                self.view_employee(input(\"Enter Employee ID: \"))\n",
    "            elif choice == \"3\":\n",
    "                self.display_all_employee()\n",
    "            elif choice == \"4\":\n",
    "                self.delete_employee(input(\"Enter Employee ID: \"))\n",
    "            elif choice == \"5\":\n",
    "                break\n",
    "            else:\n",
    "                print(\"Invalid Choice!! Enter choice between [1-3]\")\n",
    "                sleep(2)\n",
    "                print()\n",
    "\n",
    "                "
   ]
  },
  {
   "cell_type": "code",
   "execution_count": 105,
   "id": "b086b5f6-d720-4e2c-99ef-aebd9ee29a23",
   "metadata": {},
   "outputs": [],
   "source": [
    "system = EmployeeManagementSystem()"
   ]
  },
  {
   "cell_type": "code",
   "execution_count": 106,
   "id": "a1f78abd-2156-44de-9808-459ed0ed3e8b",
   "metadata": {},
   "outputs": [
    {
     "name": "stdout",
     "output_type": "stream",
     "text": [
      "\n",
      "------Employee Management system--------\n",
      "Menu\n",
      "1. Add Employee\n",
      "2. View Employee\n",
      "3. View All Employee\n",
      "4. Delete Employee\n",
      "5. Exit\n"
     ]
    },
    {
     "name": "stdin",
     "output_type": "stream",
     "text": [
      "Enter your choice:  1\n",
      "Enter Employee ID:  1\n",
      "Enter Employee Name:  fsdf\n",
      "Enter Employee Age:  255\n",
      "Enter Employee departement:  asfda\n",
      "Enter Salary:  2\n",
      "Is fsdf is a manager [y/Y] n\n"
     ]
    },
    {
     "name": "stdout",
     "output_type": "stream",
     "text": [
      "Employee added successfully!!\n",
      "Menu\n",
      "1. Add Employee\n",
      "2. View Employee\n",
      "3. View All Employee\n",
      "4. Delete Employee\n",
      "5. Exit\n"
     ]
    },
    {
     "name": "stdin",
     "output_type": "stream",
     "text": [
      "Enter your choice:  4\n",
      "Enter Employee ID:  1\n"
     ]
    },
    {
     "name": "stdout",
     "output_type": "stream",
     "text": [
      "Employee deleted Successfully\n",
      "Menu\n",
      "1. Add Employee\n",
      "2. View Employee\n",
      "3. View All Employee\n",
      "4. Delete Employee\n",
      "5. Exit\n"
     ]
    },
    {
     "name": "stdin",
     "output_type": "stream",
     "text": [
      "Enter your choice:  3\n"
     ]
    },
    {
     "name": "stdout",
     "output_type": "stream",
     "text": [
      "Employee ID: 1\n",
      "Name: fsdf\n",
      "Age: 255\n",
      "Department: asfda\n",
      "Salary: 2\n",
      "------------------------------\n",
      "Menu\n",
      "1. Add Employee\n",
      "2. View Employee\n",
      "3. View All Employee\n",
      "4. Delete Employee\n",
      "5. Exit\n"
     ]
    },
    {
     "name": "stdin",
     "output_type": "stream",
     "text": [
      "Enter your choice:  5\n"
     ]
    }
   ],
   "source": [
    "system.menu()"
   ]
  },
  {
   "cell_type": "code",
   "execution_count": null,
   "id": "5a13937f-0786-4a16-8044-149e7c44e6ae",
   "metadata": {},
   "outputs": [],
   "source": [
    "# HW: try Delete functionality and think about Update functionality"
   ]
  },
  {
   "cell_type": "code",
   "execution_count": null,
   "id": "d1a69fd0-c359-46a4-b00b-d7153d064212",
   "metadata": {},
   "outputs": [],
   "source": [
    "# SOLID"
   ]
  },
  {
   "cell_type": "code",
   "execution_count": null,
   "id": "40d783b9-0acd-487d-94f0-1642e9e8da02",
   "metadata": {},
   "outputs": [],
   "source": []
  },
  {
   "cell_type": "code",
   "execution_count": null,
   "id": "854a93a6-c973-42ee-aa8b-e54b9e18b7c0",
   "metadata": {},
   "outputs": [],
   "source": []
  },
  {
   "cell_type": "code",
   "execution_count": null,
   "id": "c0e2611a-e795-4bf5-9acf-35812c348885",
   "metadata": {},
   "outputs": [],
   "source": []
  },
  {
   "cell_type": "code",
   "execution_count": 36,
   "id": "1075f9e4-5bb8-42aa-8b2e-b52410d0b2db",
   "metadata": {},
   "outputs": [],
   "source": [
    "obj1 = Employee(12354, \"Kiran\", 23, \"Data Scientist\", 2500000)"
   ]
  },
  {
   "cell_type": "code",
   "execution_count": 81,
   "id": "6245aa82-2a15-4ea7-937f-0bc30366ee34",
   "metadata": {},
   "outputs": [
    {
     "data": {
      "text/plain": [
       "True"
      ]
     },
     "execution_count": 81,
     "metadata": {},
     "output_type": "execute_result"
    }
   ],
   "source": [
    "\"name\" in obj1.__dict__"
   ]
  },
  {
   "cell_type": "code",
   "execution_count": 44,
   "id": "aadc2b06-f694-43aa-8ad2-910feb11f826",
   "metadata": {},
   "outputs": [
    {
     "name": "stdout",
     "output_type": "stream",
     "text": [
      "Employee ID: 12354\n",
      "Name: Kiran\n",
      "Age: 23\n",
      "Department: Data Scientist\n",
      "Salary: 2500000\n",
      "------------------------------\n"
     ]
    }
   ],
   "source": [
    "obj1.display_info()"
   ]
  },
  {
   "cell_type": "code",
   "execution_count": 75,
   "id": "5a8c6a85-7abd-4523-8d4e-727f74da5570",
   "metadata": {},
   "outputs": [],
   "source": [
    "emp = EmployeeManagementSystem()"
   ]
  },
  {
   "cell_type": "code",
   "execution_count": 77,
   "id": "697d0784-cbf5-4302-a52c-0e9aea3b6ace",
   "metadata": {},
   "outputs": [
    {
     "name": "stdin",
     "output_type": "stream",
     "text": [
      "Enter Employee ID:  Kiran\n",
      "Enter Employee Name:  Kiran\n",
      "Enter Employee Age:  25\n",
      "Enter Employee departement:  Sales\n",
      "Enter Salary:  2500000000\n",
      "Is Kiran is a manager [y/Y] Y\n",
      "Enter the team size:  6\n"
     ]
    },
    {
     "name": "stdout",
     "output_type": "stream",
     "text": [
      "Employee added successfully!!\n"
     ]
    }
   ],
   "source": [
    "emp.add_employee()"
   ]
  },
  {
   "cell_type": "code",
   "execution_count": 78,
   "id": "d7f405c0-2afc-44b4-8353-5988209836b0",
   "metadata": {},
   "outputs": [
    {
     "name": "stdout",
     "output_type": "stream",
     "text": [
      "{'name': 'Martin', 'age': '25', 'emp_id': '1', 'department': 'IT', 'salary': '250000000', 'team_size': '5'}\n",
      "{'name': 'Kiran', 'age': '25', 'emp_id': 'Kiran', 'department': 'Sales', 'salary': '2500000000', 'team_size': '6'}\n"
     ]
    }
   ],
   "source": [
    "emp.display_all_employee()"
   ]
  },
  {
   "cell_type": "code",
   "execution_count": 72,
   "id": "2437163e-853e-41e2-8358-00be3b5d42a1",
   "metadata": {},
   "outputs": [
    {
     "name": "stdout",
     "output_type": "stream",
     "text": [
      "{'name': 'Kiran', 'age': '25', 'emp_id': '1', 'department': 'IT', 'salary': '5200000'}\n"
     ]
    },
    {
     "data": {
      "text/plain": [
       "{'name': 'Kiran',\n",
       " 'age': '25',\n",
       " 'emp_id': '1',\n",
       " 'department': 'IT',\n",
       " 'salary': '5200000'}"
      ]
     },
     "execution_count": 72,
     "metadata": {},
     "output_type": "execute_result"
    }
   ],
   "source": [
    "emp.display_all_employee().__dict__"
   ]
  },
  {
   "cell_type": "code",
   "execution_count": null,
   "id": "44be6b43-2149-4893-9566-adfdb4ad2fe3",
   "metadata": {},
   "outputs": [],
   "source": []
  },
  {
   "cell_type": "code",
   "execution_count": null,
   "id": "72f1e4ea-7e00-4243-a568-892997d1dd48",
   "metadata": {},
   "outputs": [],
   "source": []
  },
  {
   "cell_type": "code",
   "execution_count": null,
   "id": "d65f4b04-1c7f-4ddb-8f83-be387011fe1a",
   "metadata": {},
   "outputs": [],
   "source": []
  },
  {
   "cell_type": "markdown",
   "id": "f9c0212a-ce5b-4eed-90b9-5657ef302310",
   "metadata": {},
   "source": [
    "## "
   ]
  },
  {
   "cell_type": "code",
   "execution_count": 7,
   "id": "909bbe74-2810-44f1-8ea6-b57343ab3e12",
   "metadata": {},
   "outputs": [],
   "source": [
    "l = [\"ka\", \"sumit\"]\n",
    "l.remove(\"sumit\")"
   ]
  },
  {
   "cell_type": "code",
   "execution_count": 8,
   "id": "b5e92da6-d309-430c-818f-d29765355457",
   "metadata": {},
   "outputs": [
    {
     "data": {
      "text/plain": [
       "['ka']"
      ]
     },
     "execution_count": 8,
     "metadata": {},
     "output_type": "execute_result"
    }
   ],
   "source": [
    "l"
   ]
  },
  {
   "cell_type": "code",
   "execution_count": 9,
   "id": "b034b0bf-f073-4421-8eb4-80335873d927",
   "metadata": {},
   "outputs": [],
   "source": [
    "l = [\"ka\", \"sumit\"]\n",
    "del l[1]"
   ]
  },
  {
   "cell_type": "code",
   "execution_count": 10,
   "id": "517cdd1c-b55b-4178-ab69-deea73673d35",
   "metadata": {},
   "outputs": [
    {
     "data": {
      "text/plain": [
       "['ka']"
      ]
     },
     "execution_count": 10,
     "metadata": {},
     "output_type": "execute_result"
    }
   ],
   "source": [
    "l"
   ]
  },
  {
   "cell_type": "code",
   "execution_count": 11,
   "id": "2e4d6b46-5932-4722-b8c3-695e5c46a5c6",
   "metadata": {},
   "outputs": [],
   "source": [
    "del l"
   ]
  },
  {
   "cell_type": "code",
   "execution_count": 12,
   "id": "2547af80-d41f-4ca8-ab19-1b4fd7a65c66",
   "metadata": {},
   "outputs": [
    {
     "ename": "NameError",
     "evalue": "name 'l' is not defined",
     "output_type": "error",
     "traceback": [
      "\u001b[1;31m---------------------------------------------------------------------------\u001b[0m",
      "\u001b[1;31mNameError\u001b[0m                                 Traceback (most recent call last)",
      "Cell \u001b[1;32mIn[12], line 1\u001b[0m\n\u001b[1;32m----> 1\u001b[0m \u001b[43ml\u001b[49m\n",
      "\u001b[1;31mNameError\u001b[0m: name 'l' is not defined"
     ]
    }
   ],
   "source": [
    "l"
   ]
  },
  {
   "cell_type": "code",
   "execution_count": 13,
   "id": "de302144-65c2-4fd3-bc3c-8304227dfab8",
   "metadata": {},
   "outputs": [
    {
     "name": "stdout",
     "output_type": "stream",
     "text": [
      "{2: 'name', 5: 'kiran'}\n"
     ]
    }
   ],
   "source": [
    "d = {2: \"name\", 5: \"kiran\"}\n",
    "print(d)"
   ]
  },
  {
   "cell_type": "code",
   "execution_count": 14,
   "id": "1de42a11-ab7c-4e5f-b92d-c9f67dcfc84d",
   "metadata": {},
   "outputs": [
    {
     "name": "stdout",
     "output_type": "stream",
     "text": [
      "dict_values(['name', 'kiran'])\n"
     ]
    }
   ],
   "source": [
    "print(d.values())"
   ]
  },
  {
   "cell_type": "code",
   "execution_count": 15,
   "id": "f35e84a0-61d7-4300-bbb8-847a0a48387b",
   "metadata": {},
   "outputs": [
    {
     "data": {
      "text/plain": [
       "dict_keys([2, 5])"
      ]
     },
     "execution_count": 15,
     "metadata": {},
     "output_type": "execute_result"
    }
   ],
   "source": [
    "d.keys()"
   ]
  },
  {
   "cell_type": "code",
   "execution_count": null,
   "id": "fc3471af-c9d9-496a-9a47-0291348e0e75",
   "metadata": {},
   "outputs": [],
   "source": []
  }
 ],
 "metadata": {
  "kernelspec": {
   "display_name": "Python 3 (ipykernel)",
   "language": "python",
   "name": "python3"
  },
  "language_info": {
   "codemirror_mode": {
    "name": "ipython",
    "version": 3
   },
   "file_extension": ".py",
   "mimetype": "text/x-python",
   "name": "python",
   "nbconvert_exporter": "python",
   "pygments_lexer": "ipython3",
   "version": "3.12.6"
  }
 },
 "nbformat": 4,
 "nbformat_minor": 5
}
